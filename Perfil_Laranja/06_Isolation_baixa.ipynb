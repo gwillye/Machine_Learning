{
  "cells": [
    {
      "cell_type": "markdown",
      "id": "32956526-80bc-4505-82d4-f788561498ce",
      "metadata": {
        "id": "32956526-80bc-4505-82d4-f788561498ce",
        "tags": []
      },
      "source": [
        "# Importando dependencias"
      ]
    },
    {
      "cell_type": "code",
      "execution_count": null,
      "id": "3b258bcc-5b98-4c56-b623-f5a4ed906084",
      "metadata": {
        "id": "3b258bcc-5b98-4c56-b623-f5a4ed906084",
        "outputId": "2383b452-27a9-4ec4-cca1-e1c81de071d6",
        "tags": []
      },
      "outputs": [
        {
          "name": "stdout",
          "output_type": "stream",
          "text": [
            "Looking in indexes: https://pypi.org/simple, https://git.neoway.io/api/v4/projects/273/packages/pypi/simple\n",
            "Requirement already satisfied: gcsfs in /opt/conda/miniconda3/lib/python3.11/site-packages (2023.12.2.post1)\n",
            "Requirement already satisfied: aiohttp!=4.0.0a0,!=4.0.0a1 in /opt/conda/miniconda3/lib/python3.11/site-packages (from gcsfs) (3.11.16)\n",
            "Requirement already satisfied: decorator>4.1.2 in /opt/conda/miniconda3/lib/python3.11/site-packages (from gcsfs) (5.2.1)\n",
            "Requirement already satisfied: fsspec==2023.12.2 in /opt/conda/miniconda3/lib/python3.11/site-packages (from gcsfs) (2023.12.2)\n",
            "Requirement already satisfied: google-auth>=1.2 in /opt/conda/miniconda3/lib/python3.11/site-packages (from gcsfs) (2.38.0)\n",
            "Requirement already satisfied: google-auth-oauthlib in /opt/conda/miniconda3/lib/python3.11/site-packages (from gcsfs) (1.1.0)\n",
            "Requirement already satisfied: google-cloud-storage in /opt/conda/miniconda3/lib/python3.11/site-packages (from gcsfs) (2.13.0)\n",
            "Requirement already satisfied: requests in /opt/conda/miniconda3/lib/python3.11/site-packages (from gcsfs) (2.31.0)\n",
            "Requirement already satisfied: aiohappyeyeballs>=2.3.0 in /opt/conda/miniconda3/lib/python3.11/site-packages (from aiohttp!=4.0.0a0,!=4.0.0a1->gcsfs) (2.6.1)\n",
            "Requirement already satisfied: aiosignal>=1.1.2 in /opt/conda/miniconda3/lib/python3.11/site-packages (from aiohttp!=4.0.0a0,!=4.0.0a1->gcsfs) (1.3.2)\n",
            "Requirement already satisfied: attrs>=17.3.0 in /opt/conda/miniconda3/lib/python3.11/site-packages (from aiohttp!=4.0.0a0,!=4.0.0a1->gcsfs) (25.3.0)\n",
            "Requirement already satisfied: frozenlist>=1.1.1 in /opt/conda/miniconda3/lib/python3.11/site-packages (from aiohttp!=4.0.0a0,!=4.0.0a1->gcsfs) (1.5.0)\n",
            "Requirement already satisfied: multidict<7.0,>=4.5 in /opt/conda/miniconda3/lib/python3.11/site-packages (from aiohttp!=4.0.0a0,!=4.0.0a1->gcsfs) (6.3.2)\n",
            "Requirement already satisfied: propcache>=0.2.0 in /opt/conda/miniconda3/lib/python3.11/site-packages (from aiohttp!=4.0.0a0,!=4.0.0a1->gcsfs) (0.2.1)\n",
            "Requirement already satisfied: yarl<2.0,>=1.17.0 in /opt/conda/miniconda3/lib/python3.11/site-packages (from aiohttp!=4.0.0a0,!=4.0.0a1->gcsfs) (1.18.3)\n",
            "Requirement already satisfied: cachetools<6.0,>=2.0.0 in /opt/conda/miniconda3/lib/python3.11/site-packages (from google-auth>=1.2->gcsfs) (5.5.2)\n",
            "Requirement already satisfied: pyasn1-modules>=0.2.1 in /opt/conda/miniconda3/lib/python3.11/site-packages (from google-auth>=1.2->gcsfs) (0.4.2)\n",
            "Requirement already satisfied: rsa<5,>=3.1.4 in /opt/conda/miniconda3/lib/python3.11/site-packages (from google-auth>=1.2->gcsfs) (4.9)\n",
            "Requirement already satisfied: requests-oauthlib>=0.7.0 in /opt/conda/miniconda3/lib/python3.11/site-packages (from google-auth-oauthlib->gcsfs) (2.0.0)\n",
            "Requirement already satisfied: google-api-core!=2.0.*,!=2.1.*,!=2.2.*,!=2.3.0,<3.0.0dev,>=1.31.5 in /opt/conda/miniconda3/lib/python3.11/site-packages (from google-cloud-storage->gcsfs) (2.24.2)\n",
            "Requirement already satisfied: google-cloud-core<3.0dev,>=2.3.0 in /opt/conda/miniconda3/lib/python3.11/site-packages (from google-cloud-storage->gcsfs) (2.4.3)\n",
            "Requirement already satisfied: google-resumable-media>=2.6.0 in /opt/conda/miniconda3/lib/python3.11/site-packages (from google-cloud-storage->gcsfs) (2.7.2)\n",
            "Requirement already satisfied: google-crc32c<2.0dev,>=1.0 in /opt/conda/miniconda3/lib/python3.11/site-packages (from google-cloud-storage->gcsfs) (1.7.1)\n",
            "Requirement already satisfied: charset-normalizer<4,>=2 in /opt/conda/miniconda3/lib/python3.11/site-packages (from requests->gcsfs) (2.0.4)\n",
            "Requirement already satisfied: idna<4,>=2.5 in /opt/conda/miniconda3/lib/python3.11/site-packages (from requests->gcsfs) (3.4)\n",
            "Requirement already satisfied: urllib3<3,>=1.21.1 in /opt/conda/miniconda3/lib/python3.11/site-packages (from requests->gcsfs) (1.26.18)\n",
            "Requirement already satisfied: certifi>=2017.4.17 in /opt/conda/miniconda3/lib/python3.11/site-packages (from requests->gcsfs) (2025.1.31)\n",
            "Requirement already satisfied: googleapis-common-protos<2.0.0,>=1.56.2 in /opt/conda/miniconda3/lib/python3.11/site-packages (from google-api-core!=2.0.*,!=2.1.*,!=2.2.*,!=2.3.0,<3.0.0dev,>=1.31.5->google-cloud-storage->gcsfs) (1.69.2)\n",
            "Requirement already satisfied: protobuf!=3.20.0,!=3.20.1,!=4.21.0,!=4.21.1,!=4.21.2,!=4.21.3,!=4.21.4,!=4.21.5,<7.0.0,>=3.19.5 in /opt/conda/miniconda3/lib/python3.11/site-packages (from google-api-core!=2.0.*,!=2.1.*,!=2.2.*,!=2.3.0,<3.0.0dev,>=1.31.5->google-cloud-storage->gcsfs) (4.24.4)\n",
            "Requirement already satisfied: proto-plus<2.0.0,>=1.22.3 in /opt/conda/miniconda3/lib/python3.11/site-packages (from google-api-core!=2.0.*,!=2.1.*,!=2.2.*,!=2.3.0,<3.0.0dev,>=1.31.5->google-cloud-storage->gcsfs) (1.26.1)\n",
            "Requirement already satisfied: pyasn1<0.7.0,>=0.6.1 in /opt/conda/miniconda3/lib/python3.11/site-packages (from pyasn1-modules>=0.2.1->google-auth>=1.2->gcsfs) (0.6.1)\n",
            "Requirement already satisfied: oauthlib>=3.0.0 in /opt/conda/miniconda3/lib/python3.11/site-packages (from requests-oauthlib>=0.7.0->google-auth-oauthlib->gcsfs) (3.2.2)\n",
            "\u001b[33mWARNING: Running pip as the 'root' user can result in broken permissions and conflicting behaviour with the system package manager. It is recommended to use a virtual environment instead: https://pip.pypa.io/warnings/venv\u001b[0m\u001b[33m\n",
            "\u001b[0mNote: you may need to restart the kernel to use updated packages.\n"
          ]
        }
      ],
      "source": [
        "pip install gcsfs"
      ]
    },
    {
      "cell_type": "code",
      "execution_count": null,
      "id": "aed9d441-4082-4ad7-86d1-efa6446b7835",
      "metadata": {
        "id": "aed9d441-4082-4ad7-86d1-efa6446b7835",
        "tags": []
      },
      "outputs": [],
      "source": [
        "import pyspark.sql.functions as sf\n",
        "from pyspark.sql.window import Window\n",
        "from pyspark.sql.types import IntegerType, StringType\n",
        "from pyspark.sql import DataFrame"
      ]
    },
    {
      "cell_type": "code",
      "execution_count": null,
      "id": "81ea5480-9007-47bb-a61a-cfa420b7a9b2",
      "metadata": {
        "id": "81ea5480-9007-47bb-a61a-cfa420b7a9b2",
        "tags": []
      },
      "outputs": [],
      "source": [
        "import gcsfs\n",
        "import json\n",
        "import pyarrow.parquet as pq"
      ]
    },
    {
      "cell_type": "code",
      "execution_count": null,
      "id": "8b454942-64c1-4da0-b13a-3ebefd3c9ae4",
      "metadata": {
        "id": "8b454942-64c1-4da0-b13a-3ebefd3c9ae4",
        "tags": []
      },
      "outputs": [],
      "source": [
        "from functools import reduce\n",
        "import subprocess\n",
        "import os"
      ]
    },
    {
      "cell_type": "code",
      "execution_count": null,
      "id": "22d5f0d4-378a-4f21-b92d-86c7ff256996",
      "metadata": {
        "id": "22d5f0d4-378a-4f21-b92d-86c7ff256996",
        "tags": []
      },
      "outputs": [],
      "source": [
        "from feature_store import FeatureStore, Catalog"
      ]
    },
    {
      "cell_type": "code",
      "execution_count": null,
      "id": "05dcf9ff-1c6a-4657-bc31-d39d2a1b8474",
      "metadata": {
        "id": "05dcf9ff-1c6a-4657-bc31-d39d2a1b8474",
        "tags": []
      },
      "outputs": [],
      "source": [
        "import pandas as pd\n",
        "import numpy as np\n",
        "\n",
        "pd.set_option('display.max_columns', 150)"
      ]
    },
    {
      "cell_type": "markdown",
      "id": "ed0ea5ee-b5ed-44b0-b899-ecd46ecee43e",
      "metadata": {
        "id": "ed0ea5ee-b5ed-44b0-b899-ecd46ecee43e",
        "tags": []
      },
      "source": [
        "# Utils"
      ]
    },
    {
      "cell_type": "code",
      "execution_count": null,
      "id": "5061c6a9-5df1-49f0-9a67-c074abe9594a",
      "metadata": {
        "id": "5061c6a9-5df1-49f0-9a67-c074abe9594a",
        "tags": []
      },
      "outputs": [],
      "source": [
        "import gcsfs\n",
        "import pyarrow.parquet as pq\n",
        "def read_parquet_to_pandas(path: str, projectGCS=\"analytics-k8s-dev-4742\"):\n",
        "    \"\"\"function to read parquet file as\n",
        "     as pandas dataframe - useful for\n",
        "     training tasks\"\"\"\n",
        "    fs = gcsfs.GCSFileSystem(project=projectGCS, requester_pays=True)\n",
        "    files = [\"gs://\" + path for path in fs.glob(path + \"/part-*\")]\n",
        "    df_pandas = pq.ParquetDataset(files, filesystem=fs).read().to_pandas()\n",
        "    return df_pandas"
      ]
    },
    {
      "cell_type": "code",
      "execution_count": null,
      "id": "720c737a-3491-418f-a6c6-014f26fb4daa",
      "metadata": {
        "id": "720c737a-3491-418f-a6c6-014f26fb4daa",
        "tags": []
      },
      "outputs": [],
      "source": [
        "BASE_GS = \"gs://oculto/loss_prevention/perfil_laranja/data/\""
      ]
    },
    {
      "cell_type": "code",
      "execution_count": null,
      "id": "e910a5dc-0643-470c-9d3f-a399d85073d2",
      "metadata": {
        "id": "e910a5dc-0643-470c-9d3f-a399d85073d2",
        "tags": []
      },
      "outputs": [],
      "source": [
        "df = read_parquet_to_pandas(\"gs://oculto/loss_prevention/perfil_laranja/data/perfil_laranja_clean_baixaRenda_reduzido.parquet\")"
      ]
    },
    {
      "cell_type": "code",
      "execution_count": null,
      "id": "f812a1f1-fd96-46ea-922f-00ba3879bc0d",
      "metadata": {
        "id": "f812a1f1-fd96-46ea-922f-00ba3879bc0d",
        "outputId": "54b1eb8a-75a0-472e-be2d-fa27ed3c8372",
        "tags": []
      },
      "outputs": [
        {
          "data": {
            "text/plain": [
              "(4783994, 125)"
            ]
          },
          "execution_count": 10,
          "metadata": {},
          "output_type": "execute_result"
        }
      ],
      "source": [
        "df.shape"
      ]
    },
    {
      "cell_type": "markdown",
      "id": "637857da-1b6d-4b59-bc67-1d877cd99696",
      "metadata": {
        "id": "637857da-1b6d-4b59-bc67-1d877cd99696"
      },
      "source": [
        "# Modelagem"
      ]
    },
    {
      "cell_type": "code",
      "execution_count": null,
      "id": "fbbdc45a-f6d1-4765-bbc4-267c2ece7631",
      "metadata": {
        "id": "fbbdc45a-f6d1-4765-bbc4-267c2ece7631",
        "tags": []
      },
      "outputs": [],
      "source": [
        "from sklearn.ensemble import IsolationForest\n",
        "from sklearn.metrics import mean_squared_error"
      ]
    },
    {
      "cell_type": "code",
      "execution_count": null,
      "id": "fecc0589-e35b-44b0-bf4e-ebed234635fe",
      "metadata": {
        "id": "fecc0589-e35b-44b0-bf4e-ebed234635fe",
        "tags": []
      },
      "outputs": [],
      "source": [
        "pfs_sem_patrimonio_cond = (\n",
        "    (df[\"qtdImoveis\"] == 0) &\n",
        "    (df[\"qtdVeiculosFinanciados\"] == 0) &\n",
        "    (df[\"quantidadeVeiculosPesados\"] == 0) &\n",
        "    (df[\"quantidadePropriedades\"] == 0) &\n",
        "    (df[\"quantidadeAeronaves\"] == 0)\n",
        ")\n",
        "\n",
        "df = df[~pfs_sem_patrimonio_cond]"
      ]
    },
    {
      "cell_type": "code",
      "execution_count": null,
      "id": "adc69a77-345e-4f0b-b4fb-f91f3bcc1144",
      "metadata": {
        "id": "adc69a77-345e-4f0b-b4fb-f91f3bcc1144",
        "outputId": "33c826c5-dcdf-4fbd-bae1-770934acad15",
        "tags": []
      },
      "outputs": [
        {
          "data": {
            "text/plain": [
              "(3411864, 125)"
            ]
          },
          "execution_count": 13,
          "metadata": {},
          "output_type": "execute_result"
        }
      ],
      "source": [
        "df.shape"
      ]
    },
    {
      "cell_type": "code",
      "execution_count": null,
      "id": "6bbad86b-556d-48b2-ab6e-e65c0be77e1e",
      "metadata": {
        "id": "6bbad86b-556d-48b2-ab6e-e65c0be77e1e",
        "tags": []
      },
      "outputs": [],
      "source": [
        "df_sample = df.sample(frac=1, random_state=2025)"
      ]
    },
    {
      "cell_type": "code",
      "execution_count": null,
      "id": "df7cab5e-b7da-42b8-b77f-ed1c48c1aa7e",
      "metadata": {
        "id": "df7cab5e-b7da-42b8-b77f-ed1c48c1aa7e",
        "outputId": "a2489104-74fc-4f53-b7f8-4fb57a90eb63",
        "tags": []
      },
      "outputs": [
        {
          "data": {
            "text/plain": [
              "(3411864, 125)"
            ]
          },
          "execution_count": 15,
          "metadata": {},
          "output_type": "execute_result"
        }
      ],
      "source": [
        "X = df_sample.copy()\n",
        "X.shape"
      ]
    },
    {
      "cell_type": "code",
      "execution_count": null,
      "id": "b779fd95-818a-4ada-96f6-825a6ef17aea",
      "metadata": {
        "id": "b779fd95-818a-4ada-96f6-825a6ef17aea",
        "outputId": "f5700022-c845-478b-a9d1-8d2fcaae9e0c",
        "tags": []
      },
      "outputs": [
        {
          "data": {
            "text/plain": [
              "True"
            ]
          },
          "execution_count": 16,
          "metadata": {},
          "output_type": "execute_result"
        }
      ],
      "source": [
        "1==1"
      ]
    },
    {
      "cell_type": "code",
      "execution_count": null,
      "id": "0de1754e-9ae8-4b8d-9bca-f10f555cbb82",
      "metadata": {
        "id": "0de1754e-9ae8-4b8d-9bca-f10f555cbb82",
        "tags": []
      },
      "outputs": [],
      "source": [
        "n_estimators = 100\n",
        "contamination = 0.001\n",
        "sample_size = 256"
      ]
    },
    {
      "cell_type": "code",
      "execution_count": null,
      "id": "a58c816f-b901-4190-8918-48100c459ef2",
      "metadata": {
        "id": "a58c816f-b901-4190-8918-48100c459ef2",
        "tags": []
      },
      "outputs": [],
      "source": [
        "iso_forest = IsolationForest(n_estimators=n_estimators,\n",
        "                            contamination=contamination,\n",
        "                            max_samples=sample_size,\n",
        "                            random_state=42)"
      ]
    },
    {
      "cell_type": "code",
      "execution_count": null,
      "id": "5596b06a-3346-4fef-9997-65097bd9fb84",
      "metadata": {
        "id": "5596b06a-3346-4fef-9997-65097bd9fb84",
        "outputId": "59a5308b-2a6a-455e-850d-754a504f3c8a",
        "tags": []
      },
      "outputs": [
        {
          "name": "stdout",
          "output_type": "stream",
          "text": [
            "CPU times: user 19.9 s, sys: 1.25 s, total: 21.1 s\n",
            "Wall time: 21.1 s\n"
          ]
        },
        {
          "data": {
            "text/html": [
              "<style>#sk-container-id-1 {color: black;}#sk-container-id-1 pre{padding: 0;}#sk-container-id-1 div.sk-toggleable {background-color: white;}#sk-container-id-1 label.sk-toggleable__label {cursor: pointer;display: block;width: 100%;margin-bottom: 0;padding: 0.3em;box-sizing: border-box;text-align: center;}#sk-container-id-1 label.sk-toggleable__label-arrow:before {content: \"▸\";float: left;margin-right: 0.25em;color: #696969;}#sk-container-id-1 label.sk-toggleable__label-arrow:hover:before {color: black;}#sk-container-id-1 div.sk-estimator:hover label.sk-toggleable__label-arrow:before {color: black;}#sk-container-id-1 div.sk-toggleable__content {max-height: 0;max-width: 0;overflow: hidden;text-align: left;background-color: #f0f8ff;}#sk-container-id-1 div.sk-toggleable__content pre {margin: 0.2em;color: black;border-radius: 0.25em;background-color: #f0f8ff;}#sk-container-id-1 input.sk-toggleable__control:checked~div.sk-toggleable__content {max-height: 200px;max-width: 100%;overflow: auto;}#sk-container-id-1 input.sk-toggleable__control:checked~label.sk-toggleable__label-arrow:before {content: \"▾\";}#sk-container-id-1 div.sk-estimator input.sk-toggleable__control:checked~label.sk-toggleable__label {background-color: #d4ebff;}#sk-container-id-1 div.sk-label input.sk-toggleable__control:checked~label.sk-toggleable__label {background-color: #d4ebff;}#sk-container-id-1 input.sk-hidden--visually {border: 0;clip: rect(1px 1px 1px 1px);clip: rect(1px, 1px, 1px, 1px);height: 1px;margin: -1px;overflow: hidden;padding: 0;position: absolute;width: 1px;}#sk-container-id-1 div.sk-estimator {font-family: monospace;background-color: #f0f8ff;border: 1px dotted black;border-radius: 0.25em;box-sizing: border-box;margin-bottom: 0.5em;}#sk-container-id-1 div.sk-estimator:hover {background-color: #d4ebff;}#sk-container-id-1 div.sk-parallel-item::after {content: \"\";width: 100%;border-bottom: 1px solid gray;flex-grow: 1;}#sk-container-id-1 div.sk-label:hover label.sk-toggleable__label {background-color: #d4ebff;}#sk-container-id-1 div.sk-serial::before {content: \"\";position: absolute;border-left: 1px solid gray;box-sizing: border-box;top: 0;bottom: 0;left: 50%;z-index: 0;}#sk-container-id-1 div.sk-serial {display: flex;flex-direction: column;align-items: center;background-color: white;padding-right: 0.2em;padding-left: 0.2em;position: relative;}#sk-container-id-1 div.sk-item {position: relative;z-index: 1;}#sk-container-id-1 div.sk-parallel {display: flex;align-items: stretch;justify-content: center;background-color: white;position: relative;}#sk-container-id-1 div.sk-item::before, #sk-container-id-1 div.sk-parallel-item::before {content: \"\";position: absolute;border-left: 1px solid gray;box-sizing: border-box;top: 0;bottom: 0;left: 50%;z-index: -1;}#sk-container-id-1 div.sk-parallel-item {display: flex;flex-direction: column;z-index: 1;position: relative;background-color: white;}#sk-container-id-1 div.sk-parallel-item:first-child::after {align-self: flex-end;width: 50%;}#sk-container-id-1 div.sk-parallel-item:last-child::after {align-self: flex-start;width: 50%;}#sk-container-id-1 div.sk-parallel-item:only-child::after {width: 0;}#sk-container-id-1 div.sk-dashed-wrapped {border: 1px dashed gray;margin: 0 0.4em 0.5em 0.4em;box-sizing: border-box;padding-bottom: 0.4em;background-color: white;}#sk-container-id-1 div.sk-label label {font-family: monospace;font-weight: bold;display: inline-block;line-height: 1.2em;}#sk-container-id-1 div.sk-label-container {text-align: center;}#sk-container-id-1 div.sk-container {/* jupyter's `normalize.less` sets `[hidden] { display: none; }` but bootstrap.min.css set `[hidden] { display: none !important; }` so we also need the `!important` here to be able to override the default hidden behavior on the sphinx rendered scikit-learn.org. See: https://github.com/scikit-learn/scikit-learn/issues/21755 */display: inline-block !important;position: relative;}#sk-container-id-1 div.sk-text-repr-fallback {display: none;}</style><div id=\"sk-container-id-1\" class=\"sk-top-container\"><div class=\"sk-text-repr-fallback\"><pre>IsolationForest(contamination=0.001, max_samples=256, random_state=42)</pre><b>In a Jupyter environment, please rerun this cell to show the HTML representation or trust the notebook. <br />On GitHub, the HTML representation is unable to render, please try loading this page with nbviewer.org.</b></div><div class=\"sk-container\" hidden><div class=\"sk-item\"><div class=\"sk-estimator sk-toggleable\"><input class=\"sk-toggleable__control sk-hidden--visually\" id=\"sk-estimator-id-1\" type=\"checkbox\" checked><label for=\"sk-estimator-id-1\" class=\"sk-toggleable__label sk-toggleable__label-arrow\">IsolationForest</label><div class=\"sk-toggleable__content\"><pre>IsolationForest(contamination=0.001, max_samples=256, random_state=42)</pre></div></div></div></div></div>"
            ],
            "text/plain": [
              "IsolationForest(contamination=0.001, max_samples=256, random_state=42)"
            ]
          },
          "execution_count": 21,
          "metadata": {},
          "output_type": "execute_result"
        }
      ],
      "source": [
        "%%time\n",
        "iso_forest.fit(X)"
      ]
    },
    {
      "cell_type": "code",
      "execution_count": null,
      "id": "4ebb3a91-4ceb-4427-a62e-76a4611005f5",
      "metadata": {
        "id": "4ebb3a91-4ceb-4427-a62e-76a4611005f5",
        "tags": []
      },
      "outputs": [],
      "source": [
        "df_sample['scoreAnomalia'] = iso_forest.decision_function(X)\n",
        "df_sample['anomalia'] = iso_forest.predict(X)"
      ]
    },
    {
      "cell_type": "code",
      "execution_count": null,
      "id": "e0c63903-144c-4c0a-9c77-05f72c3f535c",
      "metadata": {
        "id": "e0c63903-144c-4c0a-9c77-05f72c3f535c",
        "outputId": "2c5dabe4-c65a-4659-e478-22b826471124",
        "tags": []
      },
      "outputs": [
        {
          "data": {
            "text/plain": [
              "anomalia\n",
              " 1    3408452\n",
              "-1       3412\n",
              "Name: count, dtype: int64"
            ]
          },
          "execution_count": 23,
          "metadata": {},
          "output_type": "execute_result"
        }
      ],
      "source": [
        "df_sample['anomalia'].value_counts()"
      ]
    },
    {
      "cell_type": "code",
      "execution_count": null,
      "id": "d2b6e69b-fbce-43f0-9bf2-d57a8f06570d",
      "metadata": {
        "id": "d2b6e69b-fbce-43f0-9bf2-d57a8f06570d",
        "tags": []
      },
      "outputs": [],
      "source": [
        "columns = X.columns"
      ]
    },
    {
      "cell_type": "markdown",
      "id": "10e47849-6762-4730-bd3d-36a63db5f0c6",
      "metadata": {
        "id": "10e47849-6762-4730-bd3d-36a63db5f0c6"
      },
      "source": [
        "A importância é baseada na variação dos scores de anomalia ao embaralhar cada variável."
      ]
    },
    {
      "cell_type": "code",
      "execution_count": null,
      "id": "f0ef86e5-130a-498e-b776-6a45c19f9f57",
      "metadata": {
        "id": "f0ef86e5-130a-498e-b776-6a45c19f9f57",
        "outputId": "66455317-a10a-4d3d-f449-f580a832f2a3",
        "tags": []
      },
      "outputs": [
        {
          "name": "stdout",
          "output_type": "stream",
          "text": [
            "flagBeneficiarioBPC\n",
            "flagVulneravelBPC\n",
            "flagBeneficiarioSeguroDefeso\n",
            "flagBeneficiarioGarantiaSafra\n",
            "flagBeneficiarioNovoBolsaFamilia\n",
            "flagBeneficiarioProgramasSociais\n",
            "flagAltaQualificacaoBeneficiarioProgramasSociais\n",
            "indicioFalecimento\n",
            "flagFalecidoConfirmado\n",
            "flagSupercentenario\n",
            "flagAdolescente\n",
            "flagIdoso\n",
            "flagEmpresario\n",
            "flagAltaQualificacao\n",
            "flagServidorPublico\n",
            "flagRegistroAntt\n",
            "flagProdutorRural\n",
            "quantidadeCandidatosApoiados\n",
            "quantidadeEleicoesComoDoador\n",
            "valorMedioDoado\n",
            "valorTotalDoado\n",
            "quantidadeDoacoesDescricaoNaoEspecificada\n",
            "valorMaximoDoado\n",
            "quantidadeDoacoesPoliticas\n",
            "flagContratoPublicoBeneficiarioProgramasSociais\n",
            "flagLaranja\n",
            "quantidadeEmails\n",
            "quantidadeDiferentesprovedoresEmail\n",
            "quantidadeEmailPadraoSuspeito\n",
            "quantidadeEmailNaoConsistenteNomeTitular\n",
            "flagAreaUrbanaBaixaDensidadeEdificios\n",
            "flagAglomeradoRural\n",
            "flagAreaRural\n",
            "flagFavelaOuComunidadeUrbana\n",
            "flagDividaDauCresceu180Dias\n",
            "valorTotalDividasDau\n",
            "qtdVeiculosFinanciados\n",
            "qtdFinanciamentosVeicularesQuitados\n",
            "recorrenciaFinanciamentoVeicular\n",
            "RecorrenciaFinanciamentoMaioridade\n",
            "flagFinanciamentoImobiliarioAltoValorBeneficiario\n",
            "flagFinanciamentoImobiliarioAltoValorRenda\n",
            "quantidadeRestituicaoIrpfObservadas\n",
            "quantidadeDeclaracoesIrpfObservadas\n",
            "flagAlterouBancoDeclaracaoIrpfUltimos5Anos\n",
            "ativosComCota\n",
            "ativosComCotaPercentual\n",
            "ativosSemCota\n",
            "bancarizacao\n",
            "bancarizacaoBest\n",
            "bancarizacaoFaixa\n",
            "diversificacao\n",
            "diversificacaoBest\n",
            "diversificacaoFaixa\n",
            "patrimonio\n",
            "flagSocioProcessoJudicialLavagemDinheiro\n",
            "flagProcessoJudicialCorrupcao\n",
            "flagProcessoJudicialLavagem\n",
            "flagProcessoJudicialFraude\n",
            "flagProcessoJudicialRouboFurtos\n",
            "flagSocioProcessoJudicialFraude\n",
            "flagProcessoJudicialCobranca\n",
            "flagSocioProcessoJudicialCorrupcao\n",
            "flagSocioProcessoJudicialTributario\n",
            "quantidadeDuplaIdentidadeNomeDataNascimento\n",
            "flagDuplaIdentidadeNomeDataNascimento\n",
            "quantidadeDuplaIdentidadeNomeMae\n",
            "flagDuplaIdentidadeNomeMae\n",
            "quantidadeDuplaIdentidadeCpfMae\n",
            "flagDuplaIdentidadeCpfMae\n",
            "quantidadeIndicioForteDuplaIdentidade\n",
            "flagIndicioForteDuplaIdentidade\n",
            "qtdImoveis\n",
            "valorTotal\n",
            "flagTop10ValorImoveisRenda\n",
            "flagTop5ValorImoveisRenda\n",
            "flagTop1ValorImoveisRenda\n",
            "flagTop10AltoValorImoveisBeneficiario\n",
            "flagTop5AltoValorImoveisBeneficiario\n",
            "flagTop1AltoValorImoveisBeneficiario\n",
            "quantidadeVeiculosPesados\n",
            "quantidadeVeiculosPesadosAnoFabricacaoEntre0E4AnosAtras\n",
            "quantidadeVeiculosPesadosAnoFabricacaoEntre5E9AnosAtras\n",
            "quantidadeVeiculosPesadosAnoFabricacaoEntre10E14AnosAtras\n",
            "valorAreaTotalPropriedadesRurais\n",
            "quantidadePropriedades\n",
            "quantidadePropriedadesAtivas\n",
            "flagOperadorAeronave\n",
            "flagProprietarioAeronave\n",
            "quantidadeAeronaves\n",
            "flagPrimeiroGrauProcessoJudicialCorrupcao\n",
            "flagPrimeiroGrauProcessoJudicialLavagem\n",
            "flagPrimeiroGrauProcessoJudicialFraude\n",
            "flagPrimeiroGrauProcessoJudicialRouboFurtos\n",
            "flagPrimeiroGrauProcessoJudicialCobranca\n",
            "flagSegundoGrauProcessoJudicialCorrupcao\n",
            "flagSegundoGrauProcessoJudicialLavagem\n",
            "flagSegundoGrauProcessoJudicialFraude\n",
            "flagSegundoGrauProcessoJudicialRouboFurtos\n",
            "flagSegundoGrauProcessoJudicialCobranca\n",
            "flagRendaSemInformacao\n",
            "flagBaixaRenda\n",
            "flagMediaRenda\n",
            "flagAltaRenda\n",
            "flagSocioDuplaId\n",
            "quantidadeMediaEmpresasMesmoCnaeAbertas12Meses\n",
            "flagSocioEmpresasGrandePorte\n",
            "flagSocioEmpresasEPP\n",
            "flagSocioBeneficiarioProgramaSocial\n",
            "flagSocioClasseEmpresaFachadaALTA\n",
            "flagSocioClasseEmpresaFachadaMUITOALTA\n",
            "flagSocioClasseEmpresaFachadaMEDIO\n",
            "quantidadeTelefones\n",
            "quantidadeTelefonesEnderecoConsistente\n",
            "historicoAtrasoFinanciamentoVeicularSEM_INFORMACAO\n",
            "historicoAtrasoFinanciamentoVeicularATRASA\n",
            "historicoAtrasoFinanciamentoVeicularNAO_ATRASA\n",
            "evolucaoPatrimonioSEM_INFORMACAO\n",
            "evolucaoPatrimonioAUMENTOU\n",
            "evolucaoPatrimonioDIMINUIU\n",
            "evolucaoPatrimonioMANTEVE\n",
            "perfilInvestidorSEM_INFORMACAO\n",
            "perfilInvestidorDIVERSIFICADO\n",
            "perfilInvestidorCONSERVADOR\n",
            "perfilInvestidorAGRESSIVO\n",
            "CPU times: user 38min 28s, sys: 3min 24s, total: 41min 53s\n",
            "Wall time: 41min 53s\n"
          ]
        }
      ],
      "source": [
        "%%time\n",
        "original_scores = iso_forest.decision_function(X)\n",
        "\n",
        "\n",
        "feature_importance = {}\n",
        "\n",
        "for feature in X.columns:\n",
        "    print(feature)\n",
        "    df_permuted = X.copy()\n",
        "    df_permuted[feature] = np.random.permutation(df_permuted[feature])\n",
        "\n",
        "    permuted_scores = iso_forest.decision_function(df_permuted)\n",
        "    score_change = mean_squared_error(original_scores, permuted_scores)  # Impacto no score de anomalia\n",
        "\n",
        "    feature_importance[feature] = score_change"
      ]
    },
    {
      "cell_type": "code",
      "execution_count": null,
      "id": "d84f5482-7504-4cd9-9cc5-c3d3dec1e252",
      "metadata": {
        "id": "d84f5482-7504-4cd9-9cc5-c3d3dec1e252",
        "tags": []
      },
      "outputs": [],
      "source": [
        "max_importance = max(feature_importance.values())\n",
        "for feature in feature_importance:\n",
        "    feature_importance[feature] = (feature_importance[feature] / max_importance) * 100\n",
        "\n",
        "\n",
        "df_importance = pd.DataFrame(\n",
        "    list(feature_importance.items()), columns=[\"Feature\", \"Importance\"]\n",
        ").sort_values(by=\"Importance\", ascending=False)\n",
        "\n",
        "df_importance[\"Importance\"] = df_importance[\"Importance\"].round(2)"
      ]
    },
    {
      "cell_type": "code",
      "execution_count": null,
      "id": "c973b271-ac03-4836-b181-1ab2d4e6ef40",
      "metadata": {
        "id": "c973b271-ac03-4836-b181-1ab2d4e6ef40",
        "tags": []
      },
      "outputs": [],
      "source": [
        "df_importance = pd.DataFrame(\n",
        "    list(feature_importance.items()), columns=[\"Feature\", \"Importance\"]\n",
        ").sort_values(by=\"Importance\", ascending=False)"
      ]
    },
    {
      "cell_type": "code",
      "execution_count": null,
      "id": "f0bcf97c-d85b-4c47-8d3d-dcc68d8e95cd",
      "metadata": {
        "id": "f0bcf97c-d85b-4c47-8d3d-dcc68d8e95cd",
        "outputId": "7edef667-0fb8-4aad-900b-8a82f2f5bc3b",
        "tags": []
      },
      "outputs": [
        {
          "data": {
            "text/html": [
              "<div>\n",
              "<style scoped>\n",
              "    .dataframe tbody tr th:only-of-type {\n",
              "        vertical-align: middle;\n",
              "    }\n",
              "\n",
              "    .dataframe tbody tr th {\n",
              "        vertical-align: top;\n",
              "    }\n",
              "\n",
              "    .dataframe thead th {\n",
              "        text-align: right;\n",
              "    }\n",
              "</style>\n",
              "<table border=\"1\" class=\"dataframe\">\n",
              "  <thead>\n",
              "    <tr style=\"text-align: right;\">\n",
              "      <th></th>\n",
              "      <th>Feature</th>\n",
              "      <th>Importance</th>\n",
              "    </tr>\n",
              "  </thead>\n",
              "  <tbody>\n",
              "    <tr>\n",
              "      <th>30</th>\n",
              "      <td>flagAreaUrbanaBaixaDensidadeEdificios</td>\n",
              "      <td>100.000000</td>\n",
              "    </tr>\n",
              "    <tr>\n",
              "      <th>32</th>\n",
              "      <td>flagAreaRural</td>\n",
              "      <td>81.858578</td>\n",
              "    </tr>\n",
              "    <tr>\n",
              "      <th>109</th>\n",
              "      <td>flagSocioClasseEmpresaFachadaALTA</td>\n",
              "      <td>79.036537</td>\n",
              "    </tr>\n",
              "    <tr>\n",
              "      <th>34</th>\n",
              "      <td>flagDividaDauCresceu180Dias</td>\n",
              "      <td>77.803796</td>\n",
              "    </tr>\n",
              "    <tr>\n",
              "      <th>117</th>\n",
              "      <td>evolucaoPatrimonioSEM_INFORMACAO</td>\n",
              "      <td>69.294574</td>\n",
              "    </tr>\n",
              "    <tr>\n",
              "      <th>16</th>\n",
              "      <td>flagProdutorRural</td>\n",
              "      <td>66.841157</td>\n",
              "    </tr>\n",
              "    <tr>\n",
              "      <th>44</th>\n",
              "      <td>flagAlterouBancoDeclaracaoIrpfUltimos5Anos</td>\n",
              "      <td>66.054219</td>\n",
              "    </tr>\n",
              "    <tr>\n",
              "      <th>13</th>\n",
              "      <td>flagAltaQualificacao</td>\n",
              "      <td>59.254413</td>\n",
              "    </tr>\n",
              "    <tr>\n",
              "      <th>119</th>\n",
              "      <td>evolucaoPatrimonioDIMINUIU</td>\n",
              "      <td>55.794244</td>\n",
              "    </tr>\n",
              "    <tr>\n",
              "      <th>122</th>\n",
              "      <td>perfilInvestidorDIVERSIFICADO</td>\n",
              "      <td>53.904412</td>\n",
              "    </tr>\n",
              "    <tr>\n",
              "      <th>0</th>\n",
              "      <td>flagBeneficiarioBPC</td>\n",
              "      <td>49.761196</td>\n",
              "    </tr>\n",
              "    <tr>\n",
              "      <th>108</th>\n",
              "      <td>flagSocioBeneficiarioProgramaSocial</td>\n",
              "      <td>48.865528</td>\n",
              "    </tr>\n",
              "    <tr>\n",
              "      <th>106</th>\n",
              "      <td>flagSocioEmpresasGrandePorte</td>\n",
              "      <td>45.832298</td>\n",
              "    </tr>\n",
              "    <tr>\n",
              "      <th>4</th>\n",
              "      <td>flagBeneficiarioNovoBolsaFamilia</td>\n",
              "      <td>45.508394</td>\n",
              "    </tr>\n",
              "    <tr>\n",
              "      <th>110</th>\n",
              "      <td>flagSocioClasseEmpresaFachadaMUITOALTA</td>\n",
              "      <td>43.721232</td>\n",
              "    </tr>\n",
              "    <tr>\n",
              "      <th>121</th>\n",
              "      <td>perfilInvestidorSEM_INFORMACAO</td>\n",
              "      <td>42.024653</td>\n",
              "    </tr>\n",
              "    <tr>\n",
              "      <th>105</th>\n",
              "      <td>quantidadeMediaEmpresasMesmoCnaeAbertas12Meses</td>\n",
              "      <td>41.600737</td>\n",
              "    </tr>\n",
              "    <tr>\n",
              "      <th>99</th>\n",
              "      <td>flagSegundoGrauProcessoJudicialCobranca</td>\n",
              "      <td>40.268086</td>\n",
              "    </tr>\n",
              "    <tr>\n",
              "      <th>33</th>\n",
              "      <td>flagFavelaOuComunidadeUrbana</td>\n",
              "      <td>37.623852</td>\n",
              "    </tr>\n",
              "    <tr>\n",
              "      <th>18</th>\n",
              "      <td>quantidadeEleicoesComoDoador</td>\n",
              "      <td>37.540722</td>\n",
              "    </tr>\n",
              "    <tr>\n",
              "      <th>6</th>\n",
              "      <td>flagAltaQualificacaoBeneficiarioProgramasSociais</td>\n",
              "      <td>36.873086</td>\n",
              "    </tr>\n",
              "    <tr>\n",
              "      <th>111</th>\n",
              "      <td>flagSocioClasseEmpresaFachadaMEDIO</td>\n",
              "      <td>34.588417</td>\n",
              "    </tr>\n",
              "    <tr>\n",
              "      <th>5</th>\n",
              "      <td>flagBeneficiarioProgramasSociais</td>\n",
              "      <td>34.393277</td>\n",
              "    </tr>\n",
              "    <tr>\n",
              "      <th>15</th>\n",
              "      <td>flagRegistroAntt</td>\n",
              "      <td>33.353675</td>\n",
              "    </tr>\n",
              "    <tr>\n",
              "      <th>61</th>\n",
              "      <td>flagProcessoJudicialCobranca</td>\n",
              "      <td>33.090962</td>\n",
              "    </tr>\n",
              "    <tr>\n",
              "      <th>112</th>\n",
              "      <td>quantidadeTelefones</td>\n",
              "      <td>32.405110</td>\n",
              "    </tr>\n",
              "    <tr>\n",
              "      <th>52</th>\n",
              "      <td>diversificacaoBest</td>\n",
              "      <td>31.485822</td>\n",
              "    </tr>\n",
              "    <tr>\n",
              "      <th>53</th>\n",
              "      <td>diversificacaoFaixa</td>\n",
              "      <td>30.782205</td>\n",
              "    </tr>\n",
              "    <tr>\n",
              "      <th>116</th>\n",
              "      <td>historicoAtrasoFinanciamentoVeicularNAO_ATRASA</td>\n",
              "      <td>30.501106</td>\n",
              "    </tr>\n",
              "    <tr>\n",
              "      <th>115</th>\n",
              "      <td>historicoAtrasoFinanciamentoVeicularATRASA</td>\n",
              "      <td>30.048336</td>\n",
              "    </tr>\n",
              "    <tr>\n",
              "      <th>123</th>\n",
              "      <td>perfilInvestidorCONSERVADOR</td>\n",
              "      <td>29.775511</td>\n",
              "    </tr>\n",
              "    <tr>\n",
              "      <th>72</th>\n",
              "      <td>qtdImoveis</td>\n",
              "      <td>29.114011</td>\n",
              "    </tr>\n",
              "    <tr>\n",
              "      <th>51</th>\n",
              "      <td>diversificacao</td>\n",
              "      <td>28.140973</td>\n",
              "    </tr>\n",
              "    <tr>\n",
              "      <th>94</th>\n",
              "      <td>flagPrimeiroGrauProcessoJudicialCobranca</td>\n",
              "      <td>27.205928</td>\n",
              "    </tr>\n",
              "    <tr>\n",
              "      <th>28</th>\n",
              "      <td>quantidadeEmailPadraoSuspeito</td>\n",
              "      <td>26.429615</td>\n",
              "    </tr>\n",
              "    <tr>\n",
              "      <th>74</th>\n",
              "      <td>flagTop10ValorImoveisRenda</td>\n",
              "      <td>25.351356</td>\n",
              "    </tr>\n",
              "    <tr>\n",
              "      <th>114</th>\n",
              "      <td>historicoAtrasoFinanciamentoVeicularSEM_INFORM...</td>\n",
              "      <td>25.129371</td>\n",
              "    </tr>\n",
              "    <tr>\n",
              "      <th>65</th>\n",
              "      <td>flagDuplaIdentidadeNomeDataNascimento</td>\n",
              "      <td>23.479493</td>\n",
              "    </tr>\n",
              "    <tr>\n",
              "      <th>21</th>\n",
              "      <td>quantidadeDoacoesDescricaoNaoEspecificada</td>\n",
              "      <td>22.545177</td>\n",
              "    </tr>\n",
              "    <tr>\n",
              "      <th>49</th>\n",
              "      <td>bancarizacaoBest</td>\n",
              "      <td>20.731863</td>\n",
              "    </tr>\n",
              "    <tr>\n",
              "      <th>20</th>\n",
              "      <td>valorTotalDoado</td>\n",
              "      <td>20.648526</td>\n",
              "    </tr>\n",
              "    <tr>\n",
              "      <th>85</th>\n",
              "      <td>quantidadePropriedades</td>\n",
              "      <td>20.022262</td>\n",
              "    </tr>\n",
              "    <tr>\n",
              "      <th>63</th>\n",
              "      <td>flagSocioProcessoJudicialTributario</td>\n",
              "      <td>19.824474</td>\n",
              "    </tr>\n",
              "    <tr>\n",
              "      <th>47</th>\n",
              "      <td>ativosSemCota</td>\n",
              "      <td>19.335144</td>\n",
              "    </tr>\n",
              "    <tr>\n",
              "      <th>11</th>\n",
              "      <td>flagIdoso</td>\n",
              "      <td>19.268109</td>\n",
              "    </tr>\n",
              "    <tr>\n",
              "      <th>19</th>\n",
              "      <td>valorMedioDoado</td>\n",
              "      <td>19.042833</td>\n",
              "    </tr>\n",
              "    <tr>\n",
              "      <th>46</th>\n",
              "      <td>ativosComCotaPercentual</td>\n",
              "      <td>18.959751</td>\n",
              "    </tr>\n",
              "    <tr>\n",
              "      <th>124</th>\n",
              "      <td>perfilInvestidorAGRESSIVO</td>\n",
              "      <td>16.555358</td>\n",
              "    </tr>\n",
              "    <tr>\n",
              "      <th>43</th>\n",
              "      <td>quantidadeDeclaracoesIrpfObservadas</td>\n",
              "      <td>16.445091</td>\n",
              "    </tr>\n",
              "    <tr>\n",
              "      <th>12</th>\n",
              "      <td>flagEmpresario</td>\n",
              "      <td>16.350251</td>\n",
              "    </tr>\n",
              "    <tr>\n",
              "      <th>39</th>\n",
              "      <td>RecorrenciaFinanciamentoMaioridade</td>\n",
              "      <td>16.316490</td>\n",
              "    </tr>\n",
              "    <tr>\n",
              "      <th>26</th>\n",
              "      <td>quantidadeEmails</td>\n",
              "      <td>16.189318</td>\n",
              "    </tr>\n",
              "    <tr>\n",
              "      <th>50</th>\n",
              "      <td>bancarizacaoFaixa</td>\n",
              "      <td>15.969137</td>\n",
              "    </tr>\n",
              "    <tr>\n",
              "      <th>113</th>\n",
              "      <td>quantidadeTelefonesEnderecoConsistente</td>\n",
              "      <td>15.897046</td>\n",
              "    </tr>\n",
              "    <tr>\n",
              "      <th>45</th>\n",
              "      <td>ativosComCota</td>\n",
              "      <td>15.318922</td>\n",
              "    </tr>\n",
              "    <tr>\n",
              "      <th>75</th>\n",
              "      <td>flagTop5ValorImoveisRenda</td>\n",
              "      <td>15.198724</td>\n",
              "    </tr>\n",
              "    <tr>\n",
              "      <th>42</th>\n",
              "      <td>quantidadeRestituicaoIrpfObservadas</td>\n",
              "      <td>14.238748</td>\n",
              "    </tr>\n",
              "    <tr>\n",
              "      <th>73</th>\n",
              "      <td>valorTotal</td>\n",
              "      <td>13.868396</td>\n",
              "    </tr>\n",
              "    <tr>\n",
              "      <th>86</th>\n",
              "      <td>quantidadePropriedadesAtivas</td>\n",
              "      <td>13.205603</td>\n",
              "    </tr>\n",
              "    <tr>\n",
              "      <th>107</th>\n",
              "      <td>flagSocioEmpresasEPP</td>\n",
              "      <td>12.863907</td>\n",
              "    </tr>\n",
              "  </tbody>\n",
              "</table>\n",
              "</div>"
            ],
            "text/plain": [
              "                                               Feature  Importance\n",
              "30               flagAreaUrbanaBaixaDensidadeEdificios  100.000000\n",
              "32                                       flagAreaRural   81.858578\n",
              "109                  flagSocioClasseEmpresaFachadaALTA   79.036537\n",
              "34                         flagDividaDauCresceu180Dias   77.803796\n",
              "117                   evolucaoPatrimonioSEM_INFORMACAO   69.294574\n",
              "16                                   flagProdutorRural   66.841157\n",
              "44          flagAlterouBancoDeclaracaoIrpfUltimos5Anos   66.054219\n",
              "13                                flagAltaQualificacao   59.254413\n",
              "119                         evolucaoPatrimonioDIMINUIU   55.794244\n",
              "122                      perfilInvestidorDIVERSIFICADO   53.904412\n",
              "0                                  flagBeneficiarioBPC   49.761196\n",
              "108                flagSocioBeneficiarioProgramaSocial   48.865528\n",
              "106                       flagSocioEmpresasGrandePorte   45.832298\n",
              "4                     flagBeneficiarioNovoBolsaFamilia   45.508394\n",
              "110             flagSocioClasseEmpresaFachadaMUITOALTA   43.721232\n",
              "121                     perfilInvestidorSEM_INFORMACAO   42.024653\n",
              "105     quantidadeMediaEmpresasMesmoCnaeAbertas12Meses   41.600737\n",
              "99             flagSegundoGrauProcessoJudicialCobranca   40.268086\n",
              "33                        flagFavelaOuComunidadeUrbana   37.623852\n",
              "18                        quantidadeEleicoesComoDoador   37.540722\n",
              "6     flagAltaQualificacaoBeneficiarioProgramasSociais   36.873086\n",
              "111                 flagSocioClasseEmpresaFachadaMEDIO   34.588417\n",
              "5                     flagBeneficiarioProgramasSociais   34.393277\n",
              "15                                    flagRegistroAntt   33.353675\n",
              "61                        flagProcessoJudicialCobranca   33.090962\n",
              "112                                quantidadeTelefones   32.405110\n",
              "52                                  diversificacaoBest   31.485822\n",
              "53                                 diversificacaoFaixa   30.782205\n",
              "116     historicoAtrasoFinanciamentoVeicularNAO_ATRASA   30.501106\n",
              "115         historicoAtrasoFinanciamentoVeicularATRASA   30.048336\n",
              "123                        perfilInvestidorCONSERVADOR   29.775511\n",
              "72                                          qtdImoveis   29.114011\n",
              "51                                      diversificacao   28.140973\n",
              "94            flagPrimeiroGrauProcessoJudicialCobranca   27.205928\n",
              "28                       quantidadeEmailPadraoSuspeito   26.429615\n",
              "74                          flagTop10ValorImoveisRenda   25.351356\n",
              "114  historicoAtrasoFinanciamentoVeicularSEM_INFORM...   25.129371\n",
              "65               flagDuplaIdentidadeNomeDataNascimento   23.479493\n",
              "21           quantidadeDoacoesDescricaoNaoEspecificada   22.545177\n",
              "49                                    bancarizacaoBest   20.731863\n",
              "20                                     valorTotalDoado   20.648526\n",
              "85                              quantidadePropriedades   20.022262\n",
              "63                 flagSocioProcessoJudicialTributario   19.824474\n",
              "47                                       ativosSemCota   19.335144\n",
              "11                                           flagIdoso   19.268109\n",
              "19                                     valorMedioDoado   19.042833\n",
              "46                             ativosComCotaPercentual   18.959751\n",
              "124                          perfilInvestidorAGRESSIVO   16.555358\n",
              "43                 quantidadeDeclaracoesIrpfObservadas   16.445091\n",
              "12                                      flagEmpresario   16.350251\n",
              "39                  RecorrenciaFinanciamentoMaioridade   16.316490\n",
              "26                                    quantidadeEmails   16.189318\n",
              "50                                   bancarizacaoFaixa   15.969137\n",
              "113             quantidadeTelefonesEnderecoConsistente   15.897046\n",
              "45                                       ativosComCota   15.318922\n",
              "75                           flagTop5ValorImoveisRenda   15.198724\n",
              "42                 quantidadeRestituicaoIrpfObservadas   14.238748\n",
              "73                                          valorTotal   13.868396\n",
              "86                        quantidadePropriedadesAtivas   13.205603\n",
              "107                               flagSocioEmpresasEPP   12.863907"
            ]
          },
          "execution_count": 28,
          "metadata": {},
          "output_type": "execute_result"
        }
      ],
      "source": [
        "df_importance.head(60)"
      ]
    },
    {
      "cell_type": "code",
      "execution_count": null,
      "id": "55232f4e-9906-432b-9356-343c5169e89e",
      "metadata": {
        "id": "55232f4e-9906-432b-9356-343c5169e89e",
        "tags": []
      },
      "outputs": [],
      "source": [
        "importance_dict = df_importance.set_index(\"Feature\")[\"Importance\"].to_dict()"
      ]
    },
    {
      "cell_type": "code",
      "execution_count": null,
      "id": "bb69e471-b8ee-4cad-8bdd-b50f82081ee7",
      "metadata": {
        "id": "bb69e471-b8ee-4cad-8bdd-b50f82081ee7",
        "tags": []
      },
      "outputs": [],
      "source": [
        "fs = gcsfs.GCSFileSystem(project=\"seu-projeto-gcp\")\n",
        "\n",
        "path = \"gs://oculto/loss_prevention/perfil_laranja/data/df_importance_baixa_renda.json\"\n",
        "\n",
        "with fs.open(path, 'w') as f:\n",
        "    json.dump(importance_dict, f)\n"
      ]
    },
    {
      "cell_type": "code",
      "execution_count": null,
      "id": "39a6affc-a852-400e-9221-b956440b7d6c",
      "metadata": {
        "id": "39a6affc-a852-400e-9221-b956440b7d6c",
        "outputId": "99881248-3046-4a1c-aa33-034c0ccd2b6a",
        "tags": []
      },
      "outputs": [
        {
          "name": "stderr",
          "output_type": "stream",
          "text": [
            "                                                                                \r"
          ]
        }
      ],
      "source": [
        "spark.createDataFrame(df_importance).write.mode(\"overwrite\").parquet(\n",
        "    \"gs://oculto/loss_prevention/perfil_laranja/data/df_importance_baixa_renda.parquet\"\n",
        ")\n"
      ]
    },
    {
      "cell_type": "code",
      "execution_count": null,
      "id": "34ff8440-e79d-4bc8-9928-56e6711a7aa7",
      "metadata": {
        "id": "34ff8440-e79d-4bc8-9928-56e6711a7aa7"
      },
      "outputs": [],
      "source": []
    },
    {
      "cell_type": "code",
      "execution_count": null,
      "id": "565bd151-65c8-45db-b94d-556cfb87f37d",
      "metadata": {
        "id": "565bd151-65c8-45db-b94d-556cfb87f37d"
      },
      "outputs": [],
      "source": []
    }
  ],
  "metadata": {
    "colab": {
      "provenance": []
    },
    "kernelspec": {
      "display_name": "PySpark",
      "language": "python",
      "name": "pyspark"
    },
    "language_info": {
      "codemirror_mode": {
        "name": "ipython",
        "version": 3
      },
      "file_extension": ".py",
      "mimetype": "text/x-python",
      "name": "python",
      "nbconvert_exporter": "python",
      "pygments_lexer": "ipython3",
      "version": "3.11.8"
    }
  },
  "nbformat": 4,
  "nbformat_minor": 5
}
