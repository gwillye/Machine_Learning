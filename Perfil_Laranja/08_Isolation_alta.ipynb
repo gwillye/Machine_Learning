{
  "cells": [
    {
      "cell_type": "markdown",
      "id": "32956526-80bc-4505-82d4-f788561498ce",
      "metadata": {
        "id": "32956526-80bc-4505-82d4-f788561498ce",
        "tags": []
      },
      "source": [
        "# Importando dependencias"
      ]
    },
    {
      "cell_type": "code",
      "execution_count": null,
      "id": "aed9d441-4082-4ad7-86d1-efa6446b7835",
      "metadata": {
        "id": "aed9d441-4082-4ad7-86d1-efa6446b7835",
        "tags": []
      },
      "outputs": [],
      "source": [
        "import pyspark.sql.functions as sf\n",
        "from pyspark.sql.window import Window\n",
        "from pyspark.sql.types import IntegerType, StringType\n",
        "from pyspark.sql import DataFrame"
      ]
    },
    {
      "cell_type": "code",
      "execution_count": null,
      "id": "81ea5480-9007-47bb-a61a-cfa420b7a9b2",
      "metadata": {
        "id": "81ea5480-9007-47bb-a61a-cfa420b7a9b2",
        "tags": []
      },
      "outputs": [],
      "source": [
        "import gcsfs\n",
        "import pyarrow.parquet as pq"
      ]
    },
    {
      "cell_type": "code",
      "execution_count": null,
      "id": "8b454942-64c1-4da0-b13a-3ebefd3c9ae4",
      "metadata": {
        "id": "8b454942-64c1-4da0-b13a-3ebefd3c9ae4",
        "tags": []
      },
      "outputs": [],
      "source": [
        "from functools import reduce\n",
        "import subprocess\n",
        "import os"
      ]
    },
    {
      "cell_type": "code",
      "execution_count": null,
      "id": "22d5f0d4-378a-4f21-b92d-86c7ff256996",
      "metadata": {
        "id": "22d5f0d4-378a-4f21-b92d-86c7ff256996",
        "tags": []
      },
      "outputs": [],
      "source": [
        "from feature_store import FeatureStore, Catalog"
      ]
    },
    {
      "cell_type": "code",
      "execution_count": null,
      "id": "05dcf9ff-1c6a-4657-bc31-d39d2a1b8474",
      "metadata": {
        "id": "05dcf9ff-1c6a-4657-bc31-d39d2a1b8474",
        "tags": []
      },
      "outputs": [],
      "source": [
        "import pandas as pd\n",
        "import numpy as np\n",
        "\n",
        "pd.set_option('display.max_columns', 150)"
      ]
    },
    {
      "cell_type": "markdown",
      "id": "ed0ea5ee-b5ed-44b0-b899-ecd46ecee43e",
      "metadata": {
        "id": "ed0ea5ee-b5ed-44b0-b899-ecd46ecee43e",
        "tags": []
      },
      "source": [
        "# Utils"
      ]
    },
    {
      "cell_type": "code",
      "execution_count": null,
      "id": "5061c6a9-5df1-49f0-9a67-c074abe9594a",
      "metadata": {
        "id": "5061c6a9-5df1-49f0-9a67-c074abe9594a",
        "tags": []
      },
      "outputs": [],
      "source": [
        "import gcsfs\n",
        "import pyarrow.parquet as pq\n",
        "import json\n",
        "def read_parquet_to_pandas(path: str, projectGCS=\"analytics-k8s-dev-4742\"):\n",
        "    \"\"\"function to read parquet file as\n",
        "     as pandas dataframe - useful for\n",
        "     training tasks\"\"\"\n",
        "    fs = gcsfs.GCSFileSystem(project=projectGCS, requester_pays=True)\n",
        "    files = [\"gs://\" + path for path in fs.glob(path + \"/part-*\")]\n",
        "    df_pandas = pq.ParquetDataset(files, filesystem=fs).read().to_pandas()\n",
        "    return df_pandas"
      ]
    },
    {
      "cell_type": "code",
      "execution_count": null,
      "id": "720c737a-3491-418f-a6c6-014f26fb4daa",
      "metadata": {
        "id": "720c737a-3491-418f-a6c6-014f26fb4daa",
        "tags": []
      },
      "outputs": [],
      "source": [
        "BASE_GS = \"gs://oculto/loss_prevention/perfil_laranja/data/\""
      ]
    },
    {
      "cell_type": "code",
      "execution_count": null,
      "id": "e910a5dc-0643-470c-9d3f-a399d85073d2",
      "metadata": {
        "id": "e910a5dc-0643-470c-9d3f-a399d85073d2",
        "tags": []
      },
      "outputs": [],
      "source": [
        "df = read_parquet_to_pandas(\"gs://oculto/loss_prevention/perfil_laranja/data/perfil_laranja_clean_altaRenda_reduzido.parquet\")"
      ]
    },
    {
      "cell_type": "code",
      "execution_count": null,
      "id": "60357e55-98c5-4f06-a44b-ff59b56787ea",
      "metadata": {
        "id": "60357e55-98c5-4f06-a44b-ff59b56787ea",
        "outputId": "1c7f9cb4-d8b9-4ec1-a872-592a28e16f43",
        "tags": []
      },
      "outputs": [
        {
          "data": {
            "text/plain": [
              "(5604459, 125)"
            ]
          },
          "execution_count": 9,
          "metadata": {},
          "output_type": "execute_result"
        }
      ],
      "source": [
        "df.shape"
      ]
    },
    {
      "cell_type": "markdown",
      "id": "637857da-1b6d-4b59-bc67-1d877cd99696",
      "metadata": {
        "id": "637857da-1b6d-4b59-bc67-1d877cd99696"
      },
      "source": [
        "# Modelagem"
      ]
    },
    {
      "cell_type": "code",
      "execution_count": null,
      "id": "fbbdc45a-f6d1-4765-bbc4-267c2ece7631",
      "metadata": {
        "id": "fbbdc45a-f6d1-4765-bbc4-267c2ece7631",
        "tags": []
      },
      "outputs": [],
      "source": [
        "from sklearn.ensemble import IsolationForest\n",
        "from sklearn.metrics import mean_squared_error"
      ]
    },
    {
      "cell_type": "code",
      "execution_count": null,
      "id": "fecc0589-e35b-44b0-bf4e-ebed234635fe",
      "metadata": {
        "id": "fecc0589-e35b-44b0-bf4e-ebed234635fe",
        "tags": []
      },
      "outputs": [],
      "source": [
        "pfs_sem_patrimonio_cond = (\n",
        "    (df[\"qtdImoveis\"] == 0) &\n",
        "    (df[\"qtdVeiculosFinanciados\"] == 0) &\n",
        "    (df[\"quantidadeVeiculosPesados\"] == 0) &\n",
        "    (df[\"quantidadePropriedades\"] == 0) &\n",
        "    (df[\"quantidadeAeronaves\"] == 0)\n",
        ")\n",
        "\n",
        "df = df[~pfs_sem_patrimonio_cond]"
      ]
    },
    {
      "cell_type": "code",
      "execution_count": null,
      "id": "a00632d9-b44b-4517-9b1f-643a5c8045ad",
      "metadata": {
        "id": "a00632d9-b44b-4517-9b1f-643a5c8045ad",
        "outputId": "3f83def4-d5ce-4b2a-a073-8195bfcb924e",
        "tags": []
      },
      "outputs": [
        {
          "data": {
            "text/plain": [
              "(5142696, 125)"
            ]
          },
          "execution_count": 12,
          "metadata": {},
          "output_type": "execute_result"
        }
      ],
      "source": [
        "df.shape"
      ]
    },
    {
      "cell_type": "code",
      "execution_count": null,
      "id": "6bbad86b-556d-48b2-ab6e-e65c0be77e1e",
      "metadata": {
        "id": "6bbad86b-556d-48b2-ab6e-e65c0be77e1e",
        "tags": []
      },
      "outputs": [],
      "source": [
        "df_sample = df.sample(frac=0.1, random_state=2025)"
      ]
    },
    {
      "cell_type": "code",
      "execution_count": null,
      "id": "df7cab5e-b7da-42b8-b77f-ed1c48c1aa7e",
      "metadata": {
        "id": "df7cab5e-b7da-42b8-b77f-ed1c48c1aa7e",
        "outputId": "6075645c-bfe3-4362-cb7c-6a0441acc941",
        "tags": []
      },
      "outputs": [
        {
          "data": {
            "text/plain": [
              "(514270, 125)"
            ]
          },
          "execution_count": 14,
          "metadata": {},
          "output_type": "execute_result"
        }
      ],
      "source": [
        "X = df_sample.copy()\n",
        "X.shape"
      ]
    },
    {
      "cell_type": "code",
      "execution_count": null,
      "id": "0de1754e-9ae8-4b8d-9bca-f10f555cbb82",
      "metadata": {
        "id": "0de1754e-9ae8-4b8d-9bca-f10f555cbb82",
        "tags": []
      },
      "outputs": [],
      "source": [
        "n_estimators = 100\n",
        "contamination = 0.001\n",
        "sample_size = 256"
      ]
    },
    {
      "cell_type": "code",
      "execution_count": null,
      "id": "a58c816f-b901-4190-8918-48100c459ef2",
      "metadata": {
        "id": "a58c816f-b901-4190-8918-48100c459ef2",
        "tags": []
      },
      "outputs": [],
      "source": [
        "iso_forest = IsolationForest(n_estimators=n_estimators,\n",
        "                            contamination=contamination,\n",
        "                            max_samples=sample_size,\n",
        "                            random_state=42)"
      ]
    },
    {
      "cell_type": "code",
      "execution_count": null,
      "id": "5596b06a-3346-4fef-9997-65097bd9fb84",
      "metadata": {
        "id": "5596b06a-3346-4fef-9997-65097bd9fb84",
        "outputId": "958aeb88-11a4-4792-abd1-a40ab30419fe",
        "tags": []
      },
      "outputs": [
        {
          "name": "stdout",
          "output_type": "stream",
          "text": [
            "CPU times: user 4.41 s, sys: 219 ms, total: 4.63 s\n",
            "Wall time: 4.62 s\n"
          ]
        },
        {
          "data": {
            "text/html": [
              "<style>#sk-container-id-1 {color: black;}#sk-container-id-1 pre{padding: 0;}#sk-container-id-1 div.sk-toggleable {background-color: white;}#sk-container-id-1 label.sk-toggleable__label {cursor: pointer;display: block;width: 100%;margin-bottom: 0;padding: 0.3em;box-sizing: border-box;text-align: center;}#sk-container-id-1 label.sk-toggleable__label-arrow:before {content: \"▸\";float: left;margin-right: 0.25em;color: #696969;}#sk-container-id-1 label.sk-toggleable__label-arrow:hover:before {color: black;}#sk-container-id-1 div.sk-estimator:hover label.sk-toggleable__label-arrow:before {color: black;}#sk-container-id-1 div.sk-toggleable__content {max-height: 0;max-width: 0;overflow: hidden;text-align: left;background-color: #f0f8ff;}#sk-container-id-1 div.sk-toggleable__content pre {margin: 0.2em;color: black;border-radius: 0.25em;background-color: #f0f8ff;}#sk-container-id-1 input.sk-toggleable__control:checked~div.sk-toggleable__content {max-height: 200px;max-width: 100%;overflow: auto;}#sk-container-id-1 input.sk-toggleable__control:checked~label.sk-toggleable__label-arrow:before {content: \"▾\";}#sk-container-id-1 div.sk-estimator input.sk-toggleable__control:checked~label.sk-toggleable__label {background-color: #d4ebff;}#sk-container-id-1 div.sk-label input.sk-toggleable__control:checked~label.sk-toggleable__label {background-color: #d4ebff;}#sk-container-id-1 input.sk-hidden--visually {border: 0;clip: rect(1px 1px 1px 1px);clip: rect(1px, 1px, 1px, 1px);height: 1px;margin: -1px;overflow: hidden;padding: 0;position: absolute;width: 1px;}#sk-container-id-1 div.sk-estimator {font-family: monospace;background-color: #f0f8ff;border: 1px dotted black;border-radius: 0.25em;box-sizing: border-box;margin-bottom: 0.5em;}#sk-container-id-1 div.sk-estimator:hover {background-color: #d4ebff;}#sk-container-id-1 div.sk-parallel-item::after {content: \"\";width: 100%;border-bottom: 1px solid gray;flex-grow: 1;}#sk-container-id-1 div.sk-label:hover label.sk-toggleable__label {background-color: #d4ebff;}#sk-container-id-1 div.sk-serial::before {content: \"\";position: absolute;border-left: 1px solid gray;box-sizing: border-box;top: 0;bottom: 0;left: 50%;z-index: 0;}#sk-container-id-1 div.sk-serial {display: flex;flex-direction: column;align-items: center;background-color: white;padding-right: 0.2em;padding-left: 0.2em;position: relative;}#sk-container-id-1 div.sk-item {position: relative;z-index: 1;}#sk-container-id-1 div.sk-parallel {display: flex;align-items: stretch;justify-content: center;background-color: white;position: relative;}#sk-container-id-1 div.sk-item::before, #sk-container-id-1 div.sk-parallel-item::before {content: \"\";position: absolute;border-left: 1px solid gray;box-sizing: border-box;top: 0;bottom: 0;left: 50%;z-index: -1;}#sk-container-id-1 div.sk-parallel-item {display: flex;flex-direction: column;z-index: 1;position: relative;background-color: white;}#sk-container-id-1 div.sk-parallel-item:first-child::after {align-self: flex-end;width: 50%;}#sk-container-id-1 div.sk-parallel-item:last-child::after {align-self: flex-start;width: 50%;}#sk-container-id-1 div.sk-parallel-item:only-child::after {width: 0;}#sk-container-id-1 div.sk-dashed-wrapped {border: 1px dashed gray;margin: 0 0.4em 0.5em 0.4em;box-sizing: border-box;padding-bottom: 0.4em;background-color: white;}#sk-container-id-1 div.sk-label label {font-family: monospace;font-weight: bold;display: inline-block;line-height: 1.2em;}#sk-container-id-1 div.sk-label-container {text-align: center;}#sk-container-id-1 div.sk-container {/* jupyter's `normalize.less` sets `[hidden] { display: none; }` but bootstrap.min.css set `[hidden] { display: none !important; }` so we also need the `!important` here to be able to override the default hidden behavior on the sphinx rendered scikit-learn.org. See: https://github.com/scikit-learn/scikit-learn/issues/21755 */display: inline-block !important;position: relative;}#sk-container-id-1 div.sk-text-repr-fallback {display: none;}</style><div id=\"sk-container-id-1\" class=\"sk-top-container\"><div class=\"sk-text-repr-fallback\"><pre>IsolationForest(contamination=0.001, max_samples=256, random_state=42)</pre><b>In a Jupyter environment, please rerun this cell to show the HTML representation or trust the notebook. <br />On GitHub, the HTML representation is unable to render, please try loading this page with nbviewer.org.</b></div><div class=\"sk-container\" hidden><div class=\"sk-item\"><div class=\"sk-estimator sk-toggleable\"><input class=\"sk-toggleable__control sk-hidden--visually\" id=\"sk-estimator-id-1\" type=\"checkbox\" checked><label for=\"sk-estimator-id-1\" class=\"sk-toggleable__label sk-toggleable__label-arrow\">IsolationForest</label><div class=\"sk-toggleable__content\"><pre>IsolationForest(contamination=0.001, max_samples=256, random_state=42)</pre></div></div></div></div></div>"
            ],
            "text/plain": [
              "IsolationForest(contamination=0.001, max_samples=256, random_state=42)"
            ]
          },
          "execution_count": 17,
          "metadata": {},
          "output_type": "execute_result"
        }
      ],
      "source": [
        "%%time\n",
        "iso_forest.fit(X)"
      ]
    },
    {
      "cell_type": "code",
      "execution_count": null,
      "id": "4ebb3a91-4ceb-4427-a62e-76a4611005f5",
      "metadata": {
        "id": "4ebb3a91-4ceb-4427-a62e-76a4611005f5",
        "tags": []
      },
      "outputs": [],
      "source": [
        "df_sample['scoreAnomalia'] = iso_forest.decision_function(X)\n",
        "df_sample['anomalia'] = iso_forest.predict(X)"
      ]
    },
    {
      "cell_type": "code",
      "execution_count": null,
      "id": "e0c63903-144c-4c0a-9c77-05f72c3f535c",
      "metadata": {
        "id": "e0c63903-144c-4c0a-9c77-05f72c3f535c",
        "outputId": "dc4e9679-c37d-4d14-8c78-f35ecf3d4bb7",
        "tags": []
      },
      "outputs": [
        {
          "data": {
            "text/plain": [
              "anomalia\n",
              " 1    513755\n",
              "-1       515\n",
              "Name: count, dtype: int64"
            ]
          },
          "execution_count": 19,
          "metadata": {},
          "output_type": "execute_result"
        }
      ],
      "source": [
        "df_sample['anomalia'].value_counts()"
      ]
    },
    {
      "cell_type": "code",
      "execution_count": null,
      "id": "d2b6e69b-fbce-43f0-9bf2-d57a8f06570d",
      "metadata": {
        "id": "d2b6e69b-fbce-43f0-9bf2-d57a8f06570d",
        "tags": []
      },
      "outputs": [],
      "source": [
        "columns = X.columns"
      ]
    },
    {
      "cell_type": "markdown",
      "id": "10e47849-6762-4730-bd3d-36a63db5f0c6",
      "metadata": {
        "id": "10e47849-6762-4730-bd3d-36a63db5f0c6"
      },
      "source": [
        "A importância é baseada na variação dos scores de anomalia ao embaralhar cada variável."
      ]
    },
    {
      "cell_type": "code",
      "execution_count": null,
      "id": "f0ef86e5-130a-498e-b776-6a45c19f9f57",
      "metadata": {
        "id": "f0ef86e5-130a-498e-b776-6a45c19f9f57",
        "outputId": "3dfedd4a-1979-4b7f-a23b-b76d537feeae",
        "tags": []
      },
      "outputs": [
        {
          "name": "stdout",
          "output_type": "stream",
          "text": [
            "flagBeneficiarioBPC\n",
            "flagVulneravelBPC\n",
            "flagBeneficiarioSeguroDefeso\n",
            "flagBeneficiarioGarantiaSafra\n",
            "flagBeneficiarioNovoBolsaFamilia\n",
            "flagBeneficiarioProgramasSociais\n",
            "flagAltaQualificacaoBeneficiarioProgramasSociais\n",
            "indicioFalecimento\n",
            "flagFalecidoConfirmado\n",
            "flagSupercentenario\n",
            "flagAdolescente\n",
            "flagIdoso\n",
            "flagEmpresario\n",
            "flagAltaQualificacao\n",
            "flagServidorPublico\n",
            "flagRegistroAntt\n",
            "flagProdutorRural\n",
            "quantidadeCandidatosApoiados\n",
            "quantidadeEleicoesComoDoador\n",
            "valorMedioDoado\n",
            "valorTotalDoado\n",
            "quantidadeDoacoesDescricaoNaoEspecificada\n",
            "valorMaximoDoado\n",
            "quantidadeDoacoesPoliticas\n",
            "flagContratoPublicoBeneficiarioProgramasSociais\n",
            "flagLaranja\n",
            "quantidadeEmails\n",
            "quantidadeDiferentesprovedoresEmail\n",
            "quantidadeEmailPadraoSuspeito\n",
            "quantidadeEmailNaoConsistenteNomeTitular\n",
            "flagAreaUrbanaBaixaDensidadeEdificios\n",
            "flagAglomeradoRural\n",
            "flagAreaRural\n",
            "flagFavelaOuComunidadeUrbana\n",
            "flagDividaDauCresceu180Dias\n",
            "valorTotalDividasDau\n",
            "qtdVeiculosFinanciados\n",
            "qtdFinanciamentosVeicularesQuitados\n",
            "recorrenciaFinanciamentoVeicular\n",
            "RecorrenciaFinanciamentoMaioridade\n",
            "flagFinanciamentoImobiliarioAltoValorBeneficiario\n",
            "flagFinanciamentoImobiliarioAltoValorRenda\n",
            "quantidadeRestituicaoIrpfObservadas\n",
            "quantidadeDeclaracoesIrpfObservadas\n",
            "flagAlterouBancoDeclaracaoIrpfUltimos5Anos\n",
            "ativosComCota\n",
            "ativosComCotaPercentual\n",
            "ativosSemCota\n",
            "bancarizacao\n",
            "bancarizacaoBest\n",
            "bancarizacaoFaixa\n",
            "diversificacao\n",
            "diversificacaoBest\n",
            "diversificacaoFaixa\n",
            "patrimonio\n",
            "flagSocioProcessoJudicialLavagemDinheiro\n",
            "flagProcessoJudicialCorrupcao\n",
            "flagProcessoJudicialLavagem\n",
            "flagProcessoJudicialFraude\n",
            "flagProcessoJudicialRouboFurtos\n",
            "flagSocioProcessoJudicialFraude\n",
            "flagProcessoJudicialCobranca\n",
            "flagSocioProcessoJudicialCorrupcao\n",
            "flagSocioProcessoJudicialTributario\n",
            "quantidadeDuplaIdentidadeNomeDataNascimento\n",
            "flagDuplaIdentidadeNomeDataNascimento\n",
            "quantidadeDuplaIdentidadeNomeMae\n",
            "flagDuplaIdentidadeNomeMae\n",
            "quantidadeDuplaIdentidadeCpfMae\n",
            "flagDuplaIdentidadeCpfMae\n",
            "quantidadeIndicioForteDuplaIdentidade\n",
            "flagIndicioForteDuplaIdentidade\n",
            "qtdImoveis\n",
            "valorTotal\n",
            "flagTop10ValorImoveisRenda\n",
            "flagTop5ValorImoveisRenda\n",
            "flagTop1ValorImoveisRenda\n",
            "flagTop10AltoValorImoveisBeneficiario\n",
            "flagTop5AltoValorImoveisBeneficiario\n",
            "flagTop1AltoValorImoveisBeneficiario\n",
            "quantidadeVeiculosPesados\n",
            "quantidadeVeiculosPesadosAnoFabricacaoEntre0E4AnosAtras\n",
            "quantidadeVeiculosPesadosAnoFabricacaoEntre5E9AnosAtras\n",
            "quantidadeVeiculosPesadosAnoFabricacaoEntre10E14AnosAtras\n",
            "valorAreaTotalPropriedadesRurais\n",
            "quantidadePropriedades\n",
            "quantidadePropriedadesAtivas\n",
            "flagOperadorAeronave\n",
            "flagProprietarioAeronave\n",
            "quantidadeAeronaves\n",
            "flagPrimeiroGrauProcessoJudicialCorrupcao\n",
            "flagPrimeiroGrauProcessoJudicialLavagem\n",
            "flagPrimeiroGrauProcessoJudicialFraude\n",
            "flagPrimeiroGrauProcessoJudicialRouboFurtos\n",
            "flagPrimeiroGrauProcessoJudicialCobranca\n",
            "flagSegundoGrauProcessoJudicialCorrupcao\n",
            "flagSegundoGrauProcessoJudicialLavagem\n",
            "flagSegundoGrauProcessoJudicialFraude\n",
            "flagSegundoGrauProcessoJudicialRouboFurtos\n",
            "flagSegundoGrauProcessoJudicialCobranca\n",
            "flagRendaSemInformacao\n",
            "flagBaixaRenda\n",
            "flagMediaRenda\n",
            "flagAltaRenda\n",
            "flagSocioDuplaId\n",
            "quantidadeMediaEmpresasMesmoCnaeAbertas12Meses\n",
            "flagSocioEmpresasGrandePorte\n",
            "flagSocioEmpresasEPP\n",
            "flagSocioBeneficiarioProgramaSocial\n",
            "flagSocioClasseEmpresaFachadaALTA\n",
            "flagSocioClasseEmpresaFachadaMUITOALTA\n",
            "flagSocioClasseEmpresaFachadaMEDIO\n",
            "quantidadeTelefones\n",
            "quantidadeTelefonesEnderecoConsistente\n",
            "historicoAtrasoFinanciamentoVeicularSEM_INFORMACAO\n",
            "historicoAtrasoFinanciamentoVeicularATRASA\n",
            "historicoAtrasoFinanciamentoVeicularNAO_ATRASA\n",
            "evolucaoPatrimonioSEM_INFORMACAO\n",
            "evolucaoPatrimonioAUMENTOU\n",
            "evolucaoPatrimonioDIMINUIU\n",
            "evolucaoPatrimonioMANTEVE\n",
            "perfilInvestidorSEM_INFORMACAO\n",
            "perfilInvestidorDIVERSIFICADO\n",
            "perfilInvestidorCONSERVADOR\n",
            "perfilInvestidorAGRESSIVO\n",
            "CPU times: user 8min 14s, sys: 35 s, total: 8min 49s\n",
            "Wall time: 8min 49s\n"
          ]
        }
      ],
      "source": [
        "%%time\n",
        "original_scores = iso_forest.decision_function(X)\n",
        "\n",
        "\n",
        "feature_importance = {}\n",
        "\n",
        "for feature in X.columns:\n",
        "    print(feature)\n",
        "    df_permuted = X.copy()\n",
        "    df_permuted[feature] = np.random.permutation(df_permuted[feature])\n",
        "\n",
        "    permuted_scores = iso_forest.decision_function(df_permuted)\n",
        "    score_change = mean_squared_error(original_scores, permuted_scores)  # Impacto no score de anomalia\n",
        "\n",
        "    feature_importance[feature] = score_change"
      ]
    },
    {
      "cell_type": "code",
      "execution_count": null,
      "id": "d84f5482-7504-4cd9-9cc5-c3d3dec1e252",
      "metadata": {
        "id": "d84f5482-7504-4cd9-9cc5-c3d3dec1e252",
        "tags": []
      },
      "outputs": [],
      "source": [
        "max_importance = max(feature_importance.values())\n",
        "for feature in feature_importance:\n",
        "    feature_importance[feature] = (feature_importance[feature] / max_importance) * 100\n",
        "\n",
        "\n",
        "df_importance = pd.DataFrame(\n",
        "    list(feature_importance.items()), columns=[\"Feature\", \"Importance\"]\n",
        ").sort_values(by=\"Importance\", ascending=False)\n",
        "\n",
        "df_importance[\"Importance\"] = df_importance[\"Importance\"].round(2)"
      ]
    },
    {
      "cell_type": "code",
      "execution_count": null,
      "id": "c973b271-ac03-4836-b181-1ab2d4e6ef40",
      "metadata": {
        "id": "c973b271-ac03-4836-b181-1ab2d4e6ef40",
        "tags": []
      },
      "outputs": [],
      "source": [
        "df_importance = pd.DataFrame(\n",
        "    list(feature_importance.items()), columns=[\"Feature\", \"Importance\"]\n",
        ").sort_values(by=\"Importance\", ascending=False)"
      ]
    },
    {
      "cell_type": "code",
      "execution_count": null,
      "id": "905c1e3e-c9e2-47cf-a9fa-37a1f302283c",
      "metadata": {
        "id": "905c1e3e-c9e2-47cf-a9fa-37a1f302283c",
        "outputId": "0ee0396f-de03-4b66-ed17-9f324d2e2202",
        "tags": []
      },
      "outputs": [
        {
          "data": {
            "text/html": [
              "<div>\n",
              "<style scoped>\n",
              "    .dataframe tbody tr th:only-of-type {\n",
              "        vertical-align: middle;\n",
              "    }\n",
              "\n",
              "    .dataframe tbody tr th {\n",
              "        vertical-align: top;\n",
              "    }\n",
              "\n",
              "    .dataframe thead th {\n",
              "        text-align: right;\n",
              "    }\n",
              "</style>\n",
              "<table border=\"1\" class=\"dataframe\">\n",
              "  <thead>\n",
              "    <tr style=\"text-align: right;\">\n",
              "      <th></th>\n",
              "      <th>Feature</th>\n",
              "      <th>Importance</th>\n",
              "    </tr>\n",
              "  </thead>\n",
              "  <tbody>\n",
              "    <tr>\n",
              "      <th>122</th>\n",
              "      <td>perfilInvestidorDIVERSIFICADO</td>\n",
              "      <td>100.000000</td>\n",
              "    </tr>\n",
              "    <tr>\n",
              "      <th>99</th>\n",
              "      <td>flagSegundoGrauProcessoJudicialCobranca</td>\n",
              "      <td>70.836132</td>\n",
              "    </tr>\n",
              "    <tr>\n",
              "      <th>109</th>\n",
              "      <td>flagSocioClasseEmpresaFachadaALTA</td>\n",
              "      <td>70.506065</td>\n",
              "    </tr>\n",
              "    <tr>\n",
              "      <th>111</th>\n",
              "      <td>flagSocioClasseEmpresaFachadaMEDIO</td>\n",
              "      <td>56.370383</td>\n",
              "    </tr>\n",
              "    <tr>\n",
              "      <th>105</th>\n",
              "      <td>quantidadeMediaEmpresasMesmoCnaeAbertas12Meses</td>\n",
              "      <td>55.636098</td>\n",
              "    </tr>\n",
              "    <tr>\n",
              "      <th>61</th>\n",
              "      <td>flagProcessoJudicialCobranca</td>\n",
              "      <td>53.525677</td>\n",
              "    </tr>\n",
              "    <tr>\n",
              "      <th>44</th>\n",
              "      <td>flagAlterouBancoDeclaracaoIrpfUltimos5Anos</td>\n",
              "      <td>53.351170</td>\n",
              "    </tr>\n",
              "    <tr>\n",
              "      <th>114</th>\n",
              "      <td>historicoAtrasoFinanciamentoVeicularSEM_INFORM...</td>\n",
              "      <td>51.206053</td>\n",
              "    </tr>\n",
              "    <tr>\n",
              "      <th>115</th>\n",
              "      <td>historicoAtrasoFinanciamentoVeicularATRASA</td>\n",
              "      <td>46.050038</td>\n",
              "    </tr>\n",
              "    <tr>\n",
              "      <th>18</th>\n",
              "      <td>quantidadeEleicoesComoDoador</td>\n",
              "      <td>44.714998</td>\n",
              "    </tr>\n",
              "    <tr>\n",
              "      <th>13</th>\n",
              "      <td>flagAltaQualificacao</td>\n",
              "      <td>43.305072</td>\n",
              "    </tr>\n",
              "    <tr>\n",
              "      <th>119</th>\n",
              "      <td>evolucaoPatrimonioDIMINUIU</td>\n",
              "      <td>42.762521</td>\n",
              "    </tr>\n",
              "    <tr>\n",
              "      <th>72</th>\n",
              "      <td>qtdImoveis</td>\n",
              "      <td>42.724140</td>\n",
              "    </tr>\n",
              "    <tr>\n",
              "      <th>30</th>\n",
              "      <td>flagAreaUrbanaBaixaDensidadeEdificios</td>\n",
              "      <td>42.141941</td>\n",
              "    </tr>\n",
              "    <tr>\n",
              "      <th>15</th>\n",
              "      <td>flagRegistroAntt</td>\n",
              "      <td>42.019777</td>\n",
              "    </tr>\n",
              "    <tr>\n",
              "      <th>6</th>\n",
              "      <td>flagAltaQualificacaoBeneficiarioProgramasSociais</td>\n",
              "      <td>39.980524</td>\n",
              "    </tr>\n",
              "    <tr>\n",
              "      <th>34</th>\n",
              "      <td>flagDividaDauCresceu180Dias</td>\n",
              "      <td>38.467697</td>\n",
              "    </tr>\n",
              "    <tr>\n",
              "      <th>21</th>\n",
              "      <td>quantidadeDoacoesDescricaoNaoEspecificada</td>\n",
              "      <td>36.573287</td>\n",
              "    </tr>\n",
              "    <tr>\n",
              "      <th>32</th>\n",
              "      <td>flagAreaRural</td>\n",
              "      <td>35.516900</td>\n",
              "    </tr>\n",
              "    <tr>\n",
              "      <th>12</th>\n",
              "      <td>flagEmpresario</td>\n",
              "      <td>31.527614</td>\n",
              "    </tr>\n",
              "    <tr>\n",
              "      <th>74</th>\n",
              "      <td>flagTop10ValorImoveisRenda</td>\n",
              "      <td>31.149011</td>\n",
              "    </tr>\n",
              "    <tr>\n",
              "      <th>116</th>\n",
              "      <td>historicoAtrasoFinanciamentoVeicularNAO_ATRASA</td>\n",
              "      <td>30.490931</td>\n",
              "    </tr>\n",
              "    <tr>\n",
              "      <th>107</th>\n",
              "      <td>flagSocioEmpresasEPP</td>\n",
              "      <td>29.727744</td>\n",
              "    </tr>\n",
              "    <tr>\n",
              "      <th>63</th>\n",
              "      <td>flagSocioProcessoJudicialTributario</td>\n",
              "      <td>28.673025</td>\n",
              "    </tr>\n",
              "    <tr>\n",
              "      <th>94</th>\n",
              "      <td>flagPrimeiroGrauProcessoJudicialCobranca</td>\n",
              "      <td>28.104270</td>\n",
              "    </tr>\n",
              "    <tr>\n",
              "      <th>14</th>\n",
              "      <td>flagServidorPublico</td>\n",
              "      <td>27.712762</td>\n",
              "    </tr>\n",
              "    <tr>\n",
              "      <th>85</th>\n",
              "      <td>quantidadePropriedades</td>\n",
              "      <td>27.386405</td>\n",
              "    </tr>\n",
              "    <tr>\n",
              "      <th>16</th>\n",
              "      <td>flagProdutorRural</td>\n",
              "      <td>26.607336</td>\n",
              "    </tr>\n",
              "    <tr>\n",
              "      <th>86</th>\n",
              "      <td>quantidadePropriedadesAtivas</td>\n",
              "      <td>26.051382</td>\n",
              "    </tr>\n",
              "    <tr>\n",
              "      <th>84</th>\n",
              "      <td>valorAreaTotalPropriedadesRurais</td>\n",
              "      <td>25.795780</td>\n",
              "    </tr>\n",
              "    <tr>\n",
              "      <th>45</th>\n",
              "      <td>ativosComCota</td>\n",
              "      <td>25.041223</td>\n",
              "    </tr>\n",
              "    <tr>\n",
              "      <th>117</th>\n",
              "      <td>evolucaoPatrimonioSEM_INFORMACAO</td>\n",
              "      <td>24.377066</td>\n",
              "    </tr>\n",
              "    <tr>\n",
              "      <th>11</th>\n",
              "      <td>flagIdoso</td>\n",
              "      <td>22.277861</td>\n",
              "    </tr>\n",
              "    <tr>\n",
              "      <th>23</th>\n",
              "      <td>quantidadeDoacoesPoliticas</td>\n",
              "      <td>22.231645</td>\n",
              "    </tr>\n",
              "    <tr>\n",
              "      <th>123</th>\n",
              "      <td>perfilInvestidorCONSERVADOR</td>\n",
              "      <td>21.972529</td>\n",
              "    </tr>\n",
              "    <tr>\n",
              "      <th>33</th>\n",
              "      <td>flagFavelaOuComunidadeUrbana</td>\n",
              "      <td>21.845757</td>\n",
              "    </tr>\n",
              "    <tr>\n",
              "      <th>43</th>\n",
              "      <td>quantidadeDeclaracoesIrpfObservadas</td>\n",
              "      <td>21.744639</td>\n",
              "    </tr>\n",
              "    <tr>\n",
              "      <th>62</th>\n",
              "      <td>flagSocioProcessoJudicialCorrupcao</td>\n",
              "      <td>19.281131</td>\n",
              "    </tr>\n",
              "    <tr>\n",
              "      <th>80</th>\n",
              "      <td>quantidadeVeiculosPesados</td>\n",
              "      <td>18.700094</td>\n",
              "    </tr>\n",
              "    <tr>\n",
              "      <th>19</th>\n",
              "      <td>valorMedioDoado</td>\n",
              "      <td>18.282149</td>\n",
              "    </tr>\n",
              "    <tr>\n",
              "      <th>124</th>\n",
              "      <td>perfilInvestidorAGRESSIVO</td>\n",
              "      <td>18.195856</td>\n",
              "    </tr>\n",
              "    <tr>\n",
              "      <th>112</th>\n",
              "      <td>quantidadeTelefones</td>\n",
              "      <td>18.037611</td>\n",
              "    </tr>\n",
              "    <tr>\n",
              "      <th>37</th>\n",
              "      <td>qtdFinanciamentosVeicularesQuitados</td>\n",
              "      <td>17.667395</td>\n",
              "    </tr>\n",
              "    <tr>\n",
              "      <th>28</th>\n",
              "      <td>quantidadeEmailPadraoSuspeito</td>\n",
              "      <td>17.004911</td>\n",
              "    </tr>\n",
              "    <tr>\n",
              "      <th>53</th>\n",
              "      <td>diversificacaoFaixa</td>\n",
              "      <td>16.721601</td>\n",
              "    </tr>\n",
              "    <tr>\n",
              "      <th>50</th>\n",
              "      <td>bancarizacaoFaixa</td>\n",
              "      <td>15.991289</td>\n",
              "    </tr>\n",
              "    <tr>\n",
              "      <th>39</th>\n",
              "      <td>RecorrenciaFinanciamentoMaioridade</td>\n",
              "      <td>15.714868</td>\n",
              "    </tr>\n",
              "    <tr>\n",
              "      <th>46</th>\n",
              "      <td>ativosComCotaPercentual</td>\n",
              "      <td>14.611832</td>\n",
              "    </tr>\n",
              "    <tr>\n",
              "      <th>20</th>\n",
              "      <td>valorTotalDoado</td>\n",
              "      <td>14.292491</td>\n",
              "    </tr>\n",
              "    <tr>\n",
              "      <th>113</th>\n",
              "      <td>quantidadeTelefonesEnderecoConsistente</td>\n",
              "      <td>14.011424</td>\n",
              "    </tr>\n",
              "    <tr>\n",
              "      <th>73</th>\n",
              "      <td>valorTotal</td>\n",
              "      <td>13.837692</td>\n",
              "    </tr>\n",
              "    <tr>\n",
              "      <th>42</th>\n",
              "      <td>quantidadeRestituicaoIrpfObservadas</td>\n",
              "      <td>13.209844</td>\n",
              "    </tr>\n",
              "    <tr>\n",
              "      <th>51</th>\n",
              "      <td>diversificacao</td>\n",
              "      <td>13.027912</td>\n",
              "    </tr>\n",
              "    <tr>\n",
              "      <th>29</th>\n",
              "      <td>quantidadeEmailNaoConsistenteNomeTitular</td>\n",
              "      <td>12.578704</td>\n",
              "    </tr>\n",
              "    <tr>\n",
              "      <th>47</th>\n",
              "      <td>ativosSemCota</td>\n",
              "      <td>11.211128</td>\n",
              "    </tr>\n",
              "    <tr>\n",
              "      <th>26</th>\n",
              "      <td>quantidadeEmails</td>\n",
              "      <td>11.198380</td>\n",
              "    </tr>\n",
              "    <tr>\n",
              "      <th>36</th>\n",
              "      <td>qtdVeiculosFinanciados</td>\n",
              "      <td>11.192643</td>\n",
              "    </tr>\n",
              "    <tr>\n",
              "      <th>106</th>\n",
              "      <td>flagSocioEmpresasGrandePorte</td>\n",
              "      <td>10.782267</td>\n",
              "    </tr>\n",
              "    <tr>\n",
              "      <th>22</th>\n",
              "      <td>valorMaximoDoado</td>\n",
              "      <td>10.516789</td>\n",
              "    </tr>\n",
              "    <tr>\n",
              "      <th>49</th>\n",
              "      <td>bancarizacaoBest</td>\n",
              "      <td>10.491949</td>\n",
              "    </tr>\n",
              "  </tbody>\n",
              "</table>\n",
              "</div>"
            ],
            "text/plain": [
              "                                               Feature  Importance\n",
              "122                      perfilInvestidorDIVERSIFICADO  100.000000\n",
              "99             flagSegundoGrauProcessoJudicialCobranca   70.836132\n",
              "109                  flagSocioClasseEmpresaFachadaALTA   70.506065\n",
              "111                 flagSocioClasseEmpresaFachadaMEDIO   56.370383\n",
              "105     quantidadeMediaEmpresasMesmoCnaeAbertas12Meses   55.636098\n",
              "61                        flagProcessoJudicialCobranca   53.525677\n",
              "44          flagAlterouBancoDeclaracaoIrpfUltimos5Anos   53.351170\n",
              "114  historicoAtrasoFinanciamentoVeicularSEM_INFORM...   51.206053\n",
              "115         historicoAtrasoFinanciamentoVeicularATRASA   46.050038\n",
              "18                        quantidadeEleicoesComoDoador   44.714998\n",
              "13                                flagAltaQualificacao   43.305072\n",
              "119                         evolucaoPatrimonioDIMINUIU   42.762521\n",
              "72                                          qtdImoveis   42.724140\n",
              "30               flagAreaUrbanaBaixaDensidadeEdificios   42.141941\n",
              "15                                    flagRegistroAntt   42.019777\n",
              "6     flagAltaQualificacaoBeneficiarioProgramasSociais   39.980524\n",
              "34                         flagDividaDauCresceu180Dias   38.467697\n",
              "21           quantidadeDoacoesDescricaoNaoEspecificada   36.573287\n",
              "32                                       flagAreaRural   35.516900\n",
              "12                                      flagEmpresario   31.527614\n",
              "74                          flagTop10ValorImoveisRenda   31.149011\n",
              "116     historicoAtrasoFinanciamentoVeicularNAO_ATRASA   30.490931\n",
              "107                               flagSocioEmpresasEPP   29.727744\n",
              "63                 flagSocioProcessoJudicialTributario   28.673025\n",
              "94            flagPrimeiroGrauProcessoJudicialCobranca   28.104270\n",
              "14                                 flagServidorPublico   27.712762\n",
              "85                              quantidadePropriedades   27.386405\n",
              "16                                   flagProdutorRural   26.607336\n",
              "86                        quantidadePropriedadesAtivas   26.051382\n",
              "84                    valorAreaTotalPropriedadesRurais   25.795780\n",
              "45                                       ativosComCota   25.041223\n",
              "117                   evolucaoPatrimonioSEM_INFORMACAO   24.377066\n",
              "11                                           flagIdoso   22.277861\n",
              "23                          quantidadeDoacoesPoliticas   22.231645\n",
              "123                        perfilInvestidorCONSERVADOR   21.972529\n",
              "33                        flagFavelaOuComunidadeUrbana   21.845757\n",
              "43                 quantidadeDeclaracoesIrpfObservadas   21.744639\n",
              "62                  flagSocioProcessoJudicialCorrupcao   19.281131\n",
              "80                           quantidadeVeiculosPesados   18.700094\n",
              "19                                     valorMedioDoado   18.282149\n",
              "124                          perfilInvestidorAGRESSIVO   18.195856\n",
              "112                                quantidadeTelefones   18.037611\n",
              "37                 qtdFinanciamentosVeicularesQuitados   17.667395\n",
              "28                       quantidadeEmailPadraoSuspeito   17.004911\n",
              "53                                 diversificacaoFaixa   16.721601\n",
              "50                                   bancarizacaoFaixa   15.991289\n",
              "39                  RecorrenciaFinanciamentoMaioridade   15.714868\n",
              "46                             ativosComCotaPercentual   14.611832\n",
              "20                                     valorTotalDoado   14.292491\n",
              "113             quantidadeTelefonesEnderecoConsistente   14.011424\n",
              "73                                          valorTotal   13.837692\n",
              "42                 quantidadeRestituicaoIrpfObservadas   13.209844\n",
              "51                                      diversificacao   13.027912\n",
              "29            quantidadeEmailNaoConsistenteNomeTitular   12.578704\n",
              "47                                       ativosSemCota   11.211128\n",
              "26                                    quantidadeEmails   11.198380\n",
              "36                              qtdVeiculosFinanciados   11.192643\n",
              "106                       flagSocioEmpresasGrandePorte   10.782267\n",
              "22                                    valorMaximoDoado   10.516789\n",
              "49                                    bancarizacaoBest   10.491949"
            ]
          },
          "execution_count": 24,
          "metadata": {},
          "output_type": "execute_result"
        }
      ],
      "source": [
        "df_importance.head(60)"
      ]
    },
    {
      "cell_type": "markdown",
      "id": "9a15ba0b-79cc-4f1d-a54b-7f285925139e",
      "metadata": {
        "id": "9a15ba0b-79cc-4f1d-a54b-7f285925139e"
      },
      "source": [
        "# Salvar a Importância"
      ]
    },
    {
      "cell_type": "code",
      "execution_count": null,
      "id": "2c842ff0-177a-411a-b595-c47cee342695",
      "metadata": {
        "id": "2c842ff0-177a-411a-b595-c47cee342695",
        "tags": []
      },
      "outputs": [],
      "source": [
        "importance_dict = df_importance.set_index(\"Feature\")[\"Importance\"].to_dict()"
      ]
    },
    {
      "cell_type": "code",
      "execution_count": null,
      "id": "848bb80d-666d-44a1-bcec-fe8f4e4bcd33",
      "metadata": {
        "id": "848bb80d-666d-44a1-bcec-fe8f4e4bcd33",
        "tags": []
      },
      "outputs": [],
      "source": [
        "fs = gcsfs.GCSFileSystem(project=\"seu-projeto-gcp\")\n",
        "\n",
        "path = \"gs://oculto/loss_prevention/perfil_laranja/data/df_importance_alta_renda.json\"\n",
        "\n",
        "with fs.open(path, 'w') as f:\n",
        "    json.dump(importance_dict, f)\n"
      ]
    },
    {
      "cell_type": "code",
      "execution_count": null,
      "id": "1c0efb4a-78dd-4451-ba52-30405e72ff48",
      "metadata": {
        "id": "1c0efb4a-78dd-4451-ba52-30405e72ff48",
        "outputId": "b65ef4b7-0116-4bcc-a316-c0c6ace09b3a",
        "tags": []
      },
      "outputs": [
        {
          "name": "stderr",
          "output_type": "stream",
          "text": [
            "                                                                                \r"
          ]
        }
      ],
      "source": [
        "spark.createDataFrame(df_importance).write.mode(\"overwrite\").parquet(\n",
        "    \"gs://oculto/loss_prevention/perfil_laranja/data/df_importance_alta_renda.parquet\"\n",
        ")\n"
      ]
    },
    {
      "cell_type": "code",
      "execution_count": null,
      "id": "fe948204-45b9-4fdb-a83f-bf00da0db2d0",
      "metadata": {
        "id": "fe948204-45b9-4fdb-a83f-bf00da0db2d0"
      },
      "outputs": [],
      "source": []
    }
  ],
  "metadata": {
    "colab": {
      "provenance": []
    },
    "kernelspec": {
      "display_name": "PySpark",
      "language": "python",
      "name": "pyspark"
    },
    "language_info": {
      "codemirror_mode": {
        "name": "ipython",
        "version": 3
      },
      "file_extension": ".py",
      "mimetype": "text/x-python",
      "name": "python",
      "nbconvert_exporter": "python",
      "pygments_lexer": "ipython3",
      "version": "3.11.8"
    }
  },
  "nbformat": 4,
  "nbformat_minor": 5
}
