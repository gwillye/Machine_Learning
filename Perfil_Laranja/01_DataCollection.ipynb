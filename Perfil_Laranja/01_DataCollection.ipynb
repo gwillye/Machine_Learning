{
  "cells": [
    {
      "cell_type": "markdown",
      "id": "86144a84-f4cf-4221-8a67-0323b67c66ec",
      "metadata": {
        "id": "86144a84-f4cf-4221-8a67-0323b67c66ec",
        "tags": []
      },
      "source": [
        "# Importando dependencias"
      ]
    },
    {
      "cell_type": "code",
      "execution_count": null,
      "id": "14d7eee5-2fb1-4496-ba6f-d7bd394669eb",
      "metadata": {
        "id": "14d7eee5-2fb1-4496-ba6f-d7bd394669eb",
        "tags": []
      },
      "outputs": [],
      "source": [
        "import pyspark.sql.functions as sf\n",
        "from pyspark.sql.window import Window\n",
        "from pyspark.sql.types import IntegerType\n",
        "from feature_store import FeatureStore, Catalog\n",
        "from pyspark.sql import DataFrame\n",
        "import time\n",
        "from pyspark.sql.functions import col, when"
      ]
    },
    {
      "cell_type": "code",
      "execution_count": null,
      "id": "27babcba-349b-418b-be6f-b435a9050d95",
      "metadata": {
        "id": "27babcba-349b-418b-be6f-b435a9050d95",
        "tags": []
      },
      "outputs": [],
      "source": [
        "from functools import reduce\n",
        "import subprocess"
      ]
    },
    {
      "cell_type": "code",
      "execution_count": null,
      "id": "91ceea54-e992-4d48-984a-b59fc1551e8f",
      "metadata": {
        "id": "91ceea54-e992-4d48-984a-b59fc1551e8f",
        "tags": []
      },
      "outputs": [],
      "source": [
        "#TIMESTAMP = \"oculto\"\n",
        "#Timestamp oculto\n",
        "nw_timestamp = 'oculto'\n",
        "b3_timestamp = 'oculto'"
      ]
    },
    {
      "cell_type": "markdown",
      "id": "417fc505-4de7-4b48-a20e-64818ca5c9d2",
      "metadata": {
        "id": "417fc505-4de7-4b48-a20e-64818ca5c9d2",
        "tags": []
      },
      "source": [
        "# Feature Store"
      ]
    },
    {
      "cell_type": "code",
      "execution_count": null,
      "id": "98b3f545-bd86-4f3c-b9e5-74dec0e66ccd",
      "metadata": {
        "id": "98b3f545-bd86-4f3c-b9e5-74dec0e66ccd",
        "outputId": "19621487-10ae-41c9-9a23-13a31f88bad2",
        "tags": []
      },
      "outputs": [
        {
          "name": "stdout",
          "output_type": "stream",
          "text": [
            "You are currently in the PROD environment.\n"
          ]
        }
      ],
      "source": [
        "fs = FeatureStore(spark)"
      ]
    },
    {
      "cell_type": "code",
      "execution_count": null,
      "id": "6892945a-1e03-48a2-9fe8-c616774eb00c",
      "metadata": {
        "id": "6892945a-1e03-48a2-9fe8-c616774eb00c",
        "tags": []
      },
      "outputs": [],
      "source": [
        "catalog = fs.get_catalog()"
      ]
    },
    {
      "cell_type": "markdown",
      "id": "3fb98833-1be3-4efa-869c-b00edcdd2ab1",
      "metadata": {
        "id": "3fb98833-1be3-4efa-869c-b00edcdd2ab1",
        "tags": []
      },
      "source": [
        "# Utils"
      ]
    },
    {
      "cell_type": "code",
      "execution_count": null,
      "id": "e2b9f61f-8dec-4c2e-9282-2eb0a0b804a6",
      "metadata": {
        "id": "e2b9f61f-8dec-4c2e-9282-2eb0a0b804a6",
        "tags": []
      },
      "outputs": [],
      "source": [
        "oculto = \"gs://oculto/loss_prevention/perfil_laranja/\""
      ]
    },
    {
      "cell_type": "code",
      "execution_count": null,
      "id": "63cd2581-b939-4b98-8f08-692fec55e447",
      "metadata": {
        "id": "63cd2581-b939-4b98-8f08-692fec55e447",
        "tags": []
      },
      "outputs": [],
      "source": [
        "UF_DDD = {\"SP\": [11, 12, 13, 14, 15, 16, 17, 18, 19],\n",
        "       \"RJ\": [21, 22, 24],\n",
        "       \"ES\": [27, 28],\n",
        "       \"MG\": [31, 32, 33, 34, 35, 37, 38],\n",
        "       \"PR\": [41, 42, 43, 44, 45, 46],\n",
        "       \"SC\": [47, 48, 49],\n",
        "       \"RS\": [51, 53, 54, 55],\n",
        "       \"DF\": [61],\n",
        "       \"GO\": [62, 64],\n",
        "       \"TO\": [63],\n",
        "       \"MT\": [65, 66],\n",
        "       \"MS\": [67],\n",
        "       \"AC\": [68],\n",
        "       \"RO\": [69],\n",
        "       \"BA\": [71, 73, 74, 75, 77],\n",
        "       \"SE\": [79],\n",
        "       \"PE\": [81, 87],\n",
        "       \"AL\": [82],\n",
        "       \"PB\": [83],\n",
        "       \"RN\": [84],\n",
        "       \"CE\": [85, 88],\n",
        "       \"PI\": [86, 89],\n",
        "       \"PA\": [91, 93, 94],\n",
        "       \"AM\": [92, 97],\n",
        "       \"RR\": [95],\n",
        "       \"AP\": [96],\n",
        "       \"MA\": [98, 99]\n",
        "      }"
      ]
    },
    {
      "cell_type": "code",
      "execution_count": null,
      "id": "b6499ccf-79a2-435c-b3b0-7c0b44a6a328",
      "metadata": {
        "id": "b6499ccf-79a2-435c-b3b0-7c0b44a6a328",
        "tags": []
      },
      "outputs": [],
      "source": [
        "def get_age_status(pessoa: DataFrame) -> DataFrame:\n",
        "\n",
        "    pessoa = pessoa.withColumn(\n",
        "        \"flagAdolescente\",\n",
        "        sf.when((sf.col(\"idade\") >= 12) & (sf.col(\"idade\") <= 18), 1)\n",
        "        .otherwise(0)\n",
        "    )\n",
        "\n",
        "    pessoa = pessoa.withColumn(\n",
        "        \"flagIdoso\",\n",
        "        sf.when(sf.col(\"idade\") >= 60, 1)\n",
        "        .otherwise(0)\n",
        "    )\n",
        "\n",
        "    return pessoa"
      ]
    },
    {
      "cell_type": "code",
      "execution_count": null,
      "id": "a5ddbfeb-f3d4-4dff-93c1-719287ca4a3d",
      "metadata": {
        "id": "a5ddbfeb-f3d4-4dff-93c1-719287ca4a3d",
        "tags": []
      },
      "outputs": [],
      "source": [
        "def countMissingValues(dataframe: DataFrame) -> DataFrame:\n",
        "    missing_values = dataframe.select([\n",
        "        sf.count(sf.when(sf.col(c).isNull(), c)).alias(c) for c in dataframe.columns\n",
        "    ])\n",
        "\n",
        "    return missing_values"
      ]
    },
    {
      "cell_type": "markdown",
      "id": "3eb23388-a4a2-4dd1-ac96-6cdcd70708b1",
      "metadata": {
        "id": "3eb23388-a4a2-4dd1-ac96-6cdcd70708b1",
        "tags": []
      },
      "source": [
        "# Coleta dos dados"
      ]
    },
    {
      "cell_type": "markdown",
      "id": "eac6375e-c398-44a1-aee4-3e5f88f0b849",
      "metadata": {
        "id": "eac6375e-c398-44a1-aee4-3e5f88f0b849",
        "tags": []
      },
      "source": [
        "## Cadastrais"
      ]
    },
    {
      "cell_type": "code",
      "execution_count": null,
      "id": "db4a16fc-fc39-4e82-9cc4-f84dcaac9c44",
      "metadata": {
        "id": "db4a16fc-fc39-4e82-9cc4-f84dcaac9c44",
        "outputId": "493d222f-13d7-4ddb-8d04-11fc4c723143",
        "tags": []
      },
      "outputs": [],
      "source": [
        "pessoa = oculto"
      ]
    },
    {
      "cell_type": "code",
      "execution_count": null,
      "id": "63ad56eb-8d09-4afe-892b-d8b99558ebd8",
      "metadata": {
        "id": "63ad56eb-8d09-4afe-892b-d8b99558ebd8",
        "tags": []
      },
      "outputs": [],
      "source": [
        "pessoa = (\n",
        "    pessoa\n",
        "    .select(\n",
        "        'cpf',\n",
        "        'nome',\n",
        "        'idade',\n",
        "        'situacao',\n",
        "        'indicioFalecimento',\n",
        "        'dataIndicioFalecimento',\n",
        "        sf.when(sf.col(\"falecidoConfirmado\"), 1).otherwise(0).alias(\"flagFalecidoConfirmado\"),\n",
        "        sf.when(sf.col(\"situacao\") == \"REGULAR\", 1).otherwise(0).alias(\"flagSituacaoRegular\"),\n",
        "        sf.when(sf.col('dataInscricao') >= sf.col('dataNascimento'),\n",
        "                sf.round(sf.datediff(sf.col('dataInscricao'), sf.col('dataNascimento')) / 365, 2)\n",
        "               ).otherwise(None).alias(\"tempoEmAnosDataNascimentoDataInscricao\")\n",
        "    )\n",
        "    .withColumn(\"flagSupercentenario\", sf.when(sf.col('idade') >= 110, sf.lit(1)).otherwise(sf.lit(0)))\n",
        "    .filter((sf.col('idade') >= 12) & (sf.col('situacao') == \"REGULAR\"))\n",
        ")"
      ]
    },
    {
      "cell_type": "code",
      "execution_count": null,
      "id": "d8a54151-d774-4292-bd5d-5361ea4d5aef",
      "metadata": {
        "id": "d8a54151-d774-4292-bd5d-5361ea4d5aef",
        "outputId": "86ebf5a5-a33c-416f-80e2-c029c71b625e",
        "tags": []
      },
      "outputs": [
        {
          "name": "stderr",
          "output_type": "stream",
          "text": [
            "                                                                                \r"
          ]
        },
        {
          "data": {
            "text/plain": [
              "184050329"
            ]
          },
          "execution_count": 13,
          "metadata": {},
          "output_type": "execute_result"
        }
      ],
      "source": [
        "pessoa.count()"
      ]
    },
    {
      "cell_type": "code",
      "execution_count": null,
      "id": "52b5393b-8ecc-46c6-824b-7bbe3ae524ba",
      "metadata": {
        "id": "52b5393b-8ecc-46c6-824b-7bbe3ae524ba",
        "tags": []
      },
      "outputs": [],
      "source": [
        "pessoa = get_age_status(pessoa)"
      ]
    },
    {
      "cell_type": "code",
      "execution_count": null,
      "id": "f19f5110-bd76-4dab-9212-a4f03e793075",
      "metadata": {
        "id": "f19f5110-bd76-4dab-9212-a4f03e793075",
        "outputId": "2d6106a5-a34e-4554-fa48-4e220034913d",
        "tags": []
      },
      "outputs": [],
      "source": [
        "pessoa_compliance_regras = (\n",
        "    oculto\n",
        "    .select(\"cpf\",\n",
        "            sf.col(\"flagEmpresario\").cast(\"int\").alias(\"flagEmpresario\"),\n",
        "            sf.col(\"flagAltaQualificacao\").cast(\"int\").alias(\"flagAltaQualificacao\")\n",
        "           )\n",
        ")"
      ]
    },
    {
      "cell_type": "markdown",
      "id": "f271ad2c-e024-4b8c-afe2-712d1b2972cd",
      "metadata": {
        "id": "f271ad2c-e024-4b8c-afe2-712d1b2972cd",
        "tags": []
      },
      "source": [
        "### servidor público"
      ]
    },
    {
      "cell_type": "code",
      "execution_count": null,
      "id": "7e796f39-b6d9-4bd5-9000-64c9ac97f24a",
      "metadata": {
        "id": "7e796f39-b6d9-4bd5-9000-64c9ac97f24a",
        "outputId": "34a65569-9e3b-4d99-c216-ac892cd1c7e9",
        "tags": []
      },
      "outputs": [],
      "source": [
        "pessoa_servidor_publico = (\n",
        "    oculto\n",
        "    .select(sf.col(\"cd_cpf\").alias(\"cpf\"))\n",
        "    .dropDuplicates()\n",
        "    .withColumn(\"flagServidorPublico\", sf.lit(1))\n",
        ")"
      ]
    },
    {
      "cell_type": "markdown",
      "id": "e9bbdffa-d589-42f8-b6b8-39b80b995d7a",
      "metadata": {
        "id": "e9bbdffa-d589-42f8-b6b8-39b80b995d7a",
        "tags": []
      },
      "source": [
        "### produtor rural"
      ]
    },
    {
      "cell_type": "code",
      "execution_count": null,
      "id": "4ddf9604-567a-48d5-80a5-2f92e896f85f",
      "metadata": {
        "id": "4ddf9604-567a-48d5-80a5-2f92e896f85f",
        "tags": []
      },
      "outputs": [],
      "source": [
        "pessoa_sintegra_rural_ies = oculto"
      ]
    },
    {
      "cell_type": "code",
      "execution_count": null,
      "id": "46a362f1-edac-4029-9473-278bd4b90037",
      "metadata": {
        "id": "46a362f1-edac-4029-9473-278bd4b90037",
        "outputId": "072e3595-931f-40c3-8be7-131bca06bcb6",
        "tags": []
      },
      "outputs": [],
      "source": [
        "pessoa_produtor_rural = (\n",
        "    oculto\n",
        "    .select(\"cpf\")\n",
        "    .dropDuplicates()\n",
        "    .withColumn(\"flagProdutorRural\", sf.lit(1))\n",
        ")"
      ]
    },
    {
      "cell_type": "markdown",
      "id": "d551d967-d233-4f20-9cf3-e29bcae7e60e",
      "metadata": {
        "id": "d551d967-d233-4f20-9cf3-e29bcae7e60e",
        "tags": []
      },
      "source": [
        "### registro ANTT"
      ]
    },
    {
      "cell_type": "code",
      "execution_count": null,
      "id": "bd70d6ee-c564-4473-9c6f-69545c2e9beb",
      "metadata": {
        "id": "bd70d6ee-c564-4473-9c6f-69545c2e9beb",
        "outputId": "1126f0fc-9111-4deb-e8b8-6438dc133ad9",
        "tags": []
      },
      "outputs": [],
      "source": [
        "pessoa_registro_antt = (\n",
        "    oculto\n",
        "    .withColumn(\n",
        "        \"flagRegistroAntt\",\n",
        "            sf.when(\n",
        "                sf.col(\"rntrcSituacao\") == \"ATIVO\", 1\n",
        "            ).otherwise(0)\n",
        "        )\n",
        "    .select(\"cpf\",\n",
        "            \"flagRegistroAntt\")\n",
        "    .filter(sf.col(\"cpf\").isNotNull())\n",
        ")"
      ]
    },
    {
      "cell_type": "markdown",
      "id": "3d2b7ac5-f763-459f-ae89-a6289e35640d",
      "metadata": {
        "id": "3d2b7ac5-f763-459f-ae89-a6289e35640d",
        "tags": []
      },
      "source": [
        "### Salvando dados"
      ]
    },
    {
      "cell_type": "code",
      "execution_count": null,
      "id": "46ac812c-6b05-4ad2-9907-8d88618cd14f",
      "metadata": {
        "id": "46ac812c-6b05-4ad2-9907-8d88618cd14f",
        "tags": []
      },
      "outputs": [],
      "source": [
        "datasets = [pessoa,\n",
        "            pessoa_compliance_regras,\n",
        "            #pessoa_profissao,\n",
        "            pessoa_servidor_publico,\n",
        "            pessoa_registro_antt,\n",
        "            pessoa_produtor_rural\n",
        "           ]"
      ]
    },
    {
      "cell_type": "code",
      "execution_count": null,
      "id": "b4b2b56f-605c-4c68-a683-6dec9389a206",
      "metadata": {
        "id": "b4b2b56f-605c-4c68-a683-6dec9389a206",
        "tags": []
      },
      "outputs": [],
      "source": [
        "pessoa_cadastrais = reduce(lambda df1, df2: df1.join(df2, on=\"cpf\", how='left'), datasets)"
      ]
    },
    {
      "cell_type": "code",
      "execution_count": null,
      "id": "76306a40-0571-440c-a477-2421dc11849a",
      "metadata": {
        "id": "76306a40-0571-440c-a477-2421dc11849a",
        "outputId": "e35da94e-2957-464d-886f-36547648b152",
        "tags": []
      },
      "outputs": [
        {
          "name": "stderr",
          "output_type": "stream",
          "text": [
            "                                                                                \r"
          ]
        },
        {
          "data": {
            "text/plain": [
              "184050329"
            ]
          },
          "execution_count": 23,
          "metadata": {},
          "output_type": "execute_result"
        }
      ],
      "source": [
        "pessoa_cadastrais.count()"
      ]
    },
    {
      "cell_type": "code",
      "execution_count": null,
      "id": "832dde26-10e6-4da8-9b06-f39da8623c6d",
      "metadata": {
        "id": "832dde26-10e6-4da8-9b06-f39da8623c6d",
        "tags": []
      },
      "outputs": [],
      "source": [
        "pessoa_cadastrais = pessoa_cadastrais.fillna(0, subset=[\"flagServidorPublico\",\n",
        "                                                        \"flagEmpresario\",\n",
        "                                                        \"flagRegistroAntt\",\n",
        "                                                        \"flagProdutorRural\",\n",
        "                                                        \"flagAltaQualificacao\"\n",
        "                                                       ])"
      ]
    },
    {
      "cell_type": "code",
      "execution_count": null,
      "id": "8f7d3d42-35b1-49eb-b7b2-382d52d64ab0",
      "metadata": {
        "id": "8f7d3d42-35b1-49eb-b7b2-382d52d64ab0",
        "outputId": "41084ac1-37dc-4623-9464-18d1afb1791e",
        "tags": []
      },
      "outputs": [
        {
          "name": "stderr",
          "output_type": "stream",
          "text": [
            "                                                                                \r"
          ]
        }
      ],
      "source": [
        "DATASET_NAME = 'cadastrais.parquet'\n",
        "PATH = os.path.join(oculto, 'data/')\n",
        "\n",
        "pessoa_cadastrais.write.mode(\"overwrite\").parquet(os.path.join(PATH, DATASET_NAME))"
      ]
    },
    {
      "cell_type": "code",
      "execution_count": null,
      "id": "32e09dde-d582-4e1f-a88c-1273b19c3ba0",
      "metadata": {
        "id": "32e09dde-d582-4e1f-a88c-1273b19c3ba0",
        "outputId": "8ef9d380-ed4c-42c7-c6e5-71a1d2b137be",
        "tags": []
      },
      "outputs": [],
      "source": [
        "os.path.join(PATH, DATASET_NAME)"
      ]
    },
    {
      "cell_type": "markdown",
      "id": "c300771b-236a-4a4d-9838-8188756a72ac",
      "metadata": {
        "id": "c300771b-236a-4a4d-9838-8188756a72ac",
        "jp-MarkdownHeadingCollapsed": true,
        "tags": []
      },
      "source": [
        "## Endereço"
      ]
    },
    {
      "cell_type": "code",
      "execution_count": null,
      "id": "e6be2c10-b99e-47b4-8323-c8a14bf6639a",
      "metadata": {
        "id": "e6be2c10-b99e-47b4-8323-c8a14bf6639a",
        "tags": []
      },
      "outputs": [],
      "source": [
        "cols = ['cd_cpf', 'nm_logradouro', 'nu_logradouro',\n",
        "        'nm_bairro', 'cd_cep', 'nm_municipio',\n",
        "        'sg_uf', 'cd_latitude', 'cd_longitude']"
      ]
    },
    {
      "cell_type": "code",
      "execution_count": null,
      "id": "54962572-7eae-4f29-86f1-1b0bdfa2b4dd",
      "metadata": {
        "id": "54962572-7eae-4f29-86f1-1b0bdfa2b4dd",
        "outputId": "4affe13a-b129-4ba2-a3ab-a4ca9bcce431",
        "tags": []
      },
      "outputs": [],
      "source": [
        "endereco_simm = (\n",
        "    oculto\n",
        "    .select(*cols)\n",
        ")"
      ]
    },
    {
      "cell_type": "code",
      "execution_count": null,
      "id": "e23c1d5a-4576-4df2-a907-5c281261dbe9",
      "metadata": {
        "id": "e23c1d5a-4576-4df2-a907-5c281261dbe9",
        "tags": []
      },
      "outputs": [],
      "source": [
        "endereco = endereco_simm"
      ]
    },
    {
      "cell_type": "code",
      "execution_count": null,
      "id": "9ec98117-b074-4149-8688-c08f5d2b4801",
      "metadata": {
        "id": "9ec98117-b074-4149-8688-c08f5d2b4801",
        "tags": []
      },
      "outputs": [],
      "source": [
        "endereco.createOrReplaceTempView(\"endereco_pessoa\")"
      ]
    },
    {
      "cell_type": "markdown",
      "id": "f08436a0-c3fc-48b4-97a1-7c582e628403",
      "metadata": {
        "id": "f08436a0-c3fc-48b4-97a1-7c582e628403",
        "jp-MarkdownHeadingCollapsed": true,
        "tags": []
      },
      "source": [
        "### Setor censitário"
      ]
    },
    {
      "cell_type": "code",
      "execution_count": null,
      "id": "6cab579f-a071-4039-b138-6f6a87ed0821",
      "metadata": {
        "id": "6cab579f-a071-4039-b138-6f6a87ed0821",
        "outputId": "f6f6b60e-8735-49ef-e1cd-1ac875e5e45b",
        "tags": []
      },
      "outputs": [
        {
          "name": "stderr",
          "output_type": "stream",
          "text": [
            "25/03/19 04:31:19 WARN UDTRegistration: Cannot register UDT for org.geotools.coverage.grid.GridCoverage2D, which is already registered.\n",
            "25/03/19 04:31:19 WARN SimpleFunctionRegistry: The function rs_union_aggr replaced a previously registered function.\n",
            "25/03/19 04:31:19 WARN UDTRegistration: Cannot register UDT for org.locationtech.jts.geom.Geometry, which is already registered.\n",
            "25/03/19 04:31:19 WARN UDTRegistration: Cannot register UDT for org.locationtech.jts.index.SpatialIndex, which is already registered.\n",
            "25/03/19 04:31:19 WARN SimpleFunctionRegistry: The function st_envelope_aggr replaced a previously registered function.\n",
            "25/03/19 04:31:19 WARN SimpleFunctionRegistry: The function st_intersection_aggr replaced a previously registered function.\n",
            "25/03/19 04:31:19 WARN SimpleFunctionRegistry: The function st_union_aggr replaced a previously registered function.\n"
          ]
        }
      ],
      "source": [
        "from sedona.spark import *\n",
        "config = SedonaContext.builder().getOrCreate()\n",
        "sedona = SedonaContext.create(config)"
      ]
    },
    {
      "cell_type": "code",
      "execution_count": null,
      "id": "6278d6f3-6923-4fcb-a415-ec4612094551",
      "metadata": {
        "id": "6278d6f3-6923-4fcb-a415-ec4612094551",
        "tags": []
      },
      "outputs": [],
      "source": [
        "from sedona.core.formatMapper.shapefileParser import ShapefileReader\n",
        "from sedona.utils.adapter import Adapter"
      ]
    },
    {
      "cell_type": "code",
      "execution_count": null,
      "id": "72cd9133-b906-4011-98a8-4cca4bb2c2dd",
      "metadata": {
        "id": "72cd9133-b906-4011-98a8-4cca4bb2c2dd",
        "tags": []
      },
      "outputs": [],
      "source": [
        "endereco_geometry = spark.sql(\"SELECT *, ST_Point(cd_longitude, cd_latitude) AS geometry from endereco_pessoa WHERE cd_latitude IS NOT NULL\")\n",
        "endereco_geometry.createOrReplaceTempView(\"endereco_geometry\")"
      ]
    },
    {
      "cell_type": "code",
      "execution_count": null,
      "id": "1a380903-5396-45c2-b61c-d0312fe55a9a",
      "metadata": {
        "id": "1a380903-5396-45c2-b61c-d0312fe55a9a",
        "tags": []
      },
      "outputs": [],
      "source": [
        "path_censo = \"gs://oculto/discovery/Censo2022/shape_files_censo2022\"\n",
        "spatialRDD = ShapefileReader.readToGeometryRDD(spark.sparkContext, path_censo)\n",
        "spatial_df = Adapter.toDf(spatialRDD, spark)\n",
        "spatial_df.createOrReplaceTempView(\"spatial_censo22\")"
      ]
    },
    {
      "cell_type": "code",
      "execution_count": null,
      "id": "50cff393-f7d6-4e11-950a-4fcb07b719fe",
      "metadata": {
        "id": "50cff393-f7d6-4e11-950a-4fcb07b719fe",
        "tags": []
      },
      "outputs": [],
      "source": [
        "df_censo = spark.sql(\"SELECT geometry, SITUACAO AS situacao, CD_SIT AS situacaoDetalhada, CD_TIPO AS tipoSetorCensitario FROM spatial_censo22\")\n",
        "df_censo.createOrReplaceTempView(\"censo\")"
      ]
    },
    {
      "cell_type": "code",
      "execution_count": null,
      "id": "df2014eb-b9c5-4f1c-a4d7-a499fac14fb9",
      "metadata": {
        "id": "df2014eb-b9c5-4f1c-a4d7-a499fac14fb9",
        "tags": []
      },
      "outputs": [],
      "source": [
        "query = \"\"\"\n",
        "SELECT\n",
        "    e.cd_cpf AS cpf,\n",
        "    e.nm_municipio,\n",
        "    e.sg_uf,\n",
        "    c.situacaoDetalhada,\n",
        "    c.tipoSetorCensitario\n",
        "FROM\n",
        "    endereco_geometry e,\n",
        "    censo c\n",
        "WHERE ST_Contains(c.geometry, e.geometry)\n",
        "\"\"\""
      ]
    },
    {
      "cell_type": "code",
      "execution_count": null,
      "id": "8e25c731-fc41-4c81-8478-abcbf2b101f4",
      "metadata": {
        "id": "8e25c731-fc41-4c81-8478-abcbf2b101f4",
        "tags": []
      },
      "outputs": [],
      "source": [
        "endereco_censo = spark.sql(query)"
      ]
    },
    {
      "cell_type": "code",
      "execution_count": null,
      "id": "7734cc92-e746-4b2f-98a3-a941a95f0b8c",
      "metadata": {
        "id": "7734cc92-e746-4b2f-98a3-a941a95f0b8c",
        "tags": []
      },
      "outputs": [],
      "source": [
        "endereco_censo = (\n",
        "    endereco_censo\n",
        "    .withColumn(\"flagAreaUrbanaBaixaDensidadeEdificios\", sf.when(sf.col(\"situacaoDetalhada\") == 2, 1).otherwise(0))\n",
        "    .withColumn(\"flagAglomeradoRural\", sf.when(sf.col(\"situacaoDetalhada\").isin([5, 6, 7]), 1).otherwise(0))\n",
        "    .withColumn(\"flagAreaRural\", sf.when(sf.col(\"situacaoDetalhada\") == 8, 1).otherwise(0))\n",
        "    .withColumn(\"flagFavelaOuComunidadeUrbana\", sf.when(sf.col(\"tipoSetorCensitario\") == 1, 1).otherwise(0))\n",
        "    .drop(\"situacaoDetalhada\", \"tipoSetorCensitario\")\n",
        "    .join(pessoa_cadastrais, how=\"right\", on=\"cpf\")\n",
        "    .select(\"cpf\", \"flagAreaUrbanaBaixaDensidadeEdificios\",\n",
        "            \"flagAglomeradoRural\", \"flagAreaRural\",\n",
        "            \"flagFavelaOuComunidadeUrbana\"\n",
        "           )\n",
        "    .fillna(0, subset=[\"flagAreaUrbanaBaixaDensidadeEdificios\",\n",
        "                       \"flagAglomeradoRural\", \"flagAreaRural\",\n",
        "                       \"flagFavelaOuComunidadeUrbana\"])\n",
        ")"
      ]
    },
    {
      "cell_type": "code",
      "execution_count": null,
      "id": "93f01b32-c847-4ce4-a7b2-643e0cfbff85",
      "metadata": {
        "id": "93f01b32-c847-4ce4-a7b2-643e0cfbff85",
        "outputId": "9b584907-8580-488b-8c08-710948d9112b",
        "tags": []
      },
      "outputs": [
        {
          "name": "stdout",
          "output_type": "stream",
          "text": [
            "root\n",
            " |-- cpf: string (nullable = true)\n",
            " |-- flagAreaUrbanaBaixaDensidadeEdificios: integer (nullable = true)\n",
            " |-- flagAglomeradoRural: integer (nullable = true)\n",
            " |-- flagAreaRural: integer (nullable = true)\n",
            " |-- flagFavelaOuComunidadeUrbana: integer (nullable = true)\n",
            "\n"
          ]
        }
      ],
      "source": [
        "endereco_censo.printSchema()"
      ]
    },
    {
      "cell_type": "markdown",
      "id": "1ae165f4-acc6-4f8c-a8d4-7495ea546c3b",
      "metadata": {
        "id": "1ae165f4-acc6-4f8c-a8d4-7495ea546c3b"
      },
      "source": [
        "#### Salvando dados"
      ]
    },
    {
      "cell_type": "code",
      "execution_count": null,
      "id": "c03bc7e1-ed95-4cb0-a8bd-e96757256553",
      "metadata": {
        "id": "c03bc7e1-ed95-4cb0-a8bd-e96757256553",
        "outputId": "5df12102-96e2-4c87-b95f-757a64eb70d3",
        "tags": []
      },
      "outputs": [
        {
          "name": "stderr",
          "output_type": "stream",
          "text": [
            "25/03/19 04:31:51 WARN JoinQuery: UseIndex is true, but no index exists. Will build index on the fly.\n",
            "                                                                                \r"
          ]
        },
        {
          "name": "stdout",
          "output_type": "stream",
          "text": [
            "Passo 1 concluído em 1429.82 segundos\n"
          ]
        }
      ],
      "source": [
        "t1 = time.time()\n",
        "DATASET_NAME = 'enderecos.parquet'\n",
        "PATH = os.path.join(oculto, 'data/')\n",
        "\n",
        "endereco_censo.write.mode(\"overwrite\").parquet(os.path.join(PATH, DATASET_NAME))\n",
        "print(f\"Passo 1 concluído em {time.time() - t1:.2f} segundos\")"
      ]
    },
    {
      "cell_type": "code",
      "execution_count": null,
      "id": "66c8c9af-439f-4312-93a1-93600d77014e",
      "metadata": {
        "id": "66c8c9af-439f-4312-93a1-93600d77014e",
        "outputId": "fd1f6065-9abb-492b-baa2-791a1e5ea19c",
        "tags": []
      },
      "outputs": [
        {
          "name": "stdout",
          "output_type": "stream",
          "text": [
            "CPU times: user 3 μs, sys: 2 μs, total: 5 μs\n",
            "Wall time: 8.82 μs\n"
          ]
        }
      ],
      "source": [
        "%%time\n",
        "# endereco_censo.show(5)"
      ]
    },
    {
      "cell_type": "markdown",
      "id": "7944f64b-7862-4c4b-8d51-01ae4129c732",
      "metadata": {
        "id": "7944f64b-7862-4c4b-8d51-01ae4129c732",
        "jp-MarkdownHeadingCollapsed": true,
        "tags": []
      },
      "source": [
        "## Benefícios"
      ]
    },
    {
      "cell_type": "markdown",
      "id": "b16bb545-87d6-4cab-9f8f-1c9537ecbfac",
      "metadata": {
        "id": "b16bb545-87d6-4cab-9f8f-1c9537ecbfac",
        "jp-MarkdownHeadingCollapsed": true,
        "tags": []
      },
      "source": [
        "### BPC"
      ]
    },
    {
      "cell_type": "code",
      "execution_count": null,
      "id": "74e00fd4-416e-4050-8b96-67afe08e3818",
      "metadata": {
        "id": "74e00fd4-416e-4050-8b96-67afe08e3818",
        "tags": []
      },
      "outputs": [],
      "source": [
        "beneficio_bpc = (\n",
        "    oculto\n",
        "    .select(sf.col(\"cpfBeneficiario\").alias(\"cpf\"),\n",
        "            \"cpfRepresentanteLegal\")\n",
        "    .dropDuplicates(subset=['cpf'])\n",
        "    .withColumn(\"flagBeneficiarioBPC\", sf.lit(1))\n",
        "    .withColumn(\n",
        "        \"flagVulneravelBPC\",\n",
        "        sf.when((sf.col(\"cpf\") != sf.col(\"cpfRepresentanteLegal\")), 1)\n",
        "        .otherwise(0)\n",
        "    )\n",
        "    .join(pessoa_cadastrais.select(\"cpf\"), how=\"right\", on=\"cpf\")\n",
        "    .select(\"cpf\", \"flagBeneficiarioBPC\", \"flagVulneravelBPC\")\n",
        "    .fillna(0)\n",
        ")"
      ]
    },
    {
      "cell_type": "markdown",
      "id": "1220494b-9dfa-4eb2-91b5-fd803932686e",
      "metadata": {
        "id": "1220494b-9dfa-4eb2-91b5-fd803932686e"
      },
      "source": [
        "### Seguro Defeso"
      ]
    },
    {
      "cell_type": "code",
      "execution_count": null,
      "id": "79010b59-2c31-492b-806a-542193c277e2",
      "metadata": {
        "id": "79010b59-2c31-492b-806a-542193c277e2",
        "outputId": "3733b223-c543-4320-d9fa-b92e2194a65d",
        "tags": []
      },
      "outputs": [],
      "source": [
        "beneficio_seguro_defeso = (\n",
        "    oculto\n",
        "    .select(\"cpf\")\n",
        "    .dropDuplicates()\n",
        "    .withColumn(\"flagBeneficiarioSeguroDefeso\", sf.lit(1))\n",
        "    .join(pessoa_cadastrais.select(\"cpf\"), how=\"right\", on=\"cpf\")\n",
        "    .fillna(0)\n",
        ")"
      ]
    },
    {
      "cell_type": "markdown",
      "id": "bd5e3e8d-37e3-4004-bc0f-f23fb2d88758",
      "metadata": {
        "id": "bd5e3e8d-37e3-4004-bc0f-f23fb2d88758"
      },
      "source": [
        "### Garantia Safra"
      ]
    },
    {
      "cell_type": "code",
      "execution_count": null,
      "id": "75b6800a-5232-4a9f-8ffe-a9ad32c5c7ef",
      "metadata": {
        "id": "75b6800a-5232-4a9f-8ffe-a9ad32c5c7ef",
        "outputId": "afaf3117-435e-4513-9e86-94de7faacb8e",
        "tags": []
      },
      "outputs": [],
      "source": [
        "beneficio_garantia_safra = (\n",
        "    oculto\n",
        "    .filter(sf.col(\"beneficio\") == \"BENEFICIARIO DE GARANTIA SAFRA\")\n",
        "    .select(\"cpf\")\n",
        "    .dropDuplicates()\n",
        "    .withColumn(\"flagBeneficiarioGarantiaSafra\", sf.lit(1))\n",
        "    .join(pessoa_cadastrais.select(\"cpf\"), how=\"right\", on=\"cpf\")\n",
        "    .fillna(0)\n",
        ")"
      ]
    },
    {
      "cell_type": "markdown",
      "id": "9aa35f0c-ea53-46d6-9546-fb9c48bf49f0",
      "metadata": {
        "id": "9aa35f0c-ea53-46d6-9546-fb9c48bf49f0"
      },
      "source": [
        "### Novo Bolsa Familia"
      ]
    },
    {
      "cell_type": "code",
      "execution_count": null,
      "id": "6b2ea187-a47d-4d52-9507-5aff177f85c2",
      "metadata": {
        "id": "6b2ea187-a47d-4d52-9507-5aff177f85c2",
        "outputId": "e931b9d5-03b2-48e9-d5a1-e353a6fea9d9",
        "tags": []
      },
      "outputs": [],
      "source": [
        "novo_bolsa_familia = (\n",
        "    oculto\n",
        "    .select(\"cpf\")\n",
        "    .dropDuplicates()\n",
        "    .withColumn(\"flagBeneficiarioNovoBolsaFamilia\", sf.lit(1))\n",
        "    .join(pessoa_cadastrais, how=\"right\", on=\"cpf\")\n",
        "    .select(\"cpf\", \"flagBeneficiarioNovoBolsaFamilia\")\n",
        "    .fillna(0)\n",
        ")"
      ]
    },
    {
      "cell_type": "code",
      "execution_count": null,
      "id": "05e0ba63-74d0-4314-afb3-e550b3ee064b",
      "metadata": {
        "id": "05e0ba63-74d0-4314-afb3-e550b3ee064b",
        "tags": []
      },
      "outputs": [],
      "source": [
        "novo_bolsa_familia.groupBy(\"flagBeneficiarioNovoBolsaFamilia\").count().show()"
      ]
    },
    {
      "cell_type": "markdown",
      "id": "a2f35967-7212-4979-96e2-c2ba40445ae9",
      "metadata": {
        "id": "a2f35967-7212-4979-96e2-c2ba40445ae9",
        "tags": []
      },
      "source": [
        "### Salvando dados"
      ]
    },
    {
      "cell_type": "code",
      "execution_count": null,
      "id": "b4c9fb57-24f1-4dcb-9821-28de8fc532b1",
      "metadata": {
        "id": "b4c9fb57-24f1-4dcb-9821-28de8fc532b1",
        "tags": []
      },
      "outputs": [],
      "source": [
        "beneficiary_condition = (\n",
        "    (sf.col(\"flagBeneficiarioBPC\") == 1) |\n",
        "    # (sf.col(\"flagBeneficiarioBolsaFamilia\") == 1) |\n",
        "    # (sf.col(\"flagBeneficiarioAuxilioBrasil\") == 1) |\n",
        "    # (sf.col(\"flagBeneficiarioAuxilioEmergencial\") == 1) |\n",
        "    (sf.col(\"flagBeneficiarioSeguroDefeso\") == 1) |\n",
        "    (sf.col(\"flagBeneficiarioGarantiaSafra\") == 1) |\n",
        "    (sf.col(\"flagBeneficiarioNovoBolsaFamilia\") == 1)\n",
        ")"
      ]
    },
    {
      "cell_type": "code",
      "execution_count": null,
      "id": "6628d2f8-4a22-4edc-8051-947f90ebec6e",
      "metadata": {
        "id": "6628d2f8-4a22-4edc-8051-947f90ebec6e",
        "tags": []
      },
      "outputs": [],
      "source": [
        "datasets = [beneficio_bpc, beneficio_seguro_defeso,\n",
        "            beneficio_garantia_safra,\n",
        "            novo_bolsa_familia\n",
        "           ]"
      ]
    },
    {
      "cell_type": "code",
      "execution_count": null,
      "id": "8e84dd2b-8931-4535-9c0b-003576af29c9",
      "metadata": {
        "id": "8e84dd2b-8931-4535-9c0b-003576af29c9",
        "tags": []
      },
      "outputs": [],
      "source": [
        "beneficios = (\n",
        "    reduce(lambda df1, df2: df1.join(df2, on=\"cpf\", how='inner'), datasets)\n",
        "    .withColumn(\"flagBeneficiarioProgramasSociais\", sf.when(beneficiary_condition, 1).otherwise(0))\n",
        ")"
      ]
    },
    {
      "cell_type": "code",
      "execution_count": null,
      "id": "8f625e46-7d5b-4af3-ada8-6a5630bbdf52",
      "metadata": {
        "id": "8f625e46-7d5b-4af3-ada8-6a5630bbdf52",
        "tags": []
      },
      "outputs": [],
      "source": [
        "def get_high_qualification_beneficiary_programs(pessoa_cadastrais: DataFrame, beneficios: DataFrame) -> DataFrame:\n",
        "    pessoa_alta_qualificacao_beneficiaria_programas = (\n",
        "        pessoa_cadastrais\n",
        "        .select(\"cpf\", \"flagAltaQualificacao\")\n",
        "        .join(beneficios, on='cpf', how='inner')\n",
        "    )\n",
        "\n",
        "    pessoa_alta_qualificacao_beneficiaria_programas = (\n",
        "        pessoa_alta_qualificacao_beneficiaria_programas\n",
        "        .withColumn(\"flagAltaQualificacaoBeneficiarioProgramasSociais\",\n",
        "                    sf.when(sf.col(\"flagBeneficiarioProgramasSociais\") == 1, 1)\n",
        "                    .otherwise(0)\n",
        "                   )\n",
        "    )\n",
        "\n",
        "    return pessoa_alta_qualificacao_beneficiaria_programas.select(\"cpf\", \"flagAltaQualificacaoBeneficiarioProgramasSociais\")"
      ]
    },
    {
      "cell_type": "code",
      "execution_count": null,
      "id": "4f0f1e99-5026-4c14-83c2-9fd78dd4bb18",
      "metadata": {
        "id": "4f0f1e99-5026-4c14-83c2-9fd78dd4bb18",
        "tags": []
      },
      "outputs": [],
      "source": [
        "pessoa_beneficios = (\n",
        "    beneficios\n",
        "    .join(\n",
        "        get_high_qualification_beneficiary_programs(pessoa_cadastrais, beneficios),\n",
        "        how=\"inner\", on=\"cpf\"\n",
        "    ).fillna(0)\n",
        ")"
      ]
    },
    {
      "cell_type": "code",
      "execution_count": null,
      "id": "6df51e9d-c319-4c35-9c96-d01f233561fb",
      "metadata": {
        "id": "6df51e9d-c319-4c35-9c96-d01f233561fb",
        "outputId": "5053715c-ef8f-439c-fe28-5d0db963f862",
        "tags": []
      },
      "outputs": [
        {
          "name": "stderr",
          "output_type": "stream",
          "text": [
            "                                                                                \r"
          ]
        },
        {
          "name": "stdout",
          "output_type": "stream",
          "text": [
            "Passo 1 concluído em 941.51 segundos\n"
          ]
        }
      ],
      "source": [
        "t1 = time.time()\n",
        "DATASET_NAME = 'beneficios.parquet'\n",
        "PATH = os.path.join(oculto, 'data/')\n",
        "\n",
        "pessoa_beneficios.write.mode(\"overwrite\").parquet(os.path.join(PATH, DATASET_NAME))\n",
        "print(f\"Passo 1 concluído em {time.time() - t1:.2f} segundos\")"
      ]
    },
    {
      "cell_type": "markdown",
      "id": "b8fb09f6-a1d3-418c-b0b8-3f6813fd27d1",
      "metadata": {
        "id": "b8fb09f6-a1d3-418c-b0b8-3f6813fd27d1",
        "jp-MarkdownHeadingCollapsed": true,
        "tags": []
      },
      "source": [
        "## Multiplicidade de CPFs"
      ]
    },
    {
      "cell_type": "code",
      "execution_count": null,
      "id": "49e036b5-ed6e-416e-ae00-075a630eccd0",
      "metadata": {
        "id": "49e036b5-ed6e-416e-ae00-075a630eccd0",
        "outputId": "11822273-e7e5-42b3-b96d-8da0d731b109",
        "tags": []
      },
      "outputs": [],
      "source": [
        "multiplicidade_cpfs = (\n",
        "    oculto\n",
        "    .join(pessoa_cadastrais.select(\"cpf\"), how=\"inner\", on=\"cpf\")\n",
        ")"
      ]
    },
    {
      "cell_type": "code",
      "execution_count": null,
      "id": "d876d704-a13d-46c0-b456-1ff309b4c1a8",
      "metadata": {
        "id": "d876d704-a13d-46c0-b456-1ff309b4c1a8",
        "outputId": "296115b7-a423-4df2-fc3e-f829d8cdabf8",
        "tags": []
      },
      "outputs": [
        {
          "name": "stderr",
          "output_type": "stream",
          "text": [
            "                                                                                \r"
          ]
        },
        {
          "data": {
            "text/plain": [
              "184050329"
            ]
          },
          "execution_count": 14,
          "metadata": {},
          "output_type": "execute_result"
        }
      ],
      "source": [
        "multiplicidade_cpfs.count()"
      ]
    },
    {
      "cell_type": "markdown",
      "id": "91694b1d-e5ac-46cf-bdb5-516ad68854a9",
      "metadata": {
        "id": "91694b1d-e5ac-46cf-bdb5-516ad68854a9",
        "tags": []
      },
      "source": [
        "### Salvando dados"
      ]
    },
    {
      "cell_type": "code",
      "execution_count": null,
      "id": "d18d0127-a938-4487-8d4d-1c8e5b2b32eb",
      "metadata": {
        "id": "d18d0127-a938-4487-8d4d-1c8e5b2b32eb",
        "outputId": "a07b9de2-b21a-4d0a-ba2e-9335c32fd638",
        "tags": []
      },
      "outputs": [
        {
          "name": "stderr",
          "output_type": "stream",
          "text": [
            "                                                                                \r"
          ]
        }
      ],
      "source": [
        "DATASET_NAME = 'multiplicidade_cpf.parquet'\n",
        "PATH = os.path.join(oculto, 'data/')\n",
        "\n",
        "multiplicidade_cpfs.write.mode(\"overwrite\").parquet(os.path.join(PATH, DATASET_NAME))"
      ]
    },
    {
      "cell_type": "markdown",
      "id": "6ef4aec1-aa71-485b-884b-1528bd5bbfb7",
      "metadata": {
        "id": "6ef4aec1-aa71-485b-884b-1528bd5bbfb7",
        "jp-MarkdownHeadingCollapsed": true,
        "tags": []
      },
      "source": [
        "## Renda"
      ]
    },
    {
      "cell_type": "code",
      "execution_count": null,
      "id": "1ee16683-a0c0-44ff-af93-0d57bdf9692d",
      "metadata": {
        "id": "1ee16683-a0c0-44ff-af93-0d57bdf9692d",
        "outputId": "54262039-d06b-413a-f534-9cd9d2cbc1b4",
        "tags": []
      },
      "outputs": [],
      "source": [
        "pessoa_renda_estimada = (\n",
        "    oculto\n",
        "    .join(pessoa_cadastrais.select(\"cpf\"), how=\"right\", on=\"cpf\")\n",
        "    .select(\"cpf\",\n",
        "            sf.col(\"flagRendaSemInformacao\").cast(\"int\").alias(\"flagRendaSemInformacao\"),\n",
        "            sf.col(\"flagBaixaRenda\").cast(\"int\").alias(\"flagBaixaRenda\"),\n",
        "            sf.col(\"flagMediaRenda\").cast(\"int\").alias(\"flagMediaRenda\"),\n",
        "            sf.col(\"flagAltaRenda\").cast(\"int\").alias(\"flagAltaRenda\"))\n",
        "    .fillna(0)\n",
        ")"
      ]
    },
    {
      "cell_type": "markdown",
      "id": "060d1037-589b-4a60-be15-5cd0d4f1ebbe",
      "metadata": {
        "id": "060d1037-589b-4a60-be15-5cd0d4f1ebbe",
        "jp-MarkdownHeadingCollapsed": true,
        "tags": []
      },
      "source": [
        "### Salvando dados"
      ]
    },
    {
      "cell_type": "code",
      "execution_count": null,
      "id": "970dc0f7-717e-4fca-8950-da9114b9ba35",
      "metadata": {
        "id": "970dc0f7-717e-4fca-8950-da9114b9ba35",
        "tags": []
      },
      "outputs": [],
      "source": [
        "DATASET_NAME = 'renda.parquet'\n",
        "PATH = os.path.join(oculto, 'data/')\n",
        "\n",
        "pessoa_renda_estimada.write.mode(\"overwrite\").parquet(os.path.join(PATH, DATASET_NAME))"
      ]
    },
    {
      "cell_type": "markdown",
      "id": "c484b1dc-a463-437a-9d68-f1f550fd546e",
      "metadata": {
        "id": "c484b1dc-a463-437a-9d68-f1f550fd546e",
        "jp-MarkdownHeadingCollapsed": true,
        "tags": []
      },
      "source": [
        "## Imposto de Renda"
      ]
    },
    {
      "cell_type": "code",
      "execution_count": null,
      "id": "875ddb79-b178-4934-b9c2-5ad2521f14f4",
      "metadata": {
        "id": "875ddb79-b178-4934-b9c2-5ad2521f14f4",
        "tags": []
      },
      "outputs": [],
      "source": [
        "cols = [\"cpf\", \"quantidadeRestituicaoIrpfObservadas\",\n",
        "        \"quantidadeDeclaracoesIrpfObservadas\",\n",
        "        \"flagAlterouBancoDeclaracaoIrpfUltimos5Anos\"\n",
        "       ]"
      ]
    },
    {
      "cell_type": "code",
      "execution_count": null,
      "id": "8088b9dc-3164-40bf-85a4-30437ddd1c60",
      "metadata": {
        "id": "8088b9dc-3164-40bf-85a4-30437ddd1c60",
        "outputId": "c38d2129-e0b7-458e-c4a7-1379a3522522",
        "tags": []
      },
      "outputs": [],
      "source": [
        "pessoa_irpf = (\n",
        "    oculto\n",
        "    .select(*cols)\n",
        "    .join(pessoa_cadastrais.select(\"cpf\"), how=\"right\", on=\"cpf\")\n",
        "    .fillna(0, subset=[\"quantidadeRestituicaoIrpfObservadas\", \"quantidadeDeclaracoesIrpfObservadas\"])\n",
        "    .fillna(False, subset=[\"flagAlterouBancoDeclaracaoIrpfUltimos5Anos\"])\n",
        ")"
      ]
    },
    {
      "cell_type": "code",
      "execution_count": null,
      "id": "c417f03d-538b-4023-9978-3b1b21190cb7",
      "metadata": {
        "id": "c417f03d-538b-4023-9978-3b1b21190cb7",
        "tags": []
      },
      "outputs": [],
      "source": [
        "from pyspark.sql.functions import col"
      ]
    },
    {
      "cell_type": "markdown",
      "id": "a6c4983e-a9fd-498b-9fb7-0107462484a5",
      "metadata": {
        "id": "a6c4983e-a9fd-498b-9fb7-0107462484a5"
      },
      "source": [
        "### Salvando dados"
      ]
    },
    {
      "cell_type": "code",
      "execution_count": null,
      "id": "679ea1e0-1099-4a60-a459-12f605e25c2b",
      "metadata": {
        "id": "679ea1e0-1099-4a60-a459-12f605e25c2b",
        "outputId": "68725bf8-6a2a-45b7-db6c-099d1e17d133",
        "tags": []
      },
      "outputs": [
        {
          "name": "stderr",
          "output_type": "stream",
          "text": [
            "                                                                                \r"
          ]
        }
      ],
      "source": [
        "DATASET_NAME = 'imposto-renda.parquet'\n",
        "PATH = os.path.join(oculto, 'data/')\n",
        "\n",
        "pessoa_irpf.write.mode(\"overwrite\").parquet(os.path.join(PATH, DATASET_NAME))"
      ]
    },
    {
      "cell_type": "markdown",
      "id": "00316101-4a2e-4085-aa97-765106267cef",
      "metadata": {
        "id": "00316101-4a2e-4085-aa97-765106267cef",
        "jp-MarkdownHeadingCollapsed": true,
        "tags": []
      },
      "source": [
        "## Sócios"
      ]
    },
    {
      "cell_type": "code",
      "execution_count": null,
      "id": "8417d1e3-6336-4a6c-832e-575063b0c77d",
      "metadata": {
        "id": "8417d1e3-6336-4a6c-832e-575063b0c77d",
        "outputId": "383b4e26-aa7a-41ea-d740-8909103cba43",
        "tags": []
      },
      "outputs": [],
      "source": [
        "cols = [\"cpf\",\n",
        "        \"flagSocioDuplaId\",\n",
        "        \"percentualEmpresasEmLocalEntregaInterna\",\n",
        "        \"flagSocioEmpresaComSocioFalecido\",\n",
        "        \"quantidadeMaximaEmailsIguaisEmpresasAtivas\", \"quantidadeMediaEmpresasMesmoCnaeAbertas12Meses\",\n",
        "        \"quantidadeMaximaAlteracoesEnderecos12meses\",\n",
        "        \"quantidadeMaximaAlteracoesQsa365Dias\", \"quantidadeMaximaAlteracoesQsa30Dias\",\n",
        "        # \"flagSocioProgramaSocial\"\n",
        "       ]\n",
        "\n",
        "compliance_socios = (\n",
        "    oculto\n",
        "    .select(\"cpf\",\n",
        "            sf.col(\"flagSocioDuplaId\").cast(\"int\").alias(\"flagSocioDuplaId\"),\n",
        "            \"percentualEmpresasEmLocalEntregaInterna\",\n",
        "            sf.col(\"flagSocioEmpresaComSocioFalecido\").cast(\"int\").alias(\"flagSocioEmpresaComSocioFalecido\"),\n",
        "            \"quantidadeMaximaEmailsIguaisEmpresasAtivas\", \"quantidadeMediaEmpresasMesmoCnaeAbertas12Meses\",\n",
        "            \"quantidadeMaximaAlteracoesEnderecos12meses\",\n",
        "            \"quantidadeMaximaAlteracoesQsa365Dias\", \"quantidadeMaximaAlteracoesQsa30Dias\")\n",
        "    # .join(pessoa_cadastrais.select(\"cpf\"), how=\"right\", on=\"cpf\")\n",
        ")"
      ]
    },
    {
      "cell_type": "code",
      "execution_count": null,
      "id": "66056c1a-ec19-4c17-9a44-f0bc8abdb637",
      "metadata": {
        "id": "66056c1a-ec19-4c17-9a44-f0bc8abdb637",
        "tags": []
      },
      "outputs": [],
      "source": [
        "beneficios = pessoa_beneficios\n",
        "dataset = compliance_socios"
      ]
    },
    {
      "cell_type": "code",
      "execution_count": null,
      "id": "289988fb-34f1-4c5d-b7d3-6930d284d2e6",
      "metadata": {
        "id": "289988fb-34f1-4c5d-b7d3-6930d284d2e6",
        "outputId": "2fc0ec9f-bb0e-4a38-a2eb-11fdc5ba20ad",
        "tags": []
      },
      "outputs": [
        {
          "name": "stderr",
          "output_type": "stream",
          "text": [
            "                                                                                \r"
          ]
        },
        {
          "name": "stdout",
          "output_type": "stream",
          "text": [
            "Registros em dataset_0: 156500515\n"
          ]
        },
        {
          "name": "stderr",
          "output_type": "stream",
          "text": [
            "[Stage 43:======================================================> (49 + 1) / 50]\r"
          ]
        },
        {
          "name": "stdout",
          "output_type": "stream",
          "text": [
            "Registros em dataset_1: 27549814\n",
            "Processamento concluído em 43.77 segundos\n"
          ]
        },
        {
          "name": "stderr",
          "output_type": "stream",
          "text": [
            "                                                                                \r"
          ]
        }
      ],
      "source": [
        "from pyspark.sql.functions import col\n",
        "\n",
        "t1 = time.time()\n",
        "dataset_joined = dataset.join(beneficios.select(\"cpf\", \"flagAltaQualificacaoBeneficiarioProgramasSociais\"), on=\"cpf\", how=\"left\")\n",
        "\n",
        "dataset_0 = dataset_joined.filter(col(\"flagAltaQualificacaoBeneficiarioProgramasSociais\") == 0).drop(\"flagAltaQualificacaoBeneficiarioProgramasSociais\")\n",
        "\n",
        "dataset_1 = dataset_joined.filter(col(\"flagAltaQualificacaoBeneficiarioProgramasSociais\") == 1).drop(\"flagAltaQualificacaoBeneficiarioProgramasSociais\")\n",
        "\n",
        "print(f\"Registros em dataset_0: {dataset_0.count()}\")\n",
        "print(f\"Registros em dataset_1: {dataset_1.count()}\")\n",
        "\n",
        "dataset = dataset_0\n",
        "\n",
        "print(f\"Processamento concluído em {time.time() - t1:.2f} segundos\")"
      ]
    },
    {
      "cell_type": "code",
      "execution_count": null,
      "id": "494e4d82-df9a-4095-a12a-a3722046b6a3",
      "metadata": {
        "id": "494e4d82-df9a-4095-a12a-a3722046b6a3",
        "outputId": "e46c1154-22ab-46a6-91c5-e7945120ef2f",
        "tags": []
      },
      "outputs": [
        {
          "name": "stderr",
          "output_type": "stream",
          "text": [
            "                                                                                \r"
          ]
        },
        {
          "name": "stdout",
          "output_type": "stream",
          "text": [
            "Registros em dataset_0: 156500515\n"
          ]
        },
        {
          "name": "stderr",
          "output_type": "stream",
          "text": [
            "[Stage 66:=====================================================>  (64 + 3) / 67]\r"
          ]
        },
        {
          "name": "stdout",
          "output_type": "stream",
          "text": [
            "Registros em dataset_1: 0\n",
            "Processamento concluído em 56.07 segundos\n"
          ]
        },
        {
          "name": "stderr",
          "output_type": "stream",
          "text": [
            "                                                                                \r"
          ]
        }
      ],
      "source": [
        "from pyspark.sql.functions import col\n",
        "\n",
        "t1 = time.time()\n",
        "dataset_joined = dataset.join(beneficios.select(\"cpf\", \"flagBeneficiarioProgramasSociais\"), on=\"cpf\", how=\"left\")\n",
        "\n",
        "dataset_0 = dataset_joined.filter(col(\"flagBeneficiarioProgramasSociais\") == 0).drop(\"flagBeneficiarioProgramasSociais\")\n",
        "\n",
        "dataset_1 = dataset_joined.filter(col(\"flagBeneficiarioProgramasSociais\") == 1).drop(\"flagBeneficiarioProgramasSociais\")\n",
        "\n",
        "print(f\"Registros em dataset_0: {dataset_0.count()}\")\n",
        "print(f\"Registros em dataset_1: {dataset_1.count()}\")\n",
        "\n",
        "print(f\"Processamento concluído em {time.time() - t1:.2f} segundos\")"
      ]
    },
    {
      "cell_type": "code",
      "execution_count": null,
      "id": "f0befcdf-370c-4261-b20b-d8515a4b5f22",
      "metadata": {
        "id": "f0befcdf-370c-4261-b20b-d8515a4b5f22",
        "tags": []
      },
      "outputs": [],
      "source": [
        "dataset = dataset_0"
      ]
    },
    {
      "cell_type": "code",
      "execution_count": null,
      "id": "711bee2d-a25e-4d55-8089-5e706404a505",
      "metadata": {
        "id": "711bee2d-a25e-4d55-8089-5e706404a505",
        "outputId": "73838324-29b8-4506-d758-12130409cef1",
        "tags": []
      },
      "outputs": [
        {
          "name": "stderr",
          "output_type": "stream",
          "text": [
            "                                                                                \r"
          ]
        },
        {
          "name": "stdout",
          "output_type": "stream",
          "text": [
            "Registros em dataset_0: 156500515\n"
          ]
        },
        {
          "name": "stderr",
          "output_type": "stream",
          "text": [
            "[Stage 95:=======================================================>(90 + 1) / 91]\r"
          ]
        },
        {
          "name": "stdout",
          "output_type": "stream",
          "text": [
            "Registros em dataset_1: 0\n",
            "Processamento concluído em 72.36 segundos\n"
          ]
        },
        {
          "name": "stderr",
          "output_type": "stream",
          "text": [
            "                                                                                \r"
          ]
        }
      ],
      "source": [
        "from pyspark.sql.functions import col\n",
        "\n",
        "t1 = time.time()\n",
        "dataset_joined = dataset.join(beneficios.select(\"cpf\", \"flagBeneficiarioNovoBolsaFamilia\"), on=\"cpf\", how=\"left\")\n",
        "\n",
        "dataset_0 = dataset_joined.filter(col(\"flagBeneficiarioNovoBolsaFamilia\") == 0).drop(\"flagBeneficiarioNovoBolsaFamilia\")\n",
        "\n",
        "dataset_1 = dataset_joined.filter(col(\"flagBeneficiarioNovoBolsaFamilia\") == 1).drop(\"flagBeneficiarioNovoBolsaFamilia\")\n",
        "\n",
        "print(f\"Registros em dataset_0: {dataset_0.count()}\")\n",
        "print(f\"Registros em dataset_1: {dataset_1.count()}\")\n",
        "\n",
        "dataset = dataset_0\n",
        "\n",
        "print(f\"Processamento concluído em {time.time() - t1:.2f} segundos\")"
      ]
    },
    {
      "cell_type": "code",
      "execution_count": null,
      "id": "dd77b50b-669b-4e6d-abf5-44caf25adeca",
      "metadata": {
        "id": "dd77b50b-669b-4e6d-abf5-44caf25adeca",
        "outputId": "56020386-acd0-417b-a108-d614322000dc",
        "tags": []
      },
      "outputs": [
        {
          "name": "stderr",
          "output_type": "stream",
          "text": [
            "                                                                                \r"
          ]
        },
        {
          "name": "stdout",
          "output_type": "stream",
          "text": [
            "Registros em dataset_0: 156500515\n"
          ]
        },
        {
          "name": "stderr",
          "output_type": "stream",
          "text": [
            "[Stage 130:====================================================>(111 + 1) / 112]\r"
          ]
        },
        {
          "name": "stdout",
          "output_type": "stream",
          "text": [
            "Registros em dataset_1: 0\n",
            "Processamento concluído em 80.76 segundos\n"
          ]
        },
        {
          "name": "stderr",
          "output_type": "stream",
          "text": [
            "                                                                                \r"
          ]
        }
      ],
      "source": [
        "from pyspark.sql.functions import col\n",
        "\n",
        "t1 = time.time()\n",
        "dataset_joined = dataset.join(beneficios.select(\"cpf\", \"flagBeneficiarioGarantiaSafra\"), on=\"cpf\", how=\"left\")\n",
        "\n",
        "dataset_0 = dataset_joined.filter(col(\"flagBeneficiarioGarantiaSafra\") == 0).drop(\"flagBeneficiarioGarantiaSafra\")\n",
        "\n",
        "dataset_1 = dataset_joined.filter(col(\"flagBeneficiarioGarantiaSafra\") == 1).drop(\"flagBeneficiarioGarantiaSafra\")\n",
        "\n",
        "print(f\"Registros em dataset_0: {dataset_0.count()}\")\n",
        "print(f\"Registros em dataset_1: {dataset_1.count()}\")\n",
        "\n",
        "dataset = dataset_0\n",
        "\n",
        "print(f\"Processamento concluído em {time.time() - t1:.2f} segundos\")"
      ]
    },
    {
      "cell_type": "code",
      "execution_count": null,
      "id": "2fd3b4f0-6ed7-45be-9709-2d300acf64b9",
      "metadata": {
        "id": "2fd3b4f0-6ed7-45be-9709-2d300acf64b9",
        "outputId": "bd722ef2-847b-4151-f0ca-bb6ec61f4e02",
        "tags": []
      },
      "outputs": [
        {
          "name": "stderr",
          "output_type": "stream",
          "text": [
            "                                                                                \r"
          ]
        },
        {
          "name": "stdout",
          "output_type": "stream",
          "text": [
            "Registros em dataset_0: 156500515\n"
          ]
        },
        {
          "name": "stderr",
          "output_type": "stream",
          "text": [
            "[Stage 171:====================================================>(141 + 2) / 143]\r"
          ]
        },
        {
          "name": "stdout",
          "output_type": "stream",
          "text": [
            "Registros em dataset_1: 0\n",
            "Processamento concluído em 103.02 segundos\n"
          ]
        },
        {
          "name": "stderr",
          "output_type": "stream",
          "text": [
            "                                                                                \r"
          ]
        }
      ],
      "source": [
        "from pyspark.sql.functions import col\n",
        "\n",
        "t1 = time.time()\n",
        "dataset_joined = dataset.join(beneficios.select(\"cpf\", \"flagBeneficiarioSeguroDefeso\"), on=\"cpf\", how=\"left\")\n",
        "\n",
        "dataset_0 = dataset_joined.filter(col(\"flagBeneficiarioSeguroDefeso\") == 0).drop(\"flagBeneficiarioSeguroDefeso\")\n",
        "\n",
        "dataset_1 = dataset_joined.filter(col(\"flagBeneficiarioSeguroDefeso\") == 1).drop(\"flagBeneficiarioSeguroDefeso\")\n",
        "\n",
        "print(f\"Registros em dataset_0: {dataset_0.count()}\")\n",
        "print(f\"Registros em dataset_1: {dataset_1.count()}\")\n",
        "\n",
        "dataset = dataset_0\n",
        "\n",
        "print(f\"Processamento concluído em {time.time() - t1:.2f} segundos\")"
      ]
    },
    {
      "cell_type": "code",
      "execution_count": null,
      "id": "b0bc5681-a819-4f99-ba05-375c12f3bd6b",
      "metadata": {
        "id": "b0bc5681-a819-4f99-ba05-375c12f3bd6b",
        "outputId": "8e8e32bc-d351-40e4-9ae3-f837f2c06d9b",
        "tags": []
      },
      "outputs": [
        {
          "name": "stderr",
          "output_type": "stream",
          "text": [
            "                                                                                \r"
          ]
        },
        {
          "name": "stdout",
          "output_type": "stream",
          "text": [
            "Registros em dataset_0: 156500515\n"
          ]
        },
        {
          "name": "stderr",
          "output_type": "stream",
          "text": [
            "[Stage 218:====================================================>(164 + 3) / 167]\r"
          ]
        },
        {
          "name": "stdout",
          "output_type": "stream",
          "text": [
            "Registros em dataset_1: 0\n",
            "Processamento concluído em 116.81 segundos\n"
          ]
        },
        {
          "name": "stderr",
          "output_type": "stream",
          "text": [
            "                                                                                \r"
          ]
        }
      ],
      "source": [
        "from pyspark.sql.functions import col\n",
        "\n",
        "t1 = time.time()\n",
        "dataset_joined = dataset.join(beneficios.select(\"cpf\", \"flagVulneravelBPC\"), on=\"cpf\", how=\"left\")\n",
        "\n",
        "dataset_0 = dataset_joined.filter(col(\"flagVulneravelBPC\") == 0).drop(\"flagVulneravelBPC\")\n",
        "\n",
        "dataset_1 = dataset_joined.filter(col(\"flagVulneravelBPC\") == 1).drop(\"flagVulneravelBPC\")\n",
        "\n",
        "print(f\"Registros em dataset_0: {dataset_0.count()}\")\n",
        "print(f\"Registros em dataset_1: {dataset_1.count()}\")\n",
        "\n",
        "dataset = dataset_0\n",
        "\n",
        "print(f\"Processamento concluído em {time.time() - t1:.2f} segundos\")"
      ]
    },
    {
      "cell_type": "code",
      "execution_count": null,
      "id": "40d6b36b-406e-459e-b9c3-3bb9ec51163c",
      "metadata": {
        "id": "40d6b36b-406e-459e-b9c3-3bb9ec51163c",
        "outputId": "bc573fa5-1572-4a72-bd13-41d4994e0257",
        "tags": []
      },
      "outputs": [
        {
          "name": "stderr",
          "output_type": "stream",
          "text": [
            "                                                                                \r"
          ]
        },
        {
          "name": "stdout",
          "output_type": "stream",
          "text": [
            "Registros em dataset_0: 156500515\n"
          ]
        },
        {
          "name": "stderr",
          "output_type": "stream",
          "text": [
            "[Stage 271:====================================================>(199 + 1) / 200]\r"
          ]
        },
        {
          "name": "stdout",
          "output_type": "stream",
          "text": [
            "Registros em dataset_1: 0\n",
            "Processamento concluído em 135.23 segundos\n"
          ]
        },
        {
          "name": "stderr",
          "output_type": "stream",
          "text": [
            "                                                                                \r"
          ]
        }
      ],
      "source": [
        "from pyspark.sql.functions import col\n",
        "\n",
        "t1 = time.time()\n",
        "dataset_joined = dataset.join(beneficios.select(\"cpf\", \"flagBeneficiarioBPC\"), on=\"cpf\", how=\"left\")\n",
        "\n",
        "dataset_0 = dataset_joined.filter(col(\"flagBeneficiarioBPC\") == 0).drop(\"flagBeneficiarioBPC\")\n",
        "\n",
        "dataset_1 = dataset_joined.filter(col(\"flagBeneficiarioBPC\") == 1).drop(\"flagBeneficiarioBPC\")\n",
        "\n",
        "print(f\"Registros em dataset_0: {dataset_0.count()}\")\n",
        "print(f\"Registros em dataset_1: {dataset_1.count()}\")\n",
        "\n",
        "dataset = dataset_0\n",
        "\n",
        "print(f\"Processamento concluído em {time.time() - t1:.2f} segundos\")"
      ]
    },
    {
      "cell_type": "code",
      "execution_count": null,
      "id": "226e6040-fb74-4838-aede-4acfe996de1b",
      "metadata": {
        "id": "226e6040-fb74-4838-aede-4acfe996de1b",
        "outputId": "ddc90738-3299-4165-9a3c-0d43aafa4b26",
        "tags": []
      },
      "outputs": [],
      "source": [
        "cols = [\"cpf\",\n",
        "        \"flagSocioDuplaId\",\n",
        "        \"percentualEmpresasEmLocalEntregaInterna\",\n",
        "        \"flagSocioEmpresaComSocioFalecido\",\n",
        "        \"quantidadeMaximaEmailsIguaisEmpresasAtivas\", \"quantidadeMediaEmpresasMesmoCnaeAbertas12Meses\",\n",
        "        \"quantidadeMaximaAlteracoesEnderecos12meses\",\n",
        "        \"quantidadeMaximaAlteracoesQsa365Dias\", \"quantidadeMaximaAlteracoesQsa30Dias\",\n",
        "        # \"flagSocioProgramaSocial\"\n",
        "       ]\n",
        "\n",
        "compliance_socios = (\n",
        "    oculto\n",
        "    .select(\"cpf\",\n",
        "            sf.col(\"flagSocioDuplaId\").cast(\"int\").alias(\"flagSocioDuplaId\"),\n",
        "            \"percentualEmpresasEmLocalEntregaInterna\",\n",
        "            sf.col(\"flagSocioEmpresaComSocioFalecido\").cast(\"int\").alias(\"flagSocioEmpresaComSocioFalecido\"),\n",
        "            \"quantidadeMaximaEmailsIguaisEmpresasAtivas\", \"quantidadeMediaEmpresasMesmoCnaeAbertas12Meses\",\n",
        "            \"quantidadeMaximaAlteracoesEnderecos12meses\",\n",
        "            \"quantidadeMaximaAlteracoesQsa365Dias\", \"quantidadeMaximaAlteracoesQsa30Dias\")\n",
        "    # .join(pessoa_cadastrais.select(\"cpf\"), how=\"right\", on=\"cpf\")\n",
        ")"
      ]
    },
    {
      "cell_type": "code",
      "execution_count": null,
      "id": "477fba0f-fa82-40f4-9279-dd8fc96315a8",
      "metadata": {
        "id": "477fba0f-fa82-40f4-9279-dd8fc96315a8",
        "outputId": "a86c4e6b-0815-4106-99b0-afc8917bdc26",
        "tags": []
      },
      "outputs": [
        {
          "name": "stdout",
          "output_type": "stream",
          "text": [
            "root\n",
            " |-- cpf: string (nullable = true)\n",
            " |-- flagSocioDuplaId: integer (nullable = true)\n",
            " |-- percentualEmpresasEmLocalEntregaInterna: double (nullable = true)\n",
            " |-- flagSocioEmpresaComSocioFalecido: integer (nullable = true)\n",
            " |-- quantidadeMaximaEmailsIguaisEmpresasAtivas: long (nullable = true)\n",
            " |-- quantidadeMediaEmpresasMesmoCnaeAbertas12Meses: double (nullable = true)\n",
            " |-- quantidadeMaximaAlteracoesEnderecos12meses: long (nullable = true)\n",
            " |-- quantidadeMaximaAlteracoesQsa365Dias: long (nullable = true)\n",
            " |-- quantidadeMaximaAlteracoesQsa30Dias: long (nullable = true)\n",
            " |-- flagSocioProgramaSocial: integer (nullable = false)\n",
            "\n"
          ]
        }
      ],
      "source": [
        "from pyspark.sql.functions import col, lit, when\n",
        "\n",
        "primary_keys = \"cpf\"\n",
        "\n",
        "dataset_cpfs = dataset.select(primary_keys).distinct()\n",
        "\n",
        "compliance_socios = compliance_socios.alias(\"cs\").join(\n",
        "    dataset_cpfs.alias(\"ds\"),\n",
        "    on=col(\"cs.\" + primary_keys) == col(\"ds.\" + primary_keys),\n",
        "    how=\"left\"\n",
        ").select(\n",
        "    col(\"cs.*\"),\n",
        "    when(col(\"ds.\" + primary_keys).isNull(), lit(1)).otherwise(lit(0)).alias(\"flagSocioProgramaSocial\")\n",
        ")\n",
        "\n",
        "compliance_socios.printSchema()\n"
      ]
    },
    {
      "cell_type": "code",
      "execution_count": null,
      "id": "cdb22186-38c2-4bb5-b4b1-042cc1c09574",
      "metadata": {
        "id": "cdb22186-38c2-4bb5-b4b1-042cc1c09574",
        "outputId": "82fc01a6-a761-47c6-bbed-62a9c5d96706",
        "tags": []
      },
      "outputs": [
        {
          "name": "stderr",
          "output_type": "stream",
          "text": [
            "                                                                                \r"
          ]
        },
        {
          "name": "stdout",
          "output_type": "stream",
          "text": [
            "CPFs com flagSocioProgramaSocial = 1: 91458764\n"
          ]
        },
        {
          "name": "stderr",
          "output_type": "stream",
          "text": [
            "[Stage 329:====================================================>(261 + 1) / 262]\r"
          ]
        },
        {
          "name": "stdout",
          "output_type": "stream",
          "text": [
            "CPFs com flagSocioProgramaSocial = 0: 156500515\n"
          ]
        },
        {
          "name": "stderr",
          "output_type": "stream",
          "text": [
            "                                                                                \r"
          ]
        }
      ],
      "source": [
        "print(f\"CPFs com flagSocioProgramaSocial = 1: {compliance_socios.filter(col('flagSocioProgramaSocial') == 1).count()}\")\n",
        "print(f\"CPFs com flagSocioProgramaSocial = 0: {compliance_socios.filter(col('flagSocioProgramaSocial') == 0).count()}\")"
      ]
    },
    {
      "cell_type": "code",
      "execution_count": null,
      "id": "27a0ae0b-3a62-47c9-b0b9-0f1d74bb658e",
      "metadata": {
        "id": "27a0ae0b-3a62-47c9-b0b9-0f1d74bb658e",
        "outputId": "4c2f1078-57f3-4120-a5c2-f097e264cfa9",
        "tags": []
      },
      "outputs": [
        {
          "name": "stderr",
          "output_type": "stream",
          "text": [
            "                                                                                \r"
          ]
        }
      ],
      "source": [
        "DATASET_NAME = 'socios_beneficios.parquet'\n",
        "PATH = os.path.join(oculto, 'data/')\n",
        "\n",
        "compliance_socios.write.mode(\"overwrite\").parquet(os.path.join(PATH, DATASET_NAME))"
      ]
    },
    {
      "cell_type": "code",
      "execution_count": null,
      "id": "efa1530e-a9f4-44db-acee-b45f4cc62d81",
      "metadata": {
        "id": "efa1530e-a9f4-44db-acee-b45f4cc62d81",
        "tags": []
      },
      "outputs": [],
      "source": [
        "empresa = (\n",
        "    oculto\n",
        "    .select(\"cnpj\", \"porte\")\n",
        ")"
      ]
    },
    {
      "cell_type": "code",
      "execution_count": null,
      "id": "228a0e44-7f97-4167-93ca-53030e582aa3",
      "metadata": {
        "id": "228a0e44-7f97-4167-93ca-53030e582aa3",
        "outputId": "a5962957-54b9-49c1-95fd-9b626d5a07ba",
        "tags": []
      },
      "outputs": [],
      "source": [
        "qsa = (\n",
        "    oculto\n",
        "    .join(oculto)\n",
        "          .withColumnRenamed(\"cnpj\", \"cnpjSocio\"), on=\"id\"\n",
        "         )\n",
        ")"
      ]
    },
    {
      "cell_type": "code",
      "execution_count": null,
      "id": "2be0fe10-0790-4040-82a6-f38e98fc6020",
      "metadata": {
        "id": "2be0fe10-0790-4040-82a6-f38e98fc6020",
        "tags": []
      },
      "outputs": [],
      "source": [
        "empresa_fachada = (\n",
        "    oculto\n",
        "    .select(\"cnpj\", \"classeEmpresaFachada\")\n",
        ")"
      ]
    },
    {
      "cell_type": "code",
      "execution_count": null,
      "id": "0e601580-5fd3-4620-844a-2f81108f5208",
      "metadata": {
        "id": "0e601580-5fd3-4620-844a-2f81108f5208",
        "tags": []
      },
      "outputs": [],
      "source": [
        "def qsa_informations(empresa: DataFrame, qsa_socios: DataFrame, pessoa_renda_estimada:DataFrame, empresa_fachada:DataFrame, beneficios: DataFrame) -> DataFrame:\n",
        "    socios = (\n",
        "        qsa_socios\n",
        "        .join(empresa, on='cnpj', how='left')\n",
        "        .join(empresa_fachada, on=\"cnpj\", how=\"left\")\n",
        "        .select(\"cpf\", \"porte\", \"classeEmpresaFachada\")\n",
        "        .join(pessoa_renda_estimada, on='cpf', how='left')\n",
        "        .join(beneficios, on='cpf', how='left')\n",
        "        .withColumn(\"flagSocioEmpresasEPPBaixaRenda\",\n",
        "                    sf.when((sf.col(\"porte\") == \"EPP\") & (sf.col(\"flagBaixaRenda\") == 1), 1).otherwise(0))\n",
        "        .withColumn(\"flagSocioEmpresasGrandePorteBaixaRenda\",\n",
        "                    sf.when((sf.col(\"porte\") == \"DEMAIS\") & (sf.col(\"flagBaixaRenda\") == 1), 1).otherwise(0))\n",
        "        .withColumn(\"flagSocioBeneficiarioProgramaSocial\",\n",
        "                    sf.when(sf.col(\"flagBeneficiarioProgramasSociais\") == 1, 1).otherwise(0))\n",
        "        .withColumn(\"flagSocioClasseEmpresaFachadaALTA\",\n",
        "                    sf.when(sf.col(\"classeEmpresaFachada\") == \"ALTA\", 1).otherwise(0))\n",
        "        .withColumn(\"flagSocioClasseEmpresaFachadaMUITOALTA\",\n",
        "                    sf.when(sf.col(\"classeEmpresaFachada\") == \"MUITO ALTA\", 1).otherwise(0))\n",
        "        .withColumn(\"flagSocioClasseEmpresaFachadaMEDIO\",\n",
        "                    sf.when(sf.col(\"classeEmpresaFachada\") == \"MEDIO\", 1).otherwise(0))\n",
        "    )\n",
        "\n",
        "    agg_socios = (\n",
        "        socios\n",
        "        .groupBy(\"cpf\")\n",
        "        .agg(\n",
        "            sf.max(\"flagSocioEmpresasGrandePorteBaixaRenda\").alias(\"flagSocioEmpresasGrandePorteBaixaRenda\"),\n",
        "            sf.max(\"flagSocioEmpresasEPPBaixaRenda\").alias(\"flagSocioEmpresasEPPBaixaRenda\"),\n",
        "            sf.max(\"flagSocioBeneficiarioProgramaSocial\").alias(\"flagSocioBeneficiarioProgramaSocial\"),\n",
        "            sf.max(\"flagSocioClasseEmpresaFachadaALTA\").alias(\"flagSocioClasseEmpresaFachadaALTA\"),\n",
        "            sf.max(\"flagSocioClasseEmpresaFachadaMUITOALTA\").alias(\"flagSocioClasseEmpresaFachadaMUITOALTA\"),\n",
        "            sf.max(\"flagSocioClasseEmpresaFachadaMEDIO\").alias(\"flagSocioClasseEmpresaFachadaMEDIO\")\n",
        "        )\n",
        "    )\n",
        "\n",
        "    return agg_socios"
      ]
    },
    {
      "cell_type": "code",
      "execution_count": null,
      "id": "da7e9936-740a-4ac5-8a23-11ed997c113a",
      "metadata": {
        "id": "da7e9936-740a-4ac5-8a23-11ed997c113a",
        "tags": []
      },
      "outputs": [],
      "source": [
        "socios_inf = qsa_informations(empresa, qsa, pessoa_renda_estimada, empresa_fachada, pessoa_beneficios)"
      ]
    },
    {
      "cell_type": "code",
      "execution_count": null,
      "id": "8349ab06-33fd-4250-bb66-65adbc6ffb22",
      "metadata": {
        "id": "8349ab06-33fd-4250-bb66-65adbc6ffb22",
        "tags": []
      },
      "outputs": [],
      "source": [
        "socios = (\n",
        "    compliance_socios\n",
        "    .join(socios_inf, how=\"outer\", on=\"cpf\")\n",
        "    .fillna(0, subset=[\"flagSocioEmpresasEPPBaixaRenda\",\n",
        "                       \"flagSocioEmpresasGrandePorteBaixaRenda\",\n",
        "                       \"flagSocioClasseEmpresaFachadaALTA\",\n",
        "                       \"flagSocioClasseEmpresaFachadaMUITOALTA\",\n",
        "                       \"flagSocioClasseEmpresaFachadaMEDIO\",\n",
        "                       \"flagSocioBeneficiarioProgramaSocial\"\n",
        "                      ])\n",
        "    .join(pessoa_cadastrais.select(\"cpf\"), how=\"right\", on=\"cpf\")\n",
        ")"
      ]
    },
    {
      "cell_type": "code",
      "execution_count": null,
      "id": "3c6a726b-abd6-4c78-bfea-8d919f040297",
      "metadata": {
        "id": "3c6a726b-abd6-4c78-bfea-8d919f040297",
        "outputId": "5b1b2a90-80c5-4efe-e817-f4054541c248",
        "tags": []
      },
      "outputs": [
        {
          "name": "stderr",
          "output_type": "stream",
          "text": [
            "                                                                                \r"
          ]
        },
        {
          "data": {
            "text/plain": [
              "184050329"
            ]
          },
          "execution_count": 45,
          "metadata": {},
          "output_type": "execute_result"
        }
      ],
      "source": [
        "socios.count()"
      ]
    },
    {
      "cell_type": "code",
      "execution_count": null,
      "id": "dc102857-86e9-43c8-9e44-2030ae21659a",
      "metadata": {
        "id": "dc102857-86e9-43c8-9e44-2030ae21659a",
        "outputId": "8ad6c3be-fa52-45fb-dc50-58799f2226c8",
        "tags": []
      },
      "outputs": [
        {
          "name": "stdout",
          "output_type": "stream",
          "text": [
            "root\n",
            " |-- cpf: string (nullable = true)\n",
            " |-- flagSocioDuplaId: integer (nullable = true)\n",
            " |-- percentualEmpresasEmLocalEntregaInterna: double (nullable = true)\n",
            " |-- flagSocioEmpresaComSocioFalecido: integer (nullable = true)\n",
            " |-- quantidadeMaximaEmailsIguaisEmpresasAtivas: long (nullable = true)\n",
            " |-- quantidadeMediaEmpresasMesmoCnaeAbertas12Meses: double (nullable = true)\n",
            " |-- quantidadeMaximaAlteracoesEnderecos12meses: long (nullable = true)\n",
            " |-- quantidadeMaximaAlteracoesQsa365Dias: long (nullable = true)\n",
            " |-- quantidadeMaximaAlteracoesQsa30Dias: long (nullable = true)\n",
            " |-- flagSocioProgramaSocial: integer (nullable = true)\n",
            " |-- flagSocioEmpresasGrandePorteBaixaRenda: integer (nullable = true)\n",
            " |-- flagSocioEmpresasEPPBaixaRenda: integer (nullable = true)\n",
            " |-- flagSocioBeneficiarioProgramaSocial: integer (nullable = true)\n",
            " |-- flagSocioClasseEmpresaFachadaALTA: integer (nullable = true)\n",
            " |-- flagSocioClasseEmpresaFachadaMUITOALTA: integer (nullable = true)\n",
            " |-- flagSocioClasseEmpresaFachadaMEDIO: integer (nullable = true)\n",
            "\n"
          ]
        }
      ],
      "source": [
        "socios.printSchema()"
      ]
    },
    {
      "cell_type": "markdown",
      "id": "716bcf23-3d65-468e-bef8-eba2e633f03d",
      "metadata": {
        "id": "716bcf23-3d65-468e-bef8-eba2e633f03d"
      },
      "source": [
        "### Salvando dados"
      ]
    },
    {
      "cell_type": "code",
      "execution_count": null,
      "id": "ca514c51-0317-4420-bbf2-7e1cc6cd6c3e",
      "metadata": {
        "id": "ca514c51-0317-4420-bbf2-7e1cc6cd6c3e",
        "outputId": "ba394aed-6f77-442a-9a66-f0983adb7f74",
        "tags": []
      },
      "outputs": [
        {
          "name": "stderr",
          "output_type": "stream",
          "text": [
            "                                                                                \r"
          ]
        }
      ],
      "source": [
        "DATASET_NAME = 'socios.parquet'\n",
        "PATH = os.path.join(oculto, DATASET_NAME)\n",
        "\n",
        "socios.write.mode(\"overwrite\").parquet(PATH)"
      ]
    },
    {
      "cell_type": "markdown",
      "id": "1766c86c-fe82-4397-aead-f31edde58097",
      "metadata": {
        "id": "1766c86c-fe82-4397-aead-f31edde58097",
        "jp-MarkdownHeadingCollapsed": true,
        "tags": []
      },
      "source": [
        "## Patrimônio"
      ]
    },
    {
      "cell_type": "markdown",
      "id": "a9b717d6-2987-4a42-9983-a7e16cb639aa",
      "metadata": {
        "id": "a9b717d6-2987-4a42-9983-a7e16cb639aa",
        "jp-MarkdownHeadingCollapsed": true,
        "tags": []
      },
      "source": [
        "### Imovel"
      ]
    },
    {
      "cell_type": "code",
      "execution_count": null,
      "id": "7771e446-d08a-469c-bac1-f94bac7758d4",
      "metadata": {
        "id": "7771e446-d08a-469c-bac1-f94bac7758d4",
        "tags": []
      },
      "outputs": [],
      "source": [
        "sum_alto = lambda col, quantile_value: sf.sum(sf.when(sf.col(col) >= quantile_value, 1).otherwise(0)).alias(\"qtdImoveisAltoValor\")\n",
        "sum_mediana = lambda col, quantile_value: sf.sum(sf.when(sf.col(col) >= quantile_value, 1).otherwise(0)).alias(\"qtdImoveisAcimaMediana\")"
      ]
    },
    {
      "cell_type": "code",
      "execution_count": null,
      "id": "e0ba9129-a6b1-48cf-98d8-28cd332a1a5b",
      "metadata": {
        "id": "e0ba9129-a6b1-48cf-98d8-28cd332a1a5b",
        "tags": []
      },
      "outputs": [],
      "source": [
        "def economic_profile_property(renda: DataFrame, beneficios:DataFrame, imoveis:DataFrame) -> DataFrame:\n",
        "    quantile_value = imoveis.approxQuantile(\"vl_avaliacao\", [0.9], 0.01)[0]\n",
        "    quantile_mediana_value = imoveis.approxQuantile(\"vl_avaliacao\", [0.5], 0.01)[0]\n",
        "\n",
        "    beneficiary_condition = sf.col(\"flagBeneficiarioProgramasSociais\") == 1\n",
        "\n",
        "    pessoa_imoveis = (\n",
        "        imoveis\n",
        "        .groupBy(\"cd_cpf\")\n",
        "        .agg(\n",
        "            sf.count(\"*\").alias(\"qtdImoveis\"),\n",
        "            sf.sum(sf.col(\"vl_avaliacao\")).alias(\"valorTotalImoveis\"),\n",
        "            sum_alto(\"vl_avaliacao\", quantile_value),\n",
        "            sum_mediana(\"vl_avaliacao\", quantile_mediana_value)\n",
        "        )\n",
        "        .withColumnRenamed(\"cd_cpf\", \"cpf\")\n",
        "        .join(pessoa_renda_estimada, how=\"left\", on=\"cpf\")\n",
        "        .withColumn(\"flagBaixaRendaValorImobiliarioAcimaPercentil90\",\n",
        "                    sf.when((sf.col(\"qtdImoveisAltoValor\") > 0) &\n",
        "                        (sf.col(\"flagBaixaRenda\") == 1), 1\n",
        "                       ).otherwise(0)\n",
        "                   )\n",
        "        .join(pessoa_beneficios, how=\"left\", on=\"cpf\")\n",
        "        .withColumn(\"flagBeneficiarioValorImobiliarioAcimaPercentil90\",\n",
        "                    sf.when(beneficiary_condition &\n",
        "                            (sf.col(\"qtdImoveisAltoValor\") > 0), 1\n",
        "                           ).otherwise(0)\n",
        "                   )\n",
        "    )\n",
        "\n",
        "    columns = [\"cpf\", \"qtdImoveis\", \"valorTotalImoveis\",\n",
        "               \"qtdImoveisAcimaMediana\", \"qtdImoveisAltoValor\",\n",
        "               \"flagBaixaRendaValorImobiliarioAcimaPercentil90\",\n",
        "               \"flagBeneficiarioValorImobiliarioAcimaPercentil90\"\n",
        "              ]\n",
        "    return pessoa_imoveis.select(*columns)"
      ]
    },
    {
      "cell_type": "code",
      "execution_count": null,
      "id": "54f3e648-0c2b-41b9-8555-3e0ad5a9366c",
      "metadata": {
        "id": "54f3e648-0c2b-41b9-8555-3e0ad5a9366c",
        "outputId": "b77f5992-72e9-4ed3-fad7-b05c53fd9b8a",
        "tags": []
      },
      "outputs": [],
      "source": [
        "imoveis = oculto"
      ]
    },
    {
      "cell_type": "code",
      "execution_count": null,
      "id": "8a4027dd-1e54-4a44-be13-20ae56c24169",
      "metadata": {
        "id": "8a4027dd-1e54-4a44-be13-20ae56c24169",
        "outputId": "e4f8b21d-ade1-4221-a758-cfb030cbe21e",
        "tags": []
      },
      "outputs": [
        {
          "name": "stderr",
          "output_type": "stream",
          "text": [
            "                                                                                \r"
          ]
        },
        {
          "data": {
            "text/plain": [
              "8791398"
            ]
          },
          "execution_count": 29,
          "metadata": {},
          "output_type": "execute_result"
        }
      ],
      "source": [
        "imoveis.count()"
      ]
    },
    {
      "cell_type": "code",
      "execution_count": null,
      "id": "a44770ab-3207-4f0b-bd08-5e12db8a22d8",
      "metadata": {
        "id": "a44770ab-3207-4f0b-bd08-5e12db8a22d8",
        "outputId": "6387725a-f492-4040-d473-a33ed7588a63",
        "tags": []
      },
      "outputs": [
        {
          "name": "stdout",
          "output_type": "stream",
          "text": [
            "root\n",
            " |-- id_pk: long (nullable = true)\n",
            " |-- id_imovel: string (nullable = true)\n",
            " |-- sg_uf_registro: string (nullable = true)\n",
            " |-- cd_cpf: string (nullable = true)\n",
            " |-- cd_cnpj: string (nullable = true)\n",
            " |-- nm_proprietario: string (nullable = true)\n",
            " |-- dt_consulta: timestamp (nullable = true)\n",
            " |-- qt_area_terreno: double (nullable = true)\n",
            " |-- qt_area_construida: double (nullable = true)\n",
            " |-- nu_ano_construcao: integer (nullable = true)\n",
            " |-- vl_avaliacao: double (nullable = true)\n",
            " |-- nm_logradouro: string (nullable = true)\n",
            " |-- nu_logradouro: string (nullable = true)\n",
            " |-- de_complemento: string (nullable = true)\n",
            " |-- nm_bairro: string (nullable = true)\n",
            " |-- nm_municipio: string (nullable = true)\n",
            " |-- sg_uf: string (nullable = true)\n",
            " |-- nu_cep: string (nullable = true)\n",
            " |-- cd_latitude: double (nullable = true)\n",
            " |-- cd_longitude: double (nullable = true)\n",
            " |-- dh_processamento: timestamp (nullable = true)\n",
            " |-- dh_ultima_atualizacao: timestamp (nullable = true)\n",
            " |-- dh_geracao_entidade: timestamp (nullable = true)\n",
            " |-- dh_atualizacao_entidade: timestamp (nullable = true)\n",
            " |-- nm_fonte_informacao: string (nullable = true)\n",
            " |-- id_seq: long (nullable = true)\n",
            "\n"
          ]
        }
      ],
      "source": [
        "imoveis.printSchema()"
      ]
    },
    {
      "cell_type": "code",
      "execution_count": null,
      "id": "681c1a30-c73a-4f26-b413-7ec159281e55",
      "metadata": {
        "id": "681c1a30-c73a-4f26-b413-7ec159281e55",
        "outputId": "563a1c29-ca84-4215-cf1d-791fb0c4dd94",
        "tags": []
      },
      "outputs": [
        {
          "name": "stderr",
          "output_type": "stream",
          "text": [
            "                                                                                \r"
          ]
        }
      ],
      "source": [
        "quantile_value = imoveis.approxQuantile(\"vl_avaliacao\", [0.9], 0.01)[0]\n",
        "quantile_mediana_value = imoveis.approxQuantile(\"vl_avaliacao\", [0.5], 0.01)[0]"
      ]
    },
    {
      "cell_type": "code",
      "execution_count": null,
      "id": "ece3bb1d-e158-40ac-8011-ee16de53516c",
      "metadata": {
        "id": "ece3bb1d-e158-40ac-8011-ee16de53516c",
        "outputId": "04cff8e2-904e-4a54-c1e4-718a22417a95",
        "tags": []
      },
      "outputs": [
        {
          "data": {
            "text/plain": [
              "784288.17"
            ]
          },
          "execution_count": 32,
          "metadata": {},
          "output_type": "execute_result"
        }
      ],
      "source": [
        "quantile_value"
      ]
    },
    {
      "cell_type": "code",
      "execution_count": null,
      "id": "59deba85-4247-41c1-b49d-7a30c338c91f",
      "metadata": {
        "id": "59deba85-4247-41c1-b49d-7a30c338c91f",
        "outputId": "81a78824-66f8-4ddc-82df-38666ae8bf50",
        "tags": []
      },
      "outputs": [
        {
          "name": "stderr",
          "output_type": "stream",
          "text": [
            "                                                                                \r"
          ]
        }
      ],
      "source": [
        "pessoa_imoveis = economic_profile_property(pessoa_renda_estimada, pessoa_beneficios, imoveis)"
      ]
    },
    {
      "cell_type": "code",
      "execution_count": null,
      "id": "b79ca1b1-7552-4c09-8e44-18fb7252cdba",
      "metadata": {
        "id": "b79ca1b1-7552-4c09-8e44-18fb7252cdba",
        "tags": []
      },
      "outputs": [],
      "source": [
        "pessoa_renda_estimada.count()"
      ]
    },
    {
      "cell_type": "code",
      "execution_count": null,
      "id": "4834980c-a641-451e-96e2-f6372761bb9d",
      "metadata": {
        "id": "4834980c-a641-451e-96e2-f6372761bb9d",
        "tags": []
      },
      "outputs": [],
      "source": [
        "pessoa_beneficios.count()"
      ]
    },
    {
      "cell_type": "code",
      "execution_count": null,
      "id": "e55027e8-08d1-459c-9cf8-d22ea4684b74",
      "metadata": {
        "id": "e55027e8-08d1-459c-9cf8-d22ea4684b74",
        "tags": []
      },
      "outputs": [],
      "source": [
        "pessoa_imoveis.count()"
      ]
    },
    {
      "cell_type": "code",
      "execution_count": null,
      "id": "9b172ac7-2653-401a-8522-b14aab6ab746",
      "metadata": {
        "id": "9b172ac7-2653-401a-8522-b14aab6ab746",
        "tags": []
      },
      "outputs": [],
      "source": [
        "pessoa_imoveis.printSchema()"
      ]
    },
    {
      "cell_type": "markdown",
      "id": "50e4a869-8fbe-4f24-b655-61575562aa90",
      "metadata": {
        "id": "50e4a869-8fbe-4f24-b655-61575562aa90",
        "jp-MarkdownHeadingCollapsed": true,
        "tags": []
      },
      "source": [
        "### Veiculos Pesados"
      ]
    },
    {
      "cell_type": "code",
      "execution_count": null,
      "id": "9b637584-6802-461d-b037-2cb6b405d887",
      "metadata": {
        "id": "9b637584-6802-461d-b037-2cb6b405d887",
        "tags": []
      },
      "outputs": [],
      "source": [
        "cols = [\"cpf\", \"quantidadeVeiculosPesados\",\n",
        "        \"quantidadeVeiculosPesadosAnoFabricacaoEntre0E4AnosAtras\",\n",
        "        \"quantidadeVeiculosPesadosAnoFabricacaoEntre5E9AnosAtras\",\n",
        "        \"quantidadeVeiculosPesadosAnoFabricacaoEntre10E14AnosAtras\"]"
      ]
    },
    {
      "cell_type": "code",
      "execution_count": null,
      "id": "a65d17c9-1195-49e0-abf2-e725b6d4012a",
      "metadata": {
        "id": "a65d17c9-1195-49e0-abf2-e725b6d4012a",
        "outputId": "17e47db1-d2b3-4973-ab98-fb36d15f441c",
        "tags": []
      },
      "outputs": [],
      "source": [
        "pessoa_veiculo_pesado = (\n",
        "    oculto\n",
        "    .select(*cols)\n",
        ")"
      ]
    },
    {
      "cell_type": "code",
      "execution_count": null,
      "id": "b05292bb-d9ba-406a-924e-2cf12f265950",
      "metadata": {
        "id": "b05292bb-d9ba-406a-924e-2cf12f265950",
        "outputId": "0e49f07a-1d45-4294-dd18-b52d74581725",
        "tags": []
      },
      "outputs": [
        {
          "name": "stderr",
          "output_type": "stream",
          "text": [
            "                                                                                \r"
          ]
        },
        {
          "data": {
            "text/plain": [
              "1427108"
            ]
          },
          "execution_count": 40,
          "metadata": {},
          "output_type": "execute_result"
        }
      ],
      "source": [
        "pessoa_veiculo_pesado.count()"
      ]
    },
    {
      "cell_type": "code",
      "execution_count": null,
      "id": "dcb02b7e-02e4-4d31-bccb-4ad6f25b089c",
      "metadata": {
        "id": "dcb02b7e-02e4-4d31-bccb-4ad6f25b089c",
        "outputId": "d2c5a881-5da8-405b-f09b-8365e88379e6",
        "tags": []
      },
      "outputs": [
        {
          "name": "stdout",
          "output_type": "stream",
          "text": [
            "root\n",
            " |-- cpf: string (nullable = true)\n",
            " |-- quantidadeVeiculosPesados: long (nullable = true)\n",
            " |-- quantidadeVeiculosPesadosAnoFabricacaoEntre0E4AnosAtras: long (nullable = true)\n",
            " |-- quantidadeVeiculosPesadosAnoFabricacaoEntre5E9AnosAtras: long (nullable = true)\n",
            " |-- quantidadeVeiculosPesadosAnoFabricacaoEntre10E14AnosAtras: long (nullable = true)\n",
            "\n"
          ]
        }
      ],
      "source": [
        "pessoa_veiculo_pesado.printSchema()"
      ]
    },
    {
      "cell_type": "markdown",
      "id": "0d028d8e-002a-464a-9297-41e343221f36",
      "metadata": {
        "id": "0d028d8e-002a-464a-9297-41e343221f36",
        "jp-MarkdownHeadingCollapsed": true,
        "tags": []
      },
      "source": [
        "### Aeronaves"
      ]
    },
    {
      "cell_type": "code",
      "execution_count": null,
      "id": "03b40c52-9a8c-4769-b457-d8a0bb72115a",
      "metadata": {
        "id": "03b40c52-9a8c-4769-b457-d8a0bb72115a",
        "tags": []
      },
      "outputs": [],
      "source": [
        "cols = [\"cpf\", \"flagOperadorAeronave\",\n",
        "        \"flagProprietarioAeronave\",\n",
        "        \"quantidadeAeronaves\"]"
      ]
    },
    {
      "cell_type": "code",
      "execution_count": null,
      "id": "9ec4ce96-dc49-4289-8111-8a55b7ad5d3a",
      "metadata": {
        "id": "9ec4ce96-dc49-4289-8111-8a55b7ad5d3a",
        "outputId": "a1fbba0b-fbe6-4a19-ced2-bc3ff6b9a0fc",
        "tags": []
      },
      "outputs": [],
      "source": [
        "pessoa_aeronaves = (\n",
        "    oculto\n",
        "    .select(\"cpf\",\n",
        "            sf.col(\"flagOperadorAeronave\").cast(\"int\").alias(\"flagOperadorAeronave\"),\n",
        "            sf.col(\"flagProprietarioAeronave\").cast(\"int\").alias(\"flagProprietarioAeronave\"),\n",
        "            \"quantidadeAeronaves\")\n",
        ")"
      ]
    },
    {
      "cell_type": "code",
      "execution_count": null,
      "id": "638f93ec-916b-4df6-b26c-02b28f53e0c8",
      "metadata": {
        "id": "638f93ec-916b-4df6-b26c-02b28f53e0c8",
        "outputId": "f3586ca0-a27c-4f5e-939d-bbdf45709b60",
        "tags": []
      },
      "outputs": [
        {
          "name": "stderr",
          "output_type": "stream",
          "text": [
            "                                                                                \r"
          ]
        },
        {
          "data": {
            "text/plain": [
              "15455"
            ]
          },
          "execution_count": 16,
          "metadata": {},
          "output_type": "execute_result"
        }
      ],
      "source": [
        "pessoa_aeronaves.count()"
      ]
    },
    {
      "cell_type": "code",
      "execution_count": null,
      "id": "783b0636-5e97-461c-be0d-0b355402cce7",
      "metadata": {
        "id": "783b0636-5e97-461c-be0d-0b355402cce7",
        "outputId": "a0eace74-930e-4986-f3b4-a0a055cd1c0b",
        "tags": []
      },
      "outputs": [
        {
          "name": "stdout",
          "output_type": "stream",
          "text": [
            "root\n",
            " |-- cpf: string (nullable = true)\n",
            " |-- flagOperadorAeronave: integer (nullable = true)\n",
            " |-- flagProprietarioAeronave: integer (nullable = true)\n",
            " |-- quantidadeAeronaves: long (nullable = true)\n",
            "\n"
          ]
        }
      ],
      "source": [
        "pessoa_aeronaves.printSchema()"
      ]
    },
    {
      "cell_type": "markdown",
      "id": "d7ec796e-e419-4cb5-b589-d1a6f43953b4",
      "metadata": {
        "id": "d7ec796e-e419-4cb5-b589-d1a6f43953b4",
        "jp-MarkdownHeadingCollapsed": true,
        "tags": []
      },
      "source": [
        "### Propriedades Rurais"
      ]
    },
    {
      "cell_type": "code",
      "execution_count": null,
      "id": "64603a5c-ae8f-4eec-91d9-8e8ad3c4b027",
      "metadata": {
        "id": "64603a5c-ae8f-4eec-91d9-8e8ad3c4b027",
        "tags": []
      },
      "outputs": [],
      "source": [
        "cols = [\"cpf\", \"valorAreaTotalPropriedadesRurais\",\n",
        "        \"quantidadePropriedades\", \"quantidadePropriedadesAtivas\"\n",
        "       ]"
      ]
    },
    {
      "cell_type": "code",
      "execution_count": null,
      "id": "fd5018d7-29ba-460e-b257-227a88723075",
      "metadata": {
        "id": "fd5018d7-29ba-460e-b257-227a88723075",
        "outputId": "1142d20d-83d1-4d7a-b5de-d0a49335d23a",
        "tags": []
      },
      "outputs": [],
      "source": [
        "pessoa_propriedades_rurais = (\n",
        "    oculto\n",
        "    .select(*cols)\n",
        ")"
      ]
    },
    {
      "cell_type": "markdown",
      "id": "213def12-5e75-4fc4-a08b-44920a0f2869",
      "metadata": {
        "id": "213def12-5e75-4fc4-a08b-44920a0f2869",
        "jp-MarkdownHeadingCollapsed": true,
        "tags": []
      },
      "source": [
        "### dataset patrimonio"
      ]
    },
    {
      "cell_type": "code",
      "execution_count": null,
      "id": "4ccf30ac-5f80-4cb5-bd98-b5ae5e660ea0",
      "metadata": {
        "id": "4ccf30ac-5f80-4cb5-bd98-b5ae5e660ea0",
        "tags": []
      },
      "outputs": [],
      "source": [
        "def get_income_asset_flags(pessoa_aeronaves: DataFrame, pessoa_veiculo_pesado: DataFrame, renda_estimada: DataFrame, beneficios: DataFrame) -> DataFrame:\n",
        "    beneficiary_condition = sf.col(\"flagBeneficiarioProgramasSociais\") == 1\n",
        "    pessoa_patrimonio_beneficio = (\n",
        "        pessoa_aeronaves\n",
        "        .join(pessoa_veiculo_pesado, how=\"outer\", on=\"cpf\")\n",
        "        .join(renda_estimada, how=\"outer\", on=\"cpf\")\n",
        "        .join(beneficios, how=\"outer\", on=\"cpf\")\n",
        "        .withColumn(\"flagBaixaRendaAeronave\",\n",
        "                    sf.when((sf.col(\"flagBaixaRenda\") == 1) &\n",
        "                            (sf.col(\"quantidadeAeronaves\") > 0), 1\n",
        "                           ).otherwise(0)\n",
        "                   )\n",
        "        .withColumn(\"flagBeneficiarioAeronave\",\n",
        "                    sf.when(\n",
        "                        (beneficiary_condition) &\n",
        "                        (sf.col(\"quantidadeAeronaves\") > 0), 1)\n",
        "                    .otherwise(0)\n",
        "                   )\n",
        "        .withColumn(\"flagBeneficiarioVeiculoPesado\",\n",
        "                    sf.when(\n",
        "                        (beneficiary_condition) &\n",
        "                        (sf.col(\"quantidadeVeiculosPesados\") > 0), 1)\n",
        "                    .otherwise(0)\n",
        "                   )\n",
        "    )\n",
        "\n",
        "    return pessoa_patrimonio_beneficio.select(\"cpf\", \"flagBaixaRendaAeronave\",\n",
        "                                              \"flagBeneficiarioAeronave\",\n",
        "                                              \"flagBeneficiarioVeiculoPesado\"\n",
        "                                             )"
      ]
    },
    {
      "cell_type": "code",
      "execution_count": null,
      "id": "a5089de1-686f-4dc4-9d32-ce9c608385c4",
      "metadata": {
        "id": "a5089de1-686f-4dc4-9d32-ce9c608385c4",
        "tags": []
      },
      "outputs": [],
      "source": [
        "pessoa_beneficiaria_patrominio = get_income_asset_flags(pessoa_aeronaves, pessoa_veiculo_pesado, pessoa_renda_estimada, pessoa_beneficios)"
      ]
    },
    {
      "cell_type": "code",
      "execution_count": null,
      "id": "190dee0d-9375-4b90-a525-45caa539d9c4",
      "metadata": {
        "id": "190dee0d-9375-4b90-a525-45caa539d9c4",
        "tags": []
      },
      "outputs": [],
      "source": [
        "pessoas_cpf = pessoa_cadastrais.select(\"cpf\")"
      ]
    },
    {
      "cell_type": "code",
      "execution_count": null,
      "id": "ccf9c9be-6aab-4137-90a1-edd874c74ffa",
      "metadata": {
        "id": "ccf9c9be-6aab-4137-90a1-edd874c74ffa",
        "tags": []
      },
      "outputs": [],
      "source": [
        "datasets = [pessoas_cpf, pessoa_imoveis, pessoa_veiculo_pesado,\n",
        "            pessoa_propriedades_rurais, pessoa_aeronaves,\n",
        "            pessoa_beneficiaria_patrominio\n",
        "           ]"
      ]
    },
    {
      "cell_type": "code",
      "execution_count": null,
      "id": "cf47e149-26fb-473a-b925-f3d5922f098e",
      "metadata": {
        "id": "cf47e149-26fb-473a-b925-f3d5922f098e",
        "tags": []
      },
      "outputs": [],
      "source": [
        "patrimonio = reduce(lambda df1, df2: df1.join(df2, on=\"cpf\", how='left'), datasets)"
      ]
    },
    {
      "cell_type": "code",
      "execution_count": null,
      "id": "90542ac2-50bf-4b1d-9d5d-76501133a71d",
      "metadata": {
        "id": "90542ac2-50bf-4b1d-9d5d-76501133a71d",
        "tags": []
      },
      "outputs": [],
      "source": [
        "patrimonio = (\n",
        "    patrimonio\n",
        "    .fillna(0, subset=['qtdImoveis', 'valorTotalImoveis',\n",
        "                       'qtdImoveisAcimaMediana',\n",
        "                       'flagBaixaRendaValorImobiliarioAcimaPercentil90',\n",
        "                       'flagBeneficiarioValorImobiliarioAcimaPercentil90',\n",
        "                       'qtdImoveisAltoValor',\n",
        "                       'quantidadeVeiculosPesados',\n",
        "                       'quantidadeVeiculosPesadosAnoFabricacaoEntre0E4AnosAtras',\n",
        "                       'quantidadeVeiculosPesadosAnoFabricacaoEntre5E9AnosAtras',\n",
        "                       'quantidadeVeiculosPesadosAnoFabricacaoEntre10E14AnosAtras',\n",
        "                       'valorAreaTotalPropriedadesRurais',\n",
        "                       'quantidadePropriedades',\n",
        "                       'quantidadePropriedadesAtivas',\n",
        "                       'flagOperadorAeronave',\n",
        "                       'flagProprietarioAeronave',\n",
        "                       'quantidadeAeronaves'\n",
        "                      ])\n",
        ")"
      ]
    },
    {
      "cell_type": "code",
      "execution_count": null,
      "id": "fc9d40bf-53a8-4619-865d-5700c3ec9580",
      "metadata": {
        "id": "fc9d40bf-53a8-4619-865d-5700c3ec9580",
        "outputId": "476b06cc-70b4-44e6-dc4a-550652344e94",
        "tags": []
      },
      "outputs": [
        {
          "name": "stderr",
          "output_type": "stream",
          "text": [
            "                                                                                \r"
          ]
        },
        {
          "name": "stdout",
          "output_type": "stream",
          "text": [
            "+---+----------+-----------------+----------------------+-------------------+----------------------------------------------+------------------------------------------------+-------------------------+-------------------------------------------------------+-------------------------------------------------------+---------------------------------------------------------+--------------------------------+----------------------+----------------------------+--------------------+------------------------+-------------------+----------------------+------------------------+-----------------------------+\n",
            "|cpf|qtdImoveis|valorTotalImoveis|qtdImoveisAcimaMediana|qtdImoveisAltoValor|flagBaixaRendaValorImobiliarioAcimaPercentil90|flagBeneficiarioValorImobiliarioAcimaPercentil90|quantidadeVeiculosPesados|quantidadeVeiculosPesadosAnoFabricacaoEntre0E4AnosAtras|quantidadeVeiculosPesadosAnoFabricacaoEntre5E9AnosAtras|quantidadeVeiculosPesadosAnoFabricacaoEntre10E14AnosAtras|valorAreaTotalPropriedadesRurais|quantidadePropriedades|quantidadePropriedadesAtivas|flagOperadorAeronave|flagProprietarioAeronave|quantidadeAeronaves|flagBaixaRendaAeronave|flagBeneficiarioAeronave|flagBeneficiarioVeiculoPesado|\n",
            "+---+----------+-----------------+----------------------+-------------------+----------------------------------------------+------------------------------------------------+-------------------------+-------------------------------------------------------+-------------------------------------------------------+---------------------------------------------------------+--------------------------------+----------------------+----------------------------+--------------------+------------------------+-------------------+----------------------+------------------------+-----------------------------+\n",
            "|0  |0         |0                |0                     |0                  |0                                             |0                                               |0                        |0                                                      |0                                                      |0                                                        |0                               |0                     |0                           |0                   |0                       |0                  |0                     |0                       |0                            |\n",
            "+---+----------+-----------------+----------------------+-------------------+----------------------------------------------+------------------------------------------------+-------------------------+-------------------------------------------------------+-------------------------------------------------------+---------------------------------------------------------+--------------------------------+----------------------+----------------------------+--------------------+------------------------+-------------------+----------------------+------------------------+-----------------------------+\n",
            "\n",
            "CPU times: user 198 ms, sys: 40.7 ms, total: 239 ms\n",
            "Wall time: 1min 45s\n"
          ]
        }
      ],
      "source": [
        "%%time\n",
        "countMissingValues(patrimonio).show(truncate=False)"
      ]
    },
    {
      "cell_type": "markdown",
      "id": "39322afc-c507-4fc2-821f-b6c86506257f",
      "metadata": {
        "id": "39322afc-c507-4fc2-821f-b6c86506257f",
        "jp-MarkdownHeadingCollapsed": true,
        "tags": []
      },
      "source": [
        "### salvando dados"
      ]
    },
    {
      "cell_type": "code",
      "execution_count": null,
      "id": "b3b4b2e6-6c3b-4b39-8b27-4a7c34dbfc6e",
      "metadata": {
        "id": "b3b4b2e6-6c3b-4b39-8b27-4a7c34dbfc6e",
        "outputId": "062a78c6-4bee-498d-8067-61d4f54c1cca",
        "tags": []
      },
      "outputs": [
        {
          "name": "stderr",
          "output_type": "stream",
          "text": [
            "                                                                                \r"
          ]
        }
      ],
      "source": [
        "DATASET_NAME = 'patrimonio.parquet'\n",
        "PATH = os.path.join(oculto, DATASET_NAME)\n",
        "\n",
        "patrimonio.write.mode(\"overwrite\").parquet(PATH)"
      ]
    },
    {
      "cell_type": "markdown",
      "id": "1c59eef1-8f25-40e5-8756-889ed2bc142d",
      "metadata": {
        "id": "1c59eef1-8f25-40e5-8756-889ed2bc142d"
      },
      "source": [
        "## Financiamento Veicular"
      ]
    },
    {
      "cell_type": "code",
      "execution_count": null,
      "id": "7057ce95-d7e5-4acb-91ae-2d4d4f974a7b",
      "metadata": {
        "id": "7057ce95-d7e5-4acb-91ae-2d4d4f974a7b",
        "outputId": "741f291e-8f86-4e59-dcc7-a1cde25157ee",
        "tags": []
      },
      "outputs": [],
      "source": [
        "catalogo_sng = (\n",
        "    oculto\n",
        "    .select(\"cpf\",\n",
        "            \"numTotalDiaPrimeiraCompra\",\n",
        "            \"qteVeiculoFinanciadoHistorico\",\n",
        "            # \"numTotalDiaPrimeiraCompraFinanciado\",\n",
        "            \"numTotalDiaUltimaCompra\",\n",
        "            # \"numTotalDiaUltimaCompraFinanciado\",\n",
        "            # \"numTotalDiaUltimaVenda\",\n",
        "            # \"qteCompraAutomovelNovo\",\n",
        "            # \"qteTotalCompraVeiculoNovo\",\n",
        "            # \"qteCompraAutomovelSeminovo\",\n",
        "            # \"qteTotalCompraVeiculoSeminovo\",\n",
        "            # \"qteCompraAutomovelUsado\",\n",
        "            # \"qteTotalCompraVeiculoUsado\",\n",
        "            \"qteTotalCompraVeiculo\",\n",
        "            # \"qteCompraMotocicletaNovo\",\n",
        "            # \"qteCompraMotocicletaSeminovo\",\n",
        "            # \"qteCompraMotocicletaUsado\",\n",
        "            # \"qteTotalCompraMotocicleta\",\n",
        "            \"qteFinanciadoAtivo\",\n",
        "            \"qteFinanciadoMaximaParcela\",\n",
        "            \"qteFinanciadoMediaParcela\",\n",
        "            \"qteFinanciadoQuitado\",\n",
        "            \"qteFinanciadoQuitadoAntesPrazo\",\n",
        "            \"qteFinanciadoQuitadoDepoisPrazo\",\n",
        "            \"qteFinanciadoQuitadoPrazo\",\n",
        "            \"qteTotalCompraOnibus\",\n",
        "            \"valFinanciadoAtualDebito\",\n",
        "            \"valFinanciadoMedia\",\n",
        "            \"valFinanciadoMediaParcela\",\n",
        "            \"valFinanciadoSoma\"\n",
        "           )\n",
        ")"
      ]
    },
    {
      "cell_type": "code",
      "execution_count": null,
      "id": "2155a932-4b36-49e2-92e6-e8242a07cc26",
      "metadata": {
        "id": "2155a932-4b36-49e2-92e6-e8242a07cc26",
        "outputId": "7f819ee3-0209-4eb1-cf8d-f14751799515",
        "tags": []
      },
      "outputs": [],
      "source": [
        "indicadores_veiculares = (\n",
        "    oculto\n",
        "    .select(\"cpf\", \"ctaQteFinanciamento\",\n",
        "            \"ctaFinanciadorMarcaPremium\", \"ctaHistoricoAtrasoFinanciamento\",\n",
        "            \"ctaMediaParcelaFinanciamento\",\n",
        "            \"ctaRecorrenciaFinanciamento\",\n",
        "           )\n",
        ")"
      ]
    },
    {
      "cell_type": "code",
      "execution_count": null,
      "id": "050c8e1c-b17a-4863-b281-e3c8dabd05d7",
      "metadata": {
        "id": "050c8e1c-b17a-4863-b281-e3c8dabd05d7",
        "tags": []
      },
      "outputs": [],
      "source": [
        "financiamento_veicular = catalogo_sng.join(indicadores_veiculares, on=\"cpf\", how=\"outer\")"
      ]
    },
    {
      "cell_type": "code",
      "execution_count": null,
      "id": "9c7bd5be-5822-4cce-a95d-876d81d5cce7",
      "metadata": {
        "id": "9c7bd5be-5822-4cce-a95d-876d81d5cce7",
        "tags": []
      },
      "outputs": [],
      "source": [
        "financiamento_veicular = financiamento_veicular.withColumn(\"qtdFinanciamentoFaixa\",\n",
        "                                                           sf.when(sf.col(\"ctaQteFinanciamento\").contains(\"MAIS QUE\"),\n",
        "                                                                   sf.split(\"ctaQteFinanciamento\", \" \")[2]\n",
        "                                                                  ).otherwise(sf.split(\"ctaQteFinanciamento\", \" \")[0])\n",
        "                                                           .cast(\"int\")\n",
        "                                                          )"
      ]
    },
    {
      "cell_type": "code",
      "execution_count": null,
      "id": "97226fce-c7af-461e-82fb-c46dcd318e94",
      "metadata": {
        "id": "97226fce-c7af-461e-82fb-c46dcd318e94",
        "tags": []
      },
      "outputs": [],
      "source": [
        "financiamento_veicular = (\n",
        "    financiamento_veicular.withColumn(\"qtdVeiculosFinanciados\",\n",
        "                                      sf.coalesce(sf.col(\"qteVeiculoFinanciadoHistorico\"), sf.col(\"qtdFinanciamentoFaixa\"))\n",
        "                                     )\n",
        "    .drop(\"qteVeiculoFinanciadoHistorico\", \"ctaQteFinanciamento\", \"qtdFinanciamentoFaixa\")\n",
        ")"
      ]
    },
    {
      "cell_type": "code",
      "execution_count": null,
      "id": "2ea544b9-cd22-4718-b1a7-e265f56ffadd",
      "metadata": {
        "id": "2ea544b9-cd22-4718-b1a7-e265f56ffadd",
        "tags": []
      },
      "outputs": [],
      "source": [
        "def income_financing(renda: DataFrame, financiamento_veicular: DataFrame) -> DataFrame:\n",
        "\n",
        "    financiamento_veicular_renda = (\n",
        "        financiamento_veicular.join(renda, how=\"left\", on=\"cpf\")\n",
        "        .select(\"cpf\", \"flagBaixaRenda\", \"ctaFinanciadorMarcaPremium\", \"ctaMediaParcelaFinanciamento\", \"ctaRecorrenciaFinanciamento\")\n",
        "        .withColumn(\"flagBaixaRendaFinanciamentoVeiculoPremium\",\n",
        "                    sf.when((sf.col(\"flagBaixaRenda\") == 1) &\n",
        "                            (sf.col(\"ctaFinanciadorMarcaPremium\") == \"SIM\"), 1\n",
        "                           ).otherwise(0)\n",
        "                   )\n",
        "        .withColumn(\"flagBaixaRendaMediaParcelaFinanciamentoAlta\",\n",
        "                    sf.when((sf.col(\"flagBaixaRenda\") == 1) &\n",
        "                            (sf.col(\"ctaMediaParcelaFinanciamento\") == \"MAIOR QUE 1500\"), 1\n",
        "                           ).otherwise(0)\n",
        "                   )\n",
        "        .withColumn(\"flagBaixaRendaRecorrenciaFinanciamentoVeicular1a2Anos\",\n",
        "                    sf.when((sf.col(\"flagBaixaRenda\") == 1) &\n",
        "                            (sf.col(\"ctaRecorrenciaFinanciamento\") == \"\"), 1\n",
        "                           ).otherwise(0)\n",
        "                   )\n",
        "    )\n",
        "\n",
        "    return financiamento_veicular_renda.select(\"cpf\",\n",
        "                                               \"flagBaixaRendaFinanciamentoVeiculoPremium\",\n",
        "                                               \"flagBaixaRendaMediaParcelaFinanciamentoAlta\")\n"
      ]
    },
    {
      "cell_type": "code",
      "execution_count": null,
      "id": "5d56293b-1292-4990-98cb-1a26e7ee1129",
      "metadata": {
        "id": "5d56293b-1292-4990-98cb-1a26e7ee1129",
        "tags": []
      },
      "outputs": [],
      "source": [
        "def beneficiary_financing(beneficios: DataFrame, financiamento_veicular: DataFrame) -> DataFrame:\n",
        "\n",
        "    beneficiary_condition = sf.col(\"flagBeneficiarioProgramasSociais\") == 1\n",
        "\n",
        "    financiamento_veicular_beneficiario = (\n",
        "        financiamento_veicular.join(beneficios, how=\"left\", on=\"cpf\")\n",
        "        .withColumn(\"flagBeneficiarioProgramasSociaisFinanciamentoMediaParcelaAlta\",\n",
        "                    sf.when(beneficiary_condition &\n",
        "                            (sf.col(\"ctaMediaParcelaFinanciamento\") == \"MAIOR QUE 1500\"), 1\n",
        "                           ).otherwise(0)\n",
        "                   )\n",
        "    )\n",
        "\n",
        "\n",
        "    return financiamento_veicular_beneficiario.select(\"cpf\",\n",
        "                                                      \"flagBeneficiarioProgramasSociaisFinanciamentoMediaParcelaAlta\")"
      ]
    },
    {
      "cell_type": "code",
      "execution_count": null,
      "id": "4d081bd0-5e37-4c10-80a3-cb0b61834c8d",
      "metadata": {
        "id": "4d081bd0-5e37-4c10-80a3-cb0b61834c8d",
        "outputId": "d55268ff-f2ab-4ef1-f3f1-7efb8ee26841",
        "tags": []
      },
      "outputs": [
        {
          "name": "stdout",
          "output_type": "stream",
          "text": [
            "root\n",
            " |-- cpf: string (nullable = true)\n",
            " |-- numTotalDiaPrimeiraCompra: long (nullable = true)\n",
            " |-- numTotalDiaUltimaCompra: long (nullable = true)\n",
            " |-- qteTotalCompraVeiculo: long (nullable = true)\n",
            " |-- qteFinanciadoAtivo: long (nullable = true)\n",
            " |-- qteFinanciadoMaximaParcela: long (nullable = true)\n",
            " |-- qteFinanciadoMediaParcela: long (nullable = true)\n",
            " |-- qteFinanciadoQuitado: long (nullable = true)\n",
            " |-- qteFinanciadoQuitadoAntesPrazo: long (nullable = true)\n",
            " |-- qteFinanciadoQuitadoDepoisPrazo: long (nullable = true)\n",
            " |-- qteFinanciadoQuitadoPrazo: long (nullable = true)\n",
            " |-- qteTotalCompraOnibus: long (nullable = true)\n",
            " |-- valFinanciadoAtualDebito: long (nullable = true)\n",
            " |-- valFinanciadoMedia: long (nullable = true)\n",
            " |-- valFinanciadoMediaParcela: long (nullable = true)\n",
            " |-- valFinanciadoSoma: long (nullable = true)\n",
            " |-- ctaFinanciadorMarcaPremium: string (nullable = true)\n",
            " |-- ctaHistoricoAtrasoFinanciamento: string (nullable = true)\n",
            " |-- ctaMediaParcelaFinanciamento: string (nullable = true)\n",
            " |-- ctaRecorrenciaFinanciamento: string (nullable = true)\n",
            " |-- qtdVeiculosFinanciados: long (nullable = true)\n",
            "\n"
          ]
        }
      ],
      "source": [
        "financiamento_veicular.printSchema()"
      ]
    },
    {
      "cell_type": "code",
      "execution_count": null,
      "id": "f5b96954-bc05-4702-b85c-95a9e01f9a7c",
      "metadata": {
        "id": "f5b96954-bc05-4702-b85c-95a9e01f9a7c",
        "outputId": "1274bb13-a057-4ab3-dd4b-a1f145bf4457",
        "tags": []
      },
      "outputs": [
        {
          "name": "stdout",
          "output_type": "stream",
          "text": [
            "root\n",
            " |-- cpf: string (nullable = true)\n",
            " |-- flagRendaSemInformacao: integer (nullable = true)\n",
            " |-- flagBaixaRenda: integer (nullable = true)\n",
            " |-- flagMediaRenda: integer (nullable = true)\n",
            " |-- flagAltaRenda: integer (nullable = true)\n",
            "\n"
          ]
        }
      ],
      "source": [
        "pessoa_renda_estimada.printSchema()"
      ]
    },
    {
      "cell_type": "code",
      "execution_count": null,
      "id": "12997341-5bd9-4206-9a76-667208bf47ee",
      "metadata": {
        "id": "12997341-5bd9-4206-9a76-667208bf47ee",
        "tags": []
      },
      "outputs": [],
      "source": [
        "financiamento_veicular_renda = income_financing(pessoa_renda_estimada, financiamento_veicular)"
      ]
    },
    {
      "cell_type": "code",
      "execution_count": null,
      "id": "5b8e10ff-1029-4ab3-a0b8-e16ce59a549f",
      "metadata": {
        "id": "5b8e10ff-1029-4ab3-a0b8-e16ce59a549f",
        "tags": []
      },
      "outputs": [],
      "source": [
        "financiamento_veicular_beneficiario = beneficiary_financing(pessoa_beneficios, financiamento_veicular)"
      ]
    },
    {
      "cell_type": "code",
      "execution_count": null,
      "id": "b7867066-fcde-4546-a8bf-f0e488f27403",
      "metadata": {
        "id": "b7867066-fcde-4546-a8bf-f0e488f27403",
        "tags": []
      },
      "outputs": [],
      "source": [
        "financiamento_veicular = (\n",
        "    financiamento_veicular\n",
        "    .join(financiamento_veicular_renda, how=\"left\", on=\"cpf\")\n",
        "    .join(financiamento_veicular_beneficiario, how=\"left\", on=\"cpf\")\n",
        "    .join(pessoa_cadastrais, how=\"right\", on=\"cpf\")\n",
        "    .withColumn(\"anosMaioridade\", sf.col(\"idade\") - sf.lit(18))\n",
        "    .withColumn(\"RecorrenciaFinanciamentoMaioridade\",\n",
        "                sf.when((sf.col(\"idade\") >= 18) &\n",
        "                        (sf.col(\"qtdVeiculosFinanciados\") > 0),\n",
        "                        sf.round(sf.col(\"anosMaioridade\")/sf.col(\"qtdVeiculosFinanciados\"), 2)\n",
        "                       ).otherwise(0)\n",
        "               )\n",
        "    .select(\"cpf\",\n",
        "            \"qtdVeiculosFinanciados\",\n",
        "            sf.col(\"qteFinanciadoQuitado\").alias(\"qtdFinanciamentosVeicularesQuitados\"),\n",
        "            \"flagBaixaRendaFinanciamentoVeiculoPremium\",\n",
        "            sf.col(\"ctaHistoricoAtrasoFinanciamento\").alias(\"historicoAtrasoFinanciamentoVeicular\"),\n",
        "            \"flagBaixaRendaMediaParcelaFinanciamentoAlta\",\n",
        "            sf.col(\"ctaRecorrenciaFinanciamento\").alias(\"recorrenciaFinanciamentoVeicular\"),\n",
        "            \"flagBeneficiarioProgramasSociaisFinanciamentoMediaParcelaAlta\",\n",
        "            \"RecorrenciaFinanciamentoMaioridade\"\n",
        "           )\n",
        "    .fillna(0, subset=[\"qtdVeiculosFinanciados\", \"qtdFinanciamentosVeicularesQuitados\", \"flagBaixaRendaFinanciamentoVeiculoPremium\",\n",
        "                       \"flagBaixaRendaMediaParcelaFinanciamentoAlta\", \"flagBeneficiarioProgramasSociaisFinanciamentoMediaParcelaAlta\"])\n",
        "    .fillna(\"SEM INFORMACAO\", subset=[\"historicoAtrasoFinanciamentoVeicular\", \"recorrenciaFinanciamentoVeicular\"])\n",
        ")"
      ]
    },
    {
      "cell_type": "code",
      "execution_count": null,
      "id": "3bd4f57d-f8dc-4904-97bd-b3402716fb55",
      "metadata": {
        "id": "3bd4f57d-f8dc-4904-97bd-b3402716fb55",
        "tags": []
      },
      "outputs": [],
      "source": [
        "financiamento_veicular.cache().count()"
      ]
    },
    {
      "cell_type": "markdown",
      "id": "928add6f-36c3-4ee2-b403-e9886eac3256",
      "metadata": {
        "id": "928add6f-36c3-4ee2-b403-e9886eac3256"
      },
      "source": [
        "### Salvando dados"
      ]
    },
    {
      "cell_type": "code",
      "execution_count": null,
      "id": "e20e47e5-2f6e-4704-9abc-0bbf3767fe5f",
      "metadata": {
        "id": "e20e47e5-2f6e-4704-9abc-0bbf3767fe5f",
        "tags": []
      },
      "outputs": [],
      "source": [
        "DATASET_NAME = 'financiamento-veicular.parquet'\n",
        "PATH = os.path.join(oculto, DATASET_NAME)\n",
        "\n",
        "financiamento_veicular.write.mode(\"overwrite\").parquet(PATH)"
      ]
    },
    {
      "cell_type": "markdown",
      "id": "84508521-57d9-4fc1-a4a8-4a46a159c054",
      "metadata": {
        "id": "84508521-57d9-4fc1-a4a8-4a46a159c054",
        "jp-MarkdownHeadingCollapsed": true,
        "tags": []
      },
      "source": [
        "## Financiamento Imobiliário"
      ]
    },
    {
      "cell_type": "code",
      "execution_count": null,
      "id": "71f0ef5d-4cad-4b03-84d1-742de329aae4",
      "metadata": {
        "id": "71f0ef5d-4cad-4b03-84d1-742de329aae4",
        "outputId": "bd66033a-833e-466c-99c6-be2418c1e1ac",
        "tags": []
      },
      "outputs": [],
      "source": [
        "financiamento_imobiliario = oculto"
      ]
    },
    {
      "cell_type": "code",
      "execution_count": null,
      "id": "14762528-670c-40ee-9485-0dfb11090bb6",
      "metadata": {
        "id": "14762528-670c-40ee-9485-0dfb11090bb6",
        "outputId": "13145707-98fa-42e3-ee87-465dd61449b1",
        "tags": []
      },
      "outputs": [
        {
          "name": "stderr",
          "output_type": "stream",
          "text": [
            "25/03/19 15:55:44 WARN WindowExec: No Partition Defined for Window operation! Moving all data to a single partition, this can cause serious performance degradation.\n",
            "25/03/19 15:55:44 WARN WindowExec: No Partition Defined for Window operation! Moving all data to a single partition, this can cause serious performance degradation.\n",
            "25/03/19 15:55:44 WARN WindowExec: No Partition Defined for Window operation! Moving all data to a single partition, this can cause serious performance degradation.\n",
            "25/03/19 15:55:48 WARN WindowExec: No Partition Defined for Window operation! Moving all data to a single partition, this can cause serious performance degradation.\n",
            "25/03/19 15:55:48 WARN WindowExec: No Partition Defined for Window operation! Moving all data to a single partition, this can cause serious performance degradation.\n",
            "25/03/19 15:55:48 WARN WindowExec: No Partition Defined for Window operation! Moving all data to a single partition, this can cause serious performance degradation.\n",
            "25/03/19 15:55:48 WARN WindowExec: No Partition Defined for Window operation! Moving all data to a single partition, this can cause serious performance degradation.\n"
          ]
        },
        {
          "name": "stdout",
          "output_type": "stream",
          "text": [
            "+------------------------------------+-------+----------+----------+\n",
            "|descFaixaFinanciamentoMaisAtualAtivo|  count|proportion|cumulative|\n",
            "+------------------------------------+-------+----------+----------+\n",
            "|                          0 A 200000|3593753|  66.43532|  66.43532|\n",
            "|                     200001 A 400000|1049517|  19.40172|  85.83704|\n",
            "|                                  NA| 332666|   6.14978|  91.98682|\n",
            "|                     400001 A 600000| 237011|   4.38146|  96.36828|\n",
            "|                     600001 A 800000|  90287|   1.66908|  98.03736|\n",
            "|                   1000001 A 2000000|  50551|    0.9345|  98.97186|\n",
            "|                    800001 A 1000000|  44752|    0.8273|  99.79916|\n",
            "|                   2000001 A 3000000|   6882|   0.12722|  99.92638|\n",
            "|                   3000001 A 4000000|   1832|   0.03387|  99.96025|\n",
            "|                   4000001 A 5000000|    853|   0.01577|  99.97602|\n",
            "|                   5000001 A 6000000|    430|   0.00795|  99.98397|\n",
            "|                 10000001 A 25000000|    257|   0.00475|  99.98872|\n",
            "|                   6000001 A 7000000|    239|   0.00442|  99.99314|\n",
            "|                   7000001 A 8000000|    129|   0.00238|  99.99552|\n",
            "|                   8000001 A 9000000|    118|   0.00218|   99.9977|\n",
            "|                  9000001 A 10000000|     79|   0.00146|  99.99916|\n",
            "|                   ACIMA DE 25000000|     45|    8.3E-4|  99.99999|\n",
            "+------------------------------------+-------+----------+----------+\n",
            "\n"
          ]
        },
        {
          "name": "stderr",
          "output_type": "stream",
          "text": [
            "                                                                                \r"
          ]
        }
      ],
      "source": [
        "total_size = financiamento_imobiliario.count()\n",
        "window = Window.orderBy(sf.desc(\"proportion\"))\n",
        "(\n",
        "    financiamento_imobiliario.groupBy('descFaixaFinanciamentoMaisAtualAtivo')\n",
        "    .agg(sf.count('*').alias('count'))\n",
        "    .withColumn('proportion', sf.round((sf.col('count') / sf.lit(total_size))*100, 5))\n",
        "    .withColumn('cumulative', sf.round(sf.sum(\"proportion\").over(window), 5))\n",
        "    .sort(\"proportion\", ascending=False)\n",
        ").show()"
      ]
    },
    {
      "cell_type": "code",
      "execution_count": null,
      "id": "d1629428-f036-439d-b006-0df879b577f9",
      "metadata": {
        "id": "d1629428-f036-439d-b006-0df879b577f9",
        "tags": []
      },
      "outputs": [],
      "source": [
        "def economic_profile_property_financing(renda: DataFrame, beneficios:DataFrame, imoveis:DataFrame) -> DataFrame:\n",
        "\n",
        "    beneficiary_condition = sf.col(\"flagBeneficiarioProgramasSociais\") == 1\n",
        "\n",
        "    #TOP 1%\n",
        "    FINANCIAMENTO_ALTO_FAIXAS = ['800001 A 1000000', '1000001 A 2000000', '2000001 A 3000000',\n",
        "                                 '3000001 A 4000000', '4000001 A 5000000', '5000001 A 6000000',\n",
        "                                 '6000001 A 7000000', '7000001 A 8000000', '8000001 A 9000000',\n",
        "                                 '9000001 A 10000000', '10000001 A 25000000', 'ACIMA DE 25000000']\n",
        "\n",
        "    pessoa_financiamento_imobiliario = (\n",
        "        imoveis\n",
        "        .join(renda, how=\"left\", on=\"cpf\")\n",
        "        .join(beneficios, how=\"left\", on=\"cpf\")\n",
        "        .withColumn(\"flagFinanciamentoImobiliarioAltoValorBeneficiaria\",\n",
        "                    sf.when(beneficiary_condition &\n",
        "                            (sf.col(\"descFaixaFinanciamentoMaisAtualAtivo\").isin(FINANCIAMENTO_ALTO_FAIXAS)), 1\n",
        "                           ).otherwise(0)\n",
        "                   )\n",
        "        .withColumn(\"flagFinanciamentoImobiliarioAltoValorBaixaRenda\",\n",
        "                    sf.when((sf.col(\"flagBaixaRenda\") == 1) &\n",
        "                            (sf.col(\"descFaixaFinanciamentoMaisAtualAtivo\").isin(FINANCIAMENTO_ALTO_FAIXAS)), 1\n",
        "                           ).otherwise(0)\n",
        "                   )\n",
        "    )\n",
        "\n",
        "\n",
        "    return pessoa_financiamento_imobiliario.select(\"cpf\", \"flagFinanciamentoImobiliarioAltoValorBeneficiaria\",\n",
        "                                                   \"flagFinanciamentoImobiliarioAltoValorBaixaRenda\")"
      ]
    },
    {
      "cell_type": "code",
      "execution_count": null,
      "id": "658b1de8-0958-4ee3-a8f9-3a3acb8a6d87",
      "metadata": {
        "id": "658b1de8-0958-4ee3-a8f9-3a3acb8a6d87",
        "tags": []
      },
      "outputs": [],
      "source": [
        "pessoa_financiamento_imobiliario = (\n",
        "    economic_profile_property_financing(pessoa_renda_estimada, pessoa_beneficios, financiamento_imobiliario)\n",
        "    .join(pessoa_cadastrais.select(\"cpf\"), on=\"cpf\", how=\"right\")\n",
        "    .fillna(0)\n",
        ")"
      ]
    },
    {
      "cell_type": "code",
      "execution_count": null,
      "id": "0974812a-8098-4a86-b25b-68753c4410c8",
      "metadata": {
        "id": "0974812a-8098-4a86-b25b-68753c4410c8",
        "outputId": "dd3e280b-a3f6-4096-e58c-b0cbecd68fff",
        "tags": []
      },
      "outputs": [
        {
          "name": "stderr",
          "output_type": "stream",
          "text": [
            "                                                                                \r"
          ]
        },
        {
          "data": {
            "text/plain": [
              "184050329"
            ]
          },
          "execution_count": 69,
          "metadata": {},
          "output_type": "execute_result"
        }
      ],
      "source": [
        "pessoa_financiamento_imobiliario.count()"
      ]
    },
    {
      "cell_type": "markdown",
      "id": "a2ec8f35-74d0-41df-a57d-b14357fef1fd",
      "metadata": {
        "id": "a2ec8f35-74d0-41df-a57d-b14357fef1fd"
      },
      "source": [
        "### Salvando dados"
      ]
    },
    {
      "cell_type": "code",
      "execution_count": null,
      "id": "7c34fe09-7640-4e9f-8934-8fc45cdb7f98",
      "metadata": {
        "id": "7c34fe09-7640-4e9f-8934-8fc45cdb7f98",
        "outputId": "c09daaec-6449-4174-ad99-808b25bb5d3e",
        "tags": []
      },
      "outputs": [
        {
          "name": "stderr",
          "output_type": "stream",
          "text": [
            "                                                                                \r"
          ]
        }
      ],
      "source": [
        "DATASET_NAME = 'financiamento_imobiliario.parquet'\n",
        "PATH = os.path.join(oculto, DATASET_NAME)\n",
        "\n",
        "pessoa_financiamento_imobiliario.write.mode(\"overwrite\").parquet(PATH)"
      ]
    },
    {
      "cell_type": "markdown",
      "id": "daf33d96-faff-4b97-95de-226dddebfb96",
      "metadata": {
        "id": "daf33d96-faff-4b97-95de-226dddebfb96",
        "jp-MarkdownHeadingCollapsed": true,
        "tags": []
      },
      "source": [
        "## Investimento"
      ]
    },
    {
      "cell_type": "code",
      "execution_count": null,
      "id": "6bcfb321-0b90-49f9-a62a-f997cb651384",
      "metadata": {
        "id": "6bcfb321-0b90-49f9-a62a-f997cb651384",
        "outputId": "1542d534-71fd-4a7d-cff6-8b842a0be422",
        "tags": []
      },
      "outputs": [],
      "source": [
        "investimento = oculto"
      ]
    },
    {
      "cell_type": "code",
      "execution_count": null,
      "id": "7b8a401b-c56a-4833-b70b-0109d4429ef2",
      "metadata": {
        "id": "7b8a401b-c56a-4833-b70b-0109d4429ef2",
        "tags": []
      },
      "outputs": [],
      "source": [
        "def get_investiment_beneficiary_programs(investimento: DataFrame, beneficios: DataFrame) -> DataFrame:\n",
        "\n",
        "    beneficiary_condition = sf.col(\"flagBeneficiarioProgramasSociais\") == 1\n",
        "\n",
        "    pessoa_investimento_beneficiaria_programas = (\n",
        "        investimento\n",
        "        .join(beneficios, on=\"cpf\", how=\"left\")\n",
        "        .withColumn(\"flagBancarizacaoABeneficiarioProgramasSociais\",\n",
        "                    sf.when(\n",
        "                        (beneficiary_condition)  &\n",
        "                        (sf.col(\"bancarizacao\") == \"A\"), 1)\n",
        "                    .otherwise(0))\n",
        "        .withColumn(\"flagPatrimonioABeneficiarioProgramasSociais\",\n",
        "                    sf.when(\n",
        "                        (beneficiary_condition) &\n",
        "                        (sf.col(\"patrimonio\") == \"A\"), 1)\n",
        "                    .otherwise(0))\n",
        "        .withColumn(\"flagAtivosComCotaABeneficiarioProgramasSociais\",\n",
        "                   sf.when(\n",
        "                       (beneficiary_condition) &\n",
        "                        (sf.col(\"ativosComCota\") == \"A\"), 1)\n",
        "                    .otherwise(0)\n",
        "                   )\n",
        "        .withColumn(\"flagAtivosSemCotaABeneficiarioProgramasSociais\",\n",
        "                   sf.when(\n",
        "                       (beneficiary_condition) &\n",
        "                        (sf.col(\"ativosSemCota\") == \"A\"), 1)\n",
        "                    .otherwise(0)\n",
        "                   )\n",
        "\n",
        "    )\n",
        "\n",
        "    return pessoa_investimento_beneficiaria_programas.select(\"cpf\", \"flagBancarizacaoABeneficiarioProgramasSociais\",\n",
        "                                                             \"flagPatrimonioABeneficiarioProgramasSociais\",\n",
        "                                                             \"flagAtivosComCotaABeneficiarioProgramasSociais\",\n",
        "                                                             \"flagAtivosSemCotaABeneficiarioProgramasSociais\"\n",
        "                                                            )"
      ]
    },
    {
      "cell_type": "code",
      "execution_count": null,
      "id": "ab551a42-3e3b-4fa4-ae7f-fcb54c36588b",
      "metadata": {
        "id": "ab551a42-3e3b-4fa4-ae7f-fcb54c36588b",
        "tags": []
      },
      "outputs": [],
      "source": [
        "def get_investiment_income(investimento: DataFrame, renda: DataFrame) -> DataFrame:\n",
        "\n",
        "\n",
        "    pessoa_investimento_baixa_renda = (\n",
        "        investimento\n",
        "        .join(renda, on=\"cpf\", how=\"left\")\n",
        "        .withColumn(\"flagBancarizacaoABaixaRenda\",\n",
        "                    sf.when(\n",
        "                        (sf.col(\"bancarizacao\") == \"A\") &\n",
        "                        (sf.col(\"flagBaixaRenda\") == 1), 1)\n",
        "                    .otherwise(0)\n",
        "                   )\n",
        "        .withColumn(\"flagPatrimonioABaixaRenda\",\n",
        "                    sf.when(\n",
        "                        (sf.col(\"patrimonio\") == \"A\") &\n",
        "                        (sf.col(\"flagBaixaRenda\") == 1), 1)\n",
        "                    .otherwise(0)\n",
        "                   )\n",
        "        .withColumn(\"flagAtivosComCotaABaixaRenda\",\n",
        "                    sf.when(\n",
        "                        (sf.col(\"ativosComCota\") == \"A\") &\n",
        "                        (sf.col(\"flagBaixaRenda\") == 1), 1)\n",
        "                    .otherwise(0)\n",
        "                   )\n",
        "        .withColumn(\"flagAtivosSemCotaABaixaRenda\",\n",
        "                    sf.when(\n",
        "                        (sf.col(\"ativosSemCota\") == \"A\") &\n",
        "                        (sf.col(\"flagBaixaRenda\") == 1), 1)\n",
        "                    .otherwise(0)\n",
        "                   )\n",
        "    )\n",
        "\n",
        "\n",
        "    return pessoa_investimento_baixa_renda.select(\"cpf\", \"flagBancarizacaoABaixaRenda\",\n",
        "                                                  \"flagPatrimonioABaixaRenda\", \"flagAtivosComCotaABaixaRenda\",\n",
        "                                                  \"flagAtivosSemCotaABaixaRenda\"\n",
        "                                                 )"
      ]
    },
    {
      "cell_type": "code",
      "execution_count": null,
      "id": "f5918969-c12d-4b27-af09-1fcea2b6e972",
      "metadata": {
        "id": "f5918969-c12d-4b27-af09-1fcea2b6e972",
        "tags": []
      },
      "outputs": [],
      "source": [
        "investimento_beneficiaria = get_investiment_beneficiary_programs(investimento, pessoa_beneficios)"
      ]
    },
    {
      "cell_type": "code",
      "execution_count": null,
      "id": "663764eb-538a-488e-bf57-0f9b730d8ccf",
      "metadata": {
        "id": "663764eb-538a-488e-bf57-0f9b730d8ccf",
        "tags": []
      },
      "outputs": [],
      "source": [
        "investimento_baixa_renda = get_investiment_income(investimento, pessoa_renda_estimada)"
      ]
    },
    {
      "cell_type": "code",
      "execution_count": null,
      "id": "c437e1f7-c421-432c-8823-9beb84eeda20",
      "metadata": {
        "id": "c437e1f7-c421-432c-8823-9beb84eeda20",
        "tags": []
      },
      "outputs": [],
      "source": [
        "pessoa_investimento = (\n",
        "    investimento_beneficiaria\n",
        "    .join(investimento_baixa_renda, how=\"outer\", on=\"cpf\")\n",
        "    .join(pessoa_cadastrais.select(\"cpf\"), on=\"cpf\", how=\"right\")\n",
        "    .fillna(0)\n",
        ")"
      ]
    },
    {
      "cell_type": "code",
      "execution_count": null,
      "id": "10ccedab-45bd-4217-9d06-64230c8075a3",
      "metadata": {
        "id": "10ccedab-45bd-4217-9d06-64230c8075a3",
        "outputId": "bffdf44d-d8e4-45e2-ab60-fa982d66fd03",
        "tags": []
      },
      "outputs": [
        {
          "name": "stderr",
          "output_type": "stream",
          "text": [
            "                                                                                \r"
          ]
        },
        {
          "data": {
            "text/plain": [
              "184050329"
            ]
          },
          "execution_count": 83,
          "metadata": {},
          "output_type": "execute_result"
        }
      ],
      "source": [
        "pessoa_investimento.cache().count()"
      ]
    },
    {
      "cell_type": "markdown",
      "id": "b95d9bdf-ecfe-48d9-ad93-d260814bd6da",
      "metadata": {
        "id": "b95d9bdf-ecfe-48d9-ad93-d260814bd6da"
      },
      "source": [
        "### Salvando dados"
      ]
    },
    {
      "cell_type": "code",
      "execution_count": null,
      "id": "807b7617-29b9-486e-b98b-3df913c25b79",
      "metadata": {
        "id": "807b7617-29b9-486e-b98b-3df913c25b79",
        "outputId": "7f755fc3-1e96-4fb3-c38f-a13f5c2788c0",
        "tags": []
      },
      "outputs": [
        {
          "name": "stderr",
          "output_type": "stream",
          "text": [
            "                                                                                \r"
          ]
        }
      ],
      "source": [
        "DATASET_NAME = 'investimento.parquet'\n",
        "PATH = os.path.join(oculto, DATASET_NAME)\n",
        "\n",
        "pessoa_investimento.write.mode(\"overwrite\").parquet(PATH)"
      ]
    },
    {
      "cell_type": "markdown",
      "id": "aada8207-a47e-4541-b5c5-284f4d0aaad5",
      "metadata": {
        "id": "aada8207-a47e-4541-b5c5-284f4d0aaad5",
        "jp-MarkdownHeadingCollapsed": true,
        "tags": []
      },
      "source": [
        "## Juridico"
      ]
    },
    {
      "cell_type": "code",
      "execution_count": null,
      "id": "3a4940c2-4e74-4e5f-bded-7dd4d468836d",
      "metadata": {
        "id": "3a4940c2-4e74-4e5f-bded-7dd4d468836d",
        "tags": []
      },
      "outputs": [],
      "source": [
        "cols = [\"cpf\", \"flagSocioProcessoJudicialLavagemDinheiro\",\n",
        "        \"flagProcessoJudicialCorrupcao\", \"flagProcessoJudicialLavagem\",\n",
        "        \"flagProcessoJudicialFraude\", \"flagProcessoJudicialRouboFurtos\",\n",
        "        \"flagSocioProcessoJudicialFraude\", \"flagProcessoJudicialCobranca\",\n",
        "        \"flagSocioProcessoJudicialCorrupcao\", \"flagSocioProcessoJudicialTributario\"]"
      ]
    },
    {
      "cell_type": "code",
      "execution_count": null,
      "id": "6c603a54-9afd-45d0-97f1-0432ad27ffab",
      "metadata": {
        "id": "6c603a54-9afd-45d0-97f1-0432ad27ffab",
        "outputId": "ef563af1-212d-4cb0-c9c0-5c4ab5566514",
        "tags": []
      },
      "outputs": [],
      "source": [
        "juridico = (\n",
        "    oculto\n",
        "    .join(pessoa_cadastrais, how='right', on='cpf')\n",
        "    .select(\"cpf\",\n",
        "            sf.col(\"flagSocioProcessoJudicialLavagemDinheiro\").cast(\"int\").alias(\"flagSocioProcessoJudicialLavagemDinheiro\"),\n",
        "            sf.col(\"flagProcessoJudicialCorrupcao\").cast(\"int\").alias(\"flagProcessoJudicialCorrupcao\"),\n",
        "            sf.col(\"flagProcessoJudicialLavagem\").cast(\"int\").alias(\"flagProcessoJudicialLavagem\"),\n",
        "            sf.col(\"flagProcessoJudicialFraude\").cast(\"int\").alias(\"flagProcessoJudicialFraude\"),\n",
        "            sf.col(\"flagProcessoJudicialRouboFurtos\").cast(\"int\").alias(\"flagProcessoJudicialRouboFurtos\"),\n",
        "            sf.col(\"flagSocioProcessoJudicialFraude\").cast(\"int\").alias(\"flagSocioProcessoJudicialFraude\"),\n",
        "            sf.col(\"flagProcessoJudicialCobranca\").cast(\"int\").alias(\"flagProcessoJudicialCobranca\"),\n",
        "            sf.col(\"flagSocioProcessoJudicialCorrupcao\").cast(\"int\").alias(\"flagSocioProcessoJudicialCorrupcao\"),\n",
        "            sf.col(\"flagSocioProcessoJudicialTributario\").cast(\"int\").alias(\"flagSocioProcessoJudicialTributario\")\n",
        "           )\n",
        ")"
      ]
    },
    {
      "cell_type": "code",
      "execution_count": null,
      "id": "c97445c6-e5fe-49d4-8113-b1091f7274eb",
      "metadata": {
        "id": "c97445c6-e5fe-49d4-8113-b1091f7274eb",
        "outputId": "0da645ff-d44a-40f0-a0e9-111a7e1667c7",
        "tags": []
      },
      "outputs": [
        {
          "name": "stderr",
          "output_type": "stream",
          "text": [
            "                                                                                \r"
          ]
        },
        {
          "data": {
            "text/plain": [
              "184050329"
            ]
          },
          "execution_count": 88,
          "metadata": {},
          "output_type": "execute_result"
        }
      ],
      "source": [
        "juridico.count()"
      ]
    },
    {
      "cell_type": "code",
      "execution_count": null,
      "id": "537e701f-e363-4e4c-9272-3fdc92f6e1c7",
      "metadata": {
        "id": "537e701f-e363-4e4c-9272-3fdc92f6e1c7",
        "tags": []
      },
      "outputs": [],
      "source": [
        "juridico = juridico.fillna(0)"
      ]
    },
    {
      "cell_type": "markdown",
      "id": "35b5faf0-a12c-4c68-933b-dcdc9fc3dbd3",
      "metadata": {
        "id": "35b5faf0-a12c-4c68-933b-dcdc9fc3dbd3"
      },
      "source": [
        "### Salvando dados"
      ]
    },
    {
      "cell_type": "code",
      "execution_count": null,
      "id": "25d18cdd-29ca-49ab-8fd2-a2468098c9c3",
      "metadata": {
        "id": "25d18cdd-29ca-49ab-8fd2-a2468098c9c3",
        "outputId": "ea9b041c-3891-4a42-ffd8-1e2ccf6d8a21",
        "tags": []
      },
      "outputs": [
        {
          "name": "stderr",
          "output_type": "stream",
          "text": [
            "                                                                                \r"
          ]
        }
      ],
      "source": [
        "DATASET_NAME = 'juridico.parquet'\n",
        "PATH = os.path.join(oculto, DATASET_NAME)\n",
        "\n",
        "juridico.write.mode(\"overwrite\").parquet(PATH)"
      ]
    },
    {
      "cell_type": "markdown",
      "id": "2e2f26d4-e2ec-44d5-bce0-dd2e325843aa",
      "metadata": {
        "id": "2e2f26d4-e2ec-44d5-bce0-dd2e325843aa",
        "jp-MarkdownHeadingCollapsed": true,
        "tags": []
      },
      "source": [
        "## Vinculos Familiares"
      ]
    },
    {
      "cell_type": "code",
      "execution_count": null,
      "id": "1b97fc5c-77cb-4a5b-baa9-5c1736e2e6dd",
      "metadata": {
        "id": "1b97fc5c-77cb-4a5b-baa9-5c1736e2e6dd",
        "outputId": "df599483-b2ed-423b-d982-c8334a6675d0",
        "tags": []
      },
      "outputs": [],
      "source": [
        "relacionamento = (\n",
        "    oculto\n",
        "    .withColumnRenamed(\"cd_cpf\", \"cpf\")\n",
        ")"
      ]
    },
    {
      "cell_type": "code",
      "execution_count": null,
      "id": "fc8cacba-fdb7-4109-918e-521523921385",
      "metadata": {
        "id": "fc8cacba-fdb7-4109-918e-521523921385",
        "tags": []
      },
      "outputs": [],
      "source": [
        "relacionamento = (\n",
        "    pessoa_cadastrais.join(relacionamento,on=\"cpf\", how=\"inner\")\n",
        "    .select('cpf',\n",
        "            'nm_pessoa',\n",
        "            'cd_cpf_relacionado',\n",
        "            'nm_relacionamento')\n",
        ")"
      ]
    },
    {
      "cell_type": "code",
      "execution_count": null,
      "id": "f0085430-b469-41c6-bba2-d44242b7b061",
      "metadata": {
        "id": "f0085430-b469-41c6-bba2-d44242b7b061",
        "outputId": "121a128c-acc0-480b-e8ed-6c4497291fcb",
        "tags": []
      },
      "outputs": [],
      "source": [
        "relacionamento_juridico = (\n",
        "    oculto\n",
        "    .select(\"cpf\",\n",
        "            \"flagProcessoJudicialCorrupcao\", \"flagProcessoJudicialLavagem\",\n",
        "            \"flagProcessoJudicialFraude\", \"flagProcessoJudicialRouboFurtos\",\n",
        "            \"flagProcessoJudicialCobranca\")\n",
        ")"
      ]
    },
    {
      "cell_type": "code",
      "execution_count": null,
      "id": "99994db9-e8b1-4488-a516-26cfecc96702",
      "metadata": {
        "id": "99994db9-e8b1-4488-a516-26cfecc96702",
        "tags": []
      },
      "outputs": [],
      "source": [
        "relacionamento_juridico = (\n",
        "    relacionamento\n",
        "    .join(relacionamento_juridico, how=\"left\",\n",
        "          on=relacionamento_juridico.cpf==relacionamento.cd_cpf_relacionado\n",
        "    )\n",
        "    .drop(relacionamento_juridico.cpf)\n",
        "    .fillna(False, subset=[\"flagProcessoJudicialCorrupcao\", \"flagProcessoJudicialLavagem\",\n",
        "                           \"flagProcessoJudicialFraude\", \"flagProcessoJudicialRouboFurtos\",\n",
        "                           \"flagProcessoJudicialCobranca\"\n",
        "                          ])\n",
        "    .select(\n",
        "        \"cpf\",\n",
        "        sf.col(\"cd_cpf_relacionado\").alias(\"cpfRelacionado\"),\n",
        "        sf.col(\"nm_relacionamento\").alias(\"nomeRelacionamento\"),\n",
        "        sf.col(\"flagProcessoJudicialCorrupcao\").cast(\"int\").alias(\"flagProcessoJudicialCorrupcao\"),\n",
        "        sf.col(\"flagProcessoJudicialLavagem\").cast(\"int\").alias(\"flagProcessoJudicialLavagem\"),\n",
        "        sf.col(\"flagProcessoJudicialFraude\").cast(\"int\").alias(\"flagProcessoJudicialFraude\"),\n",
        "        sf.col(\"flagProcessoJudicialRouboFurtos\").cast(\"int\").alias(\"flagProcessoJudicialRouboFurtos\"),\n",
        "        sf.col(\"flagProcessoJudicialCobranca\").cast(\"int\").alias(\"flagProcessoJudicialCobranca\")\n",
        "    )\n",
        ")"
      ]
    },
    {
      "cell_type": "code",
      "execution_count": null,
      "id": "96707c67-c887-49a7-9f7d-aa6c7fbc9128",
      "metadata": {
        "id": "96707c67-c887-49a7-9f7d-aa6c7fbc9128",
        "tags": []
      },
      "outputs": [],
      "source": [
        "parentre_primeiro_grau = [\"MAE\", \"FILHO\", \"PAI\"]\n",
        "parente_segundo_grau = [\"IRMAO\", \"AVO\", \"NETO\"]"
      ]
    },
    {
      "cell_type": "code",
      "execution_count": null,
      "id": "d642b97e-daaa-457a-8c6f-e52b803d0cf4",
      "metadata": {
        "id": "d642b97e-daaa-457a-8c6f-e52b803d0cf4",
        "tags": []
      },
      "outputs": [],
      "source": [
        "processo_primeiro_grau = lambda col_processo, col_relacionamento: sf.when(\n",
        "    (sf.col(col_relacionamento).isin(parentre_primeiro_grau)) & (sf.col(col_processo) == 1), 1\n",
        ").otherwise(0)\n",
        "\n",
        "processo_segundo_grau = lambda col_processo, col_relacionamento: sf.when(\n",
        "    (sf.col(col_relacionamento).isin(parente_segundo_grau)) & (sf.col(col_processo) == 1), 1\n",
        ").otherwise(0)\n",
        "\n",
        "\n",
        "\n",
        "relacionamentos = (\n",
        "    relacionamento_juridico\n",
        "    .withColumn(\"primeiroGrauProcessoJudicialCorrupcao\", processo_primeiro_grau(\"flagProcessoJudicialCorrupcao\", \"nomeRelacionamento\"))\n",
        "    .withColumn(\"primeiroGrauProcessoJudicialLavagem\", processo_primeiro_grau(\"flagProcessoJudicialLavagem\", \"nomeRelacionamento\"))\n",
        "    .withColumn(\"primeiroGrauProcessoJudicialFraude\", processo_primeiro_grau(\"flagProcessoJudicialFraude\", \"nomeRelacionamento\"))\n",
        "    .withColumn(\"primeiroGrauProcessoJudicialRouboFurtos\", processo_primeiro_grau(\"flagProcessoJudicialRouboFurtos\", \"nomeRelacionamento\"))\n",
        "    .withColumn(\"primeiroGrauProcessoJudicialCobranca\", processo_primeiro_grau(\"flagProcessoJudicialCobranca\", \"nomeRelacionamento\"))\n",
        "    .withColumn(\"segundoGrauProcessoJudicialCorrupcao\", processo_segundo_grau(\"flagProcessoJudicialCorrupcao\", \"nomeRelacionamento\"))\n",
        "    .withColumn(\"segundoGrauProcessoJudicialLavagem\", processo_segundo_grau(\"flagProcessoJudicialLavagem\", \"nomeRelacionamento\"))\n",
        "    .withColumn(\"segundoGrauProcessoJudicialFraude\", processo_segundo_grau(\"flagProcessoJudicialFraude\", \"nomeRelacionamento\"))\n",
        "    .withColumn(\"segundoGrauProcessoJudicialRouboFurtos\", processo_segundo_grau(\"flagProcessoJudicialRouboFurtos\", \"nomeRelacionamento\"))\n",
        "    .withColumn(\"segundoGrauProcessoJudicialCobranca\", processo_segundo_grau(\"flagProcessoJudicialCobranca\", \"nomeRelacionamento\"))\n",
        "    .groupBy(\"cpf\")\n",
        "    .agg(\n",
        "        sf.count(\"*\").alias(\"quantidadeRelacionamentos\"),\n",
        "        sf.max(\"primeiroGrauProcessoJudicialCorrupcao\").alias(\"flagPrimeiroGrauProcessoJudicialCorrupcao\"),\n",
        "        sf.max(\"primeiroGrauProcessoJudicialLavagem\").alias(\"flagPrimeiroGrauProcessoJudicialLavagem\"),\n",
        "        sf.max(\"primeiroGrauProcessoJudicialFraude\").alias(\"flagPrimeiroGrauProcessoJudicialFraude\"),\n",
        "        sf.max(\"primeiroGrauProcessoJudicialRouboFurtos\").alias(\"flagPrimeiroGrauProcessoJudicialRouboFurtos\"),\n",
        "        sf.max(\"primeiroGrauProcessoJudicialCobranca\").alias(\"flagPrimeiroGrauProcessoJudicialCobranca\"),\n",
        "        sf.max(\"segundoGrauProcessoJudicialCorrupcao\").alias(\"flagSegundoGrauProcessoJudicialCorrupcao\"),\n",
        "        sf.max(\"segundoGrauProcessoJudicialLavagem\").alias(\"flagSegundoGrauProcessoJudicialLavagem\"),\n",
        "        sf.max(\"segundoGrauProcessoJudicialFraude\").alias(\"flagSegundoGrauProcessoJudicialFraude\"),\n",
        "        sf.max(\"segundoGrauProcessoJudicialRouboFurtos\").alias(\"flagSegundoGrauProcessoJudicialRouboFurtos\"),\n",
        "        sf.max(\"segundoGrauProcessoJudicialCobranca\").alias(\"flagSegundoGrauProcessoJudicialCobranca\")\n",
        "\n",
        "    )\n",
        "    .join(pessoa_cadastrais.select('cpf'), how='right', on='cpf')\n",
        "    .fillna(0)\n",
        ")"
      ]
    },
    {
      "cell_type": "code",
      "execution_count": null,
      "id": "541cf1b0-7757-4ce7-a7a0-7e068bc33206",
      "metadata": {
        "id": "541cf1b0-7757-4ce7-a7a0-7e068bc33206",
        "outputId": "b4460094-09ee-44e2-97d1-f2a98569620b",
        "tags": []
      },
      "outputs": [
        {
          "name": "stderr",
          "output_type": "stream",
          "text": [
            "                                                                                \r"
          ]
        },
        {
          "data": {
            "text/html": [
              "<div>\n",
              "<style scoped>\n",
              "    .dataframe tbody tr th:only-of-type {\n",
              "        vertical-align: middle;\n",
              "    }\n",
              "\n",
              "    .dataframe tbody tr th {\n",
              "        vertical-align: top;\n",
              "    }\n",
              "\n",
              "    .dataframe thead th {\n",
              "        text-align: right;\n",
              "    }\n",
              "</style>\n",
              "<table border=\"1\" class=\"dataframe\">\n",
              "  <thead>\n",
              "    <tr style=\"text-align: right;\">\n",
              "      <th></th>\n",
              "      <th>cpf</th>\n",
              "      <th>quantidadeRelacionamentos</th>\n",
              "      <th>flagPrimeiroGrauProcessoJudicialCorrupcao</th>\n",
              "      <th>flagPrimeiroGrauProcessoJudicialLavagem</th>\n",
              "      <th>flagPrimeiroGrauProcessoJudicialFraude</th>\n",
              "      <th>flagPrimeiroGrauProcessoJudicialRouboFurtos</th>\n",
              "      <th>flagPrimeiroGrauProcessoJudicialCobranca</th>\n",
              "      <th>flagSegundoGrauProcessoJudicialCorrupcao</th>\n",
              "      <th>flagSegundoGrauProcessoJudicialLavagem</th>\n",
              "      <th>flagSegundoGrauProcessoJudicialFraude</th>\n",
              "      <th>flagSegundoGrauProcessoJudicialRouboFurtos</th>\n",
              "      <th>flagSegundoGrauProcessoJudicialCobranca</th>\n",
              "    </tr>\n",
              "  </thead>\n",
              "  <tbody>\n",
              "    <tr>\n",
              "      <th>0</th>\n",
              "      <td>0</td>\n",
              "      <td>0</td>\n",
              "      <td>0</td>\n",
              "      <td>0</td>\n",
              "      <td>0</td>\n",
              "      <td>0</td>\n",
              "      <td>0</td>\n",
              "      <td>0</td>\n",
              "      <td>0</td>\n",
              "      <td>0</td>\n",
              "      <td>0</td>\n",
              "      <td>0</td>\n",
              "    </tr>\n",
              "  </tbody>\n",
              "</table>\n",
              "</div>"
            ],
            "text/plain": [
              "   cpf  quantidadeRelacionamentos  flagPrimeiroGrauProcessoJudicialCorrupcao  flagPrimeiroGrauProcessoJudicialLavagem  flagPrimeiroGrauProcessoJudicialFraude  flagPrimeiroGrauProcessoJudicialRouboFurtos  flagPrimeiroGrauProcessoJudicialCobranca  flagSegundoGrauProcessoJudicialCorrupcao  flagSegundoGrauProcessoJudicialLavagem  flagSegundoGrauProcessoJudicialFraude  flagSegundoGrauProcessoJudicialRouboFurtos  flagSegundoGrauProcessoJudicialCobranca\n",
              "0    0                          0                                          0                                        0                                       0                                            0                                         0                                         0                                       0                                      0                                           0                                        0"
            ]
          },
          "execution_count": 98,
          "metadata": {},
          "output_type": "execute_result"
        }
      ],
      "source": [
        "countMissingValues(relacionamentos).toPandas()"
      ]
    },
    {
      "cell_type": "markdown",
      "id": "4134c168-f1cb-446e-a1d6-cadd64a766e5",
      "metadata": {
        "id": "4134c168-f1cb-446e-a1d6-cadd64a766e5"
      },
      "source": [
        "### Salvando dados"
      ]
    },
    {
      "cell_type": "code",
      "execution_count": null,
      "id": "9c9c7eac-93d5-4472-b0aa-76f66f02b13a",
      "metadata": {
        "id": "9c9c7eac-93d5-4472-b0aa-76f66f02b13a",
        "outputId": "0b4ea202-118a-4276-a9c1-91b8f1b8f896",
        "tags": []
      },
      "outputs": [
        {
          "name": "stderr",
          "output_type": "stream",
          "text": [
            "                                                                                \r"
          ]
        }
      ],
      "source": [
        "DATASET_NAME = 'relacionamento.parquet'\n",
        "PATH = os.path.join(oculto, DATASET_NAME)\n",
        "\n",
        "relacionamentos.write.mode(\"overwrite\").parquet(PATH)"
      ]
    },
    {
      "cell_type": "markdown",
      "id": "c2f768e5-8dee-4516-b22a-6323092804a3",
      "metadata": {
        "id": "c2f768e5-8dee-4516-b22a-6323092804a3",
        "jp-MarkdownHeadingCollapsed": true,
        "tags": []
      },
      "source": [
        "## Endividamento"
      ]
    },
    {
      "cell_type": "code",
      "execution_count": null,
      "id": "ce3b5b9b-68d7-49c5-af87-282375907fdf",
      "metadata": {
        "id": "ce3b5b9b-68d7-49c5-af87-282375907fdf",
        "outputId": "ceea4436-fb8f-483b-b01e-223116135422",
        "tags": []
      },
      "outputs": [],
      "source": [
        "endividamento = (\n",
        "    oculto\n",
        "    .join(pessoa_cadastrais, on='cpf', how='right')\n",
        "    .select(\"cpf\",\n",
        "            sf.col(\"flagDividaDauCresceu180Dias\").cast(\"int\").alias(\"flagDividaDauCresceu180Dias\"),\n",
        "            \"valorTotalDividasDau\"\n",
        "           )\n",
        ")"
      ]
    },
    {
      "cell_type": "code",
      "execution_count": null,
      "id": "80130634-19e5-4cb0-857c-873683335f9a",
      "metadata": {
        "id": "80130634-19e5-4cb0-857c-873683335f9a",
        "tags": []
      },
      "outputs": [],
      "source": [
        "endividamento = endividamento.fillna(0)"
      ]
    },
    {
      "cell_type": "code",
      "execution_count": null,
      "id": "42a4a1f4-38f6-4b8e-84a2-db7b9574dbc4",
      "metadata": {
        "id": "42a4a1f4-38f6-4b8e-84a2-db7b9574dbc4",
        "outputId": "53795558-398e-42b9-8858-7e98df9a3975",
        "tags": []
      },
      "outputs": [
        {
          "name": "stderr",
          "output_type": "stream",
          "text": [
            "                                                                                \r"
          ]
        },
        {
          "data": {
            "text/html": [
              "<div>\n",
              "<style scoped>\n",
              "    .dataframe tbody tr th:only-of-type {\n",
              "        vertical-align: middle;\n",
              "    }\n",
              "\n",
              "    .dataframe tbody tr th {\n",
              "        vertical-align: top;\n",
              "    }\n",
              "\n",
              "    .dataframe thead th {\n",
              "        text-align: right;\n",
              "    }\n",
              "</style>\n",
              "<table border=\"1\" class=\"dataframe\">\n",
              "  <thead>\n",
              "    <tr style=\"text-align: right;\">\n",
              "      <th></th>\n",
              "      <th>cpf</th>\n",
              "      <th>flagDividaDauCresceu180Dias</th>\n",
              "      <th>valorTotalDividasDau</th>\n",
              "    </tr>\n",
              "  </thead>\n",
              "  <tbody>\n",
              "    <tr>\n",
              "      <th>0</th>\n",
              "      <td>0</td>\n",
              "      <td>0</td>\n",
              "      <td>0</td>\n",
              "    </tr>\n",
              "  </tbody>\n",
              "</table>\n",
              "</div>"
            ],
            "text/plain": [
              "   cpf  flagDividaDauCresceu180Dias  valorTotalDividasDau\n",
              "0    0                            0                     0"
            ]
          },
          "execution_count": 103,
          "metadata": {},
          "output_type": "execute_result"
        }
      ],
      "source": [
        "countMissingValues(endividamento).toPandas()"
      ]
    },
    {
      "cell_type": "markdown",
      "id": "e65321fd-e0b5-4a01-84e9-5fcbe8fde027",
      "metadata": {
        "id": "e65321fd-e0b5-4a01-84e9-5fcbe8fde027"
      },
      "source": [
        "### Salvando dados"
      ]
    },
    {
      "cell_type": "code",
      "execution_count": null,
      "id": "90668673-d635-489b-accb-16cc015a2f6f",
      "metadata": {
        "id": "90668673-d635-489b-accb-16cc015a2f6f",
        "outputId": "f97c560b-229d-4dcc-e11f-71a4a4fba977",
        "tags": []
      },
      "outputs": [
        {
          "name": "stderr",
          "output_type": "stream",
          "text": [
            "                                                                                \r"
          ]
        }
      ],
      "source": [
        "DATASET_NAME = 'endividamento.parquet'\n",
        "PATH = os.path.join(oculto, DATASET_NAME)\n",
        "\n",
        "endividamento.write.mode(\"overwrite\").parquet(PATH)"
      ]
    },
    {
      "cell_type": "markdown",
      "id": "cf286158-e0e9-42af-9406-cd2e4e55a4bb",
      "metadata": {
        "id": "cf286158-e0e9-42af-9406-cd2e4e55a4bb",
        "jp-MarkdownHeadingCollapsed": true,
        "tags": []
      },
      "source": [
        "## Doação Política"
      ]
    },
    {
      "cell_type": "code",
      "execution_count": null,
      "id": "d9e87b1b-7633-4401-b907-0021ddad4093",
      "metadata": {
        "id": "d9e87b1b-7633-4401-b907-0021ddad4093",
        "tags": []
      },
      "outputs": [],
      "source": [
        "cols = [\"cpf\", \"quantidadeCandidatosApoiados\",\n",
        "        \"quantidadeEleicoesComoDoador\",\n",
        "        \"valorMedioDoado\", \"valorTotalDoado\",\n",
        "        \"quantidadeDoacoesDescricaoNaoEspecificada\",\n",
        "        \"valorMaximoDoado\",\n",
        "        \"quantidadeDoacoesPoliticas\",\n",
        "        \"flagContratoPublicoBeneficiarioProgramasSociais\",\n",
        "        \"flagLaranja\"]"
      ]
    },
    {
      "cell_type": "code",
      "execution_count": null,
      "id": "e7624ef4-9538-45f0-8559-6a4ec45458ba",
      "metadata": {
        "id": "e7624ef4-9538-45f0-8559-6a4ec45458ba",
        "outputId": "859a0098-a987-4bf9-bddb-62dd77998bbc",
        "tags": []
      },
      "outputs": [],
      "source": [
        "doacao_politica = (\n",
        "    oculto\n",
        "    .join(pessoa_cadastrais, how='right', on='cpf')\n",
        "    .select(\"cpf\", \"quantidadeCandidatosApoiados\",\n",
        "            \"quantidadeEleicoesComoDoador\",\n",
        "            \"valorMedioDoado\", \"valorTotalDoado\",\n",
        "            \"quantidadeDoacoesDescricaoNaoEspecificada\",\n",
        "            \"valorMaximoDoado\", \"quantidadeDoacoesPoliticas\",\n",
        "            sf.col(\"flagContratoPublicoBeneficiarioProgramasSociais\").cast(\"int\").alias(\"flagContratoPublicoBeneficiarioProgramasSociais\"),\n",
        "            sf.col(\"flagLaranja\").cast(\"int\").alias(\"flagLaranja\")\n",
        "           )\n",
        ")"
      ]
    },
    {
      "cell_type": "code",
      "execution_count": null,
      "id": "4925480e-3980-40fc-8a02-e6f6e085f72a",
      "metadata": {
        "id": "4925480e-3980-40fc-8a02-e6f6e085f72a",
        "outputId": "6eadb57a-ed7e-4270-e574-759ef62ae15f",
        "tags": []
      },
      "outputs": [
        {
          "name": "stderr",
          "output_type": "stream",
          "text": [
            "                                                                                \r"
          ]
        },
        {
          "data": {
            "text/html": [
              "<div>\n",
              "<style scoped>\n",
              "    .dataframe tbody tr th:only-of-type {\n",
              "        vertical-align: middle;\n",
              "    }\n",
              "\n",
              "    .dataframe tbody tr th {\n",
              "        vertical-align: top;\n",
              "    }\n",
              "\n",
              "    .dataframe thead th {\n",
              "        text-align: right;\n",
              "    }\n",
              "</style>\n",
              "<table border=\"1\" class=\"dataframe\">\n",
              "  <thead>\n",
              "    <tr style=\"text-align: right;\">\n",
              "      <th></th>\n",
              "      <th>cpf</th>\n",
              "      <th>quantidadeCandidatosApoiados</th>\n",
              "      <th>quantidadeEleicoesComoDoador</th>\n",
              "      <th>valorMedioDoado</th>\n",
              "      <th>valorTotalDoado</th>\n",
              "      <th>quantidadeDoacoesDescricaoNaoEspecificada</th>\n",
              "      <th>valorMaximoDoado</th>\n",
              "      <th>quantidadeDoacoesPoliticas</th>\n",
              "      <th>flagContratoPublicoBeneficiarioProgramasSociais</th>\n",
              "      <th>flagLaranja</th>\n",
              "    </tr>\n",
              "  </thead>\n",
              "  <tbody>\n",
              "    <tr>\n",
              "      <th>0</th>\n",
              "      <td>0</td>\n",
              "      <td>114713310</td>\n",
              "      <td>114713310</td>\n",
              "      <td>114713310</td>\n",
              "      <td>114713310</td>\n",
              "      <td>114713310</td>\n",
              "      <td>114713310</td>\n",
              "      <td>114713310</td>\n",
              "      <td>114713310</td>\n",
              "      <td>114713310</td>\n",
              "    </tr>\n",
              "  </tbody>\n",
              "</table>\n",
              "</div>"
            ],
            "text/plain": [
              "   cpf  quantidadeCandidatosApoiados  quantidadeEleicoesComoDoador  valorMedioDoado  valorTotalDoado  quantidadeDoacoesDescricaoNaoEspecificada  valorMaximoDoado  quantidadeDoacoesPoliticas  flagContratoPublicoBeneficiarioProgramasSociais  flagLaranja\n",
              "0    0                     114713310                     114713310        114713310        114713310                                  114713310         114713310                   114713310                                        114713310    114713310"
            ]
          },
          "execution_count": 107,
          "metadata": {},
          "output_type": "execute_result"
        }
      ],
      "source": [
        "countMissingValues(doacao_politica).toPandas()"
      ]
    },
    {
      "cell_type": "code",
      "execution_count": null,
      "id": "aa1a3c6e-0e16-4782-b20e-5c03c2b4d99d",
      "metadata": {
        "id": "aa1a3c6e-0e16-4782-b20e-5c03c2b4d99d",
        "tags": []
      },
      "outputs": [],
      "source": [
        "doacao_politica = doacao_politica.fillna(0)"
      ]
    },
    {
      "cell_type": "markdown",
      "id": "2a45815f-874e-4546-a026-1bb97fb126f8",
      "metadata": {
        "id": "2a45815f-874e-4546-a026-1bb97fb126f8"
      },
      "source": [
        "### Salvando dados"
      ]
    },
    {
      "cell_type": "code",
      "execution_count": null,
      "id": "a80a4fae-abc9-4e7f-a0b0-df0057e7b0e6",
      "metadata": {
        "id": "a80a4fae-abc9-4e7f-a0b0-df0057e7b0e6",
        "outputId": "b54ffaba-2a22-4523-f652-9588ac9453d3",
        "tags": []
      },
      "outputs": [
        {
          "name": "stderr",
          "output_type": "stream",
          "text": [
            "                                                                                \r"
          ]
        }
      ],
      "source": [
        "DATASET_NAME = 'doacao_politica.parquet'\n",
        "PATH = os.path.join(oculto, DATASET_NAME)\n",
        "\n",
        "doacao_politica.write.mode(\"overwrite\").parquet(PATH)"
      ]
    },
    {
      "cell_type": "markdown",
      "id": "59ca8690-0b12-479a-a0e0-5880f97d3712",
      "metadata": {
        "id": "59ca8690-0b12-479a-a0e0-5880f97d3712",
        "jp-MarkdownHeadingCollapsed": true,
        "tags": []
      },
      "source": [
        "## Telefone"
      ]
    },
    {
      "cell_type": "code",
      "execution_count": null,
      "id": "252cbdfc-63ad-41dd-bacb-b532b6039183",
      "metadata": {
        "id": "252cbdfc-63ad-41dd-bacb-b532b6039183",
        "outputId": "5e343067-4a81-449c-97bc-1585e521027d",
        "tags": []
      },
      "outputs": [],
      "source": [
        "pessoa_telefone = (\n",
        "    oculto\n",
        "    .join(oculto, how='left', on='id')\n",
        "    .select(\"cpf\", \"numero\")\n",
        ")"
      ]
    },
    {
      "cell_type": "code",
      "execution_count": null,
      "id": "b9613f83-f9bf-4096-9add-a976f8c45e08",
      "metadata": {
        "id": "b9613f83-f9bf-4096-9add-a976f8c45e08",
        "tags": []
      },
      "outputs": [],
      "source": [
        "dddAddr = lambda ddd, uf: 1 if ddd in UF_DDD.get(uf, []) else 0"
      ]
    },
    {
      "cell_type": "code",
      "execution_count": null,
      "id": "7d2d1c0c-4aec-49b4-ad0d-144cf2a85088",
      "metadata": {
        "id": "7d2d1c0c-4aec-49b4-ad0d-144cf2a85088",
        "outputId": "c32b38d3-f37f-45f7-ae7f-f59e23ebd168",
        "tags": []
      },
      "outputs": [
        {
          "name": "stdout",
          "output_type": "stream",
          "text": [
            "root\n",
            " |-- cpf: string (nullable = true)\n",
            " |-- numero: string (nullable = true)\n",
            "\n"
          ]
        }
      ],
      "source": [
        "pessoa_telefone.printSchema()"
      ]
    },
    {
      "cell_type": "code",
      "execution_count": null,
      "id": "e2b4fcd5-eb3f-4b16-ac5e-ded915ee000b",
      "metadata": {
        "id": "e2b4fcd5-eb3f-4b16-ac5e-ded915ee000b",
        "outputId": "60b6d8d9-9780-444b-a738-e31cd1b6ce72",
        "tags": []
      },
      "outputs": [
        {
          "name": "stdout",
          "output_type": "stream",
          "text": [
            "root\n",
            " |-- cd_cpf: string (nullable = true)\n",
            " |-- nm_logradouro: string (nullable = true)\n",
            " |-- nu_logradouro: string (nullable = true)\n",
            " |-- nm_bairro: string (nullable = true)\n",
            " |-- cd_cep: string (nullable = true)\n",
            " |-- nm_municipio: string (nullable = true)\n",
            " |-- sg_uf: string (nullable = true)\n",
            " |-- cd_latitude: double (nullable = true)\n",
            " |-- cd_longitude: double (nullable = true)\n",
            "\n"
          ]
        }
      ],
      "source": [
        "endereco_simm.printSchema()"
      ]
    },
    {
      "cell_type": "code",
      "execution_count": null,
      "id": "e8ea6d96-fd43-4504-8167-ccf677079daf",
      "metadata": {
        "id": "e8ea6d96-fd43-4504-8167-ccf677079daf",
        "tags": []
      },
      "outputs": [],
      "source": [
        "telefone = (\n",
        "    pessoa_telefone\n",
        "    .join(\n",
        "        endereco_simm.select(\n",
        "            sf.col(\"cd_cpf\").alias(\"cpf\"),\n",
        "            \"sg_uf\"\n",
        "        ), on=\"cpf\", how=\"inner\")\n",
        "    .withColumn(\"ddd\", sf.col(\"numero\").substr(1, 2).cast(\"int\"))\n",
        "    .withColumn(\"flagDDDConsistenteEndereco\", sf.udf(dddAddr, IntegerType())(\"ddd\", \"sg_uf\"))\n",
        "    .groupBy(\"cpf\")\n",
        "    .agg(\n",
        "        sf.count(\"*\").alias(\"quantidadeTelefones\"),\n",
        "        sf.sum(\"flagDDDConsistenteEndereco\").alias(\"quantidadeTelefonesEnderecoConsistente\")\n",
        "    )\n",
        "    .join(pessoa_cadastrais.select('cpf'), how='right', on='cpf')\n",
        "    .fillna(0)\n",
        ")"
      ]
    },
    {
      "cell_type": "code",
      "execution_count": null,
      "id": "4d5c8af4-6168-4bc5-a9b7-c27ad8a35b33",
      "metadata": {
        "id": "4d5c8af4-6168-4bc5-a9b7-c27ad8a35b33",
        "outputId": "89ccb9c1-b5f6-4b80-c7f1-02469e80cd2d",
        "tags": []
      },
      "outputs": [
        {
          "name": "stderr",
          "output_type": "stream",
          "text": [
            "                                                                                ]]\r"
          ]
        },
        {
          "data": {
            "text/html": [
              "<div>\n",
              "<style scoped>\n",
              "    .dataframe tbody tr th:only-of-type {\n",
              "        vertical-align: middle;\n",
              "    }\n",
              "\n",
              "    .dataframe tbody tr th {\n",
              "        vertical-align: top;\n",
              "    }\n",
              "\n",
              "    .dataframe thead th {\n",
              "        text-align: right;\n",
              "    }\n",
              "</style>\n",
              "<table border=\"1\" class=\"dataframe\">\n",
              "  <thead>\n",
              "    <tr style=\"text-align: right;\">\n",
              "      <th></th>\n",
              "      <th>cpf</th>\n",
              "      <th>quantidadeTelefones</th>\n",
              "      <th>quantidadeTelefonesEnderecoConsistente</th>\n",
              "    </tr>\n",
              "  </thead>\n",
              "  <tbody>\n",
              "    <tr>\n",
              "      <th>0</th>\n",
              "      <td>0</td>\n",
              "      <td>0</td>\n",
              "      <td>0</td>\n",
              "    </tr>\n",
              "  </tbody>\n",
              "</table>\n",
              "</div>"
            ],
            "text/plain": [
              "   cpf  quantidadeTelefones  quantidadeTelefonesEnderecoConsistente\n",
              "0    0                    0                                       0"
            ]
          },
          "execution_count": 124,
          "metadata": {},
          "output_type": "execute_result"
        }
      ],
      "source": [
        "countMissingValues(telefone).toPandas()"
      ]
    },
    {
      "cell_type": "code",
      "execution_count": null,
      "id": "de65486e-9487-4079-a722-6ec9d7b457e4",
      "metadata": {
        "id": "de65486e-9487-4079-a722-6ec9d7b457e4",
        "outputId": "d01b6cc6-7d7f-4410-d7cc-ceb4b3308707",
        "tags": []
      },
      "outputs": [
        {
          "name": "stdout",
          "output_type": "stream",
          "text": [
            "root\n",
            " |-- cpf: string (nullable = true)\n",
            " |-- quantidadeTelefones: long (nullable = true)\n",
            " |-- quantidadeTelefonesEnderecoConsistente: long (nullable = true)\n",
            "\n"
          ]
        }
      ],
      "source": [
        "telefone.printSchema()"
      ]
    },
    {
      "cell_type": "markdown",
      "id": "8f141498-48ff-4c94-97ca-ea53259d0462",
      "metadata": {
        "id": "8f141498-48ff-4c94-97ca-ea53259d0462"
      },
      "source": [
        "### Salvando dados"
      ]
    },
    {
      "cell_type": "code",
      "execution_count": null,
      "id": "74dc605e-0ec7-46b2-8ceb-33cf359572ee",
      "metadata": {
        "id": "74dc605e-0ec7-46b2-8ceb-33cf359572ee",
        "outputId": "9b864f2f-5640-44db-c888-75bbde1e66f2",
        "tags": []
      },
      "outputs": [
        {
          "name": "stderr",
          "output_type": "stream",
          "text": [
            "                                                                                ]]\r"
          ]
        }
      ],
      "source": [
        "DATASET_NAME = 'telefone.parquet'\n",
        "PATH = os.path.join(oculto, 'data/')\n",
        "\n",
        "telefone.write.mode(\"overwrite\").parquet(os.path.join(PATH, DATASET_NAME))"
      ]
    },
    {
      "cell_type": "markdown",
      "id": "cd142634-f2b1-499d-905d-bbd9b4b10099",
      "metadata": {
        "id": "cd142634-f2b1-499d-905d-bbd9b4b10099",
        "jp-MarkdownHeadingCollapsed": true,
        "tags": []
      },
      "source": [
        "## Email"
      ]
    },
    {
      "cell_type": "code",
      "execution_count": null,
      "id": "bf877f06-2949-471f-ac73-4cef4671d5ed",
      "metadata": {
        "id": "bf877f06-2949-471f-ac73-4cef4671d5ed",
        "tags": []
      },
      "outputs": [],
      "source": [
        "COMMON_PROVIDERS = [\"GMAIL\", \"OUTLOOK\", \"UOL\", \"YAHOO\", \"HOTMAIL\", \"ICLOUD\"]"
      ]
    },
    {
      "cell_type": "code",
      "execution_count": null,
      "id": "005de845-17cc-4cd4-affd-8e6417f8302d",
      "metadata": {
        "id": "005de845-17cc-4cd4-affd-8e6417f8302d",
        "outputId": "59da1093-7834-4970-a5ba-ae473d49721d",
        "tags": []
      },
      "outputs": [],
      "source": [
        "pessoa_email = (\n",
        "    oculto\n",
        "    .join(oculto, how='inner', on='id')\n",
        "    .join(pessoa_cadastrais, how='inner', on='cpf')\n",
        "    .select(\"cpf\", \"nome\", \"email\")\n",
        "    .withColumn(\"provedorEmail\", sf.regexp_extract(\"email\", r\"@([\\w]+)\\.\", 1))\n",
        "    # .withColumn(\"flagEmailCorporativo\", sf.when(sf.col(\"provedorEmail\").isin(COMMON_PROVIDERS), 0).otherwise(1))\n",
        "    .withColumn(\"flagEmailPadraoSuspeito\",\n",
        "                sf.when(sf.col(\"email\").rlike(r\".*(@.*@).*\"), 1) # mais de um \"@\"\n",
        "                .when(sf.col(\"email\").rlike(r\".*@(fake_domain|temp-mail|unknown).*\"), 1) # dominios invalidos ou genericos\n",
        "                .when(sf.col(\"email\").rlike(r\".*[0-9]{4,}.*\"), 1) #n ome do usuario com 4 ou mais numeros\n",
        "                .when(sf.col(\"email\").rlike(r\".*[^a-zA-Z0-9._%+-]{2,}.*\"), 1)  # muitos caracteres especiais\n",
        "                .when(sf.col(\"email\").rlike(r\".*@.*\\.(xyz|fake|test|null|unknown)$\"), 1)  # extensões suspeitas\n",
        "                .when(sf.col(\"email\").rlike(r\"^[^@]{1,2}@.*\"), 1)  # usuário muito curto\n",
        "                .when(sf.col(\"email\").rlike(r\".*@.{1,2}\\..*\"), 1)  # domínio muito curto\n",
        "                .when(sf.col(\"email\").rlike(r\".*@((gmail|yahoo|outlook|hotmail)[-].*|.*\\.biz)$\"), 1)  # público imitando corporativo\n",
        "                .when(sf.col(\"email\").rlike(r\".*([a-zA-Z0-9])\\1{2,}.*\"), 1)  # repetição de caracteres\n",
        "                .when(sf.col(\"email\").rlike(r\".*\\d{5,}.*\"), 1)  # sequência numérica longa\n",
        "                .when(sf.col(\"email\").rlike(r\".*@.*[^a-zA-Z0-9.-].*\\..*\"), 1)  # caracteres inválidos no domínio\n",
        "                .when(sf.col(\"email\").rlike(r\"^(admin|support|contact|info|help)@.*\"), 1)  # genéricos suspeitos\n",
        "                .when(sf.col(\"email\").rlike(r\".*@((temp-mail|10minutemail).*)\"), 1)  # emails temporários\n",
        "                .when(sf.col(\"email\").rlike(r\".*@mail\\..*\"), 1)  # Subdomínios genéricos\n",
        "                .otherwise(0)\n",
        "               )\n",
        "    .withColumn(\"usuario\", sf.split(sf.col(\"email\"), '@')[0])\n",
        "    .withColumn(\"levenshteinScore\",\n",
        "                sf.expr(\"\"\"1 - (levenshtein(nome, usuario) / greatest(length(nome), length(usuario)))\"\"\")\n",
        "               )\n",
        "    .withColumn(\"flagEmailNaoConsistenteNome\",\n",
        "                sf.when(\n",
        "                    sf.expr(\"\"\"\n",
        "                    1 - (levenshtein(nome, usuario) / greatest(length(nome), length(usuario)))\"\"\") < 0.3, 1\n",
        "                ).otherwise(0)\n",
        "               )\n",
        ")"
      ]
    },
    {
      "cell_type": "code",
      "execution_count": null,
      "id": "cea975a9-df50-4ad0-a7c9-dd6285045fa3",
      "metadata": {
        "id": "cea975a9-df50-4ad0-a7c9-dd6285045fa3",
        "tags": []
      },
      "outputs": [],
      "source": [
        "email = (\n",
        "    pessoa_email\n",
        "    .groupBy(\"cpf\")\n",
        "    .agg(\n",
        "        sf.count(\"*\").alias(\"quantidadeEmails\"),\n",
        "        sf.count_distinct(sf.col(\"provedorEmail\")).alias(\"quantidadeDiferentesprovedoresEmail\"),\n",
        "        # sf.sum(\"flagEmailCorporativo\").alias(\"quantidadeEmailCorporativo\"),\n",
        "        sf.sum(\"flagEmailPadraoSuspeito\").alias(\"quantidadeEmailPadraoSuspeito\"),\n",
        "        sf.sum(\"flagEmailNaoConsistenteNome\").alias(\"quantidadeEmailNaoConsistenteNomeTitular\")\n",
        "    )\n",
        "    .join(pessoa_cadastrais.select('cpf'), how='right', on='cpf')\n",
        "    .fillna(0)\n",
        ")"
      ]
    },
    {
      "cell_type": "code",
      "execution_count": null,
      "id": "8782430b-e13b-4af8-ad26-0658090b87be",
      "metadata": {
        "id": "8782430b-e13b-4af8-ad26-0658090b87be",
        "outputId": "5520a5f7-1ddd-4741-bf9d-6fee5b6a401e",
        "tags": []
      },
      "outputs": [],
      "source": [
        "pessoa_email.filter(sf.col(\"flagEmailNaoConsistenteNome\") == 1).limit(5).toPandas()"
      ]
    },
    {
      "cell_type": "code",
      "execution_count": null,
      "id": "06899fed-1265-435d-8150-ba43d1e38e0c",
      "metadata": {
        "id": "06899fed-1265-435d-8150-ba43d1e38e0c",
        "tags": []
      },
      "outputs": [],
      "source": [
        "email.cache().count()"
      ]
    },
    {
      "cell_type": "markdown",
      "id": "2a55082d-d9fb-46ba-9d36-9780381bb4ba",
      "metadata": {
        "id": "2a55082d-d9fb-46ba-9d36-9780381bb4ba"
      },
      "source": [
        "### Salvando dados"
      ]
    },
    {
      "cell_type": "code",
      "execution_count": null,
      "id": "66e88f9a-b21b-4245-a832-6c38c9028572",
      "metadata": {
        "id": "66e88f9a-b21b-4245-a832-6c38c9028572",
        "outputId": "1d54a24f-c242-47ce-f03b-906bf86768e7",
        "tags": []
      },
      "outputs": [
        {
          "name": "stderr",
          "output_type": "stream",
          "text": [
            "                                                                                \r"
          ]
        }
      ],
      "source": [
        "DATASET_NAME = 'email.parquet'\n",
        "PATH = os.path.join(oculto, DATASET_NAME)\n",
        "\n",
        "email.write.mode(\"overwrite\").parquet(PATH)"
      ]
    },
    {
      "cell_type": "code",
      "execution_count": null,
      "id": "b2ffecf2-1f90-46b2-8dba-5e7a96a57812",
      "metadata": {
        "id": "b2ffecf2-1f90-46b2-8dba-5e7a96a57812",
        "outputId": "52f29bc6-157d-4d5e-a1f4-c97659f1b49c",
        "tags": []
      },
      "outputs": [
        {
          "name": "stderr",
          "output_type": "stream",
          "text": [
            "                                                                                \r"
          ]
        },
        {
          "name": "stdout",
          "output_type": "stream",
          "text": [
            "CPU times: user 722 ms, sys: 210 ms, total: 932 ms\n",
            "Wall time: 9min 11s\n"
          ]
        }
      ],
      "source": [
        "%%time\n",
        "oculto_RAW = oculto + \"RAW/\"\n",
        "DATASET_NAME = 'PERFIL-RAW.parquet'\n",
        "PATH = os.path.join(oculto_RAW, DATASET_NAME)\n",
        "\n",
        "df_laranja.write.mode(\"overwrite\").parquet(PATH)"
      ]
    }
  ],
  "metadata": {
    "colab": {
      "provenance": []
    },
    "kernelspec": {
      "display_name": "PySpark",
      "language": "python",
      "name": "pyspark"
    },
    "language_info": {
      "codemirror_mode": {
        "name": "ipython",
        "version": 3
      },
      "file_extension": ".py",
      "mimetype": "text/x-python",
      "name": "python",
      "nbconvert_exporter": "python",
      "pygments_lexer": "ipython3",
      "version": "3.11.8"
    }
  },
  "nbformat": 4,
  "nbformat_minor": 5
}
