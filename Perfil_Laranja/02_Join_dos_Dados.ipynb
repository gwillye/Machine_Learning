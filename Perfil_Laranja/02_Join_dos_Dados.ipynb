{
  "cells": [
    {
      "cell_type": "markdown",
      "id": "86144a84-f4cf-4221-8a67-0323b67c66ec",
      "metadata": {
        "id": "86144a84-f4cf-4221-8a67-0323b67c66ec",
        "tags": []
      },
      "source": [
        "# Importando dependencias"
      ]
    },
    {
      "cell_type": "code",
      "execution_count": null,
      "id": "adf8d67b-023f-4735-82de-659e2e4ee8ff",
      "metadata": {
        "id": "adf8d67b-023f-4735-82de-659e2e4ee8ff",
        "tags": []
      },
      "outputs": [],
      "source": [
        "import warnings\n",
        "warnings.filterwarnings(\"ignore\")"
      ]
    },
    {
      "cell_type": "markdown",
      "id": "3fb98833-1be3-4efa-869c-b00edcdd2ab1",
      "metadata": {
        "id": "3fb98833-1be3-4efa-869c-b00edcdd2ab1",
        "tags": []
      },
      "source": [
        "# Utils"
      ]
    },
    {
      "cell_type": "code",
      "execution_count": null,
      "id": "e2b9f61f-8dec-4c2e-9282-2eb0a0b804a6",
      "metadata": {
        "id": "e2b9f61f-8dec-4c2e-9282-2eb0a0b804a6",
        "tags": []
      },
      "outputs": [],
      "source": [
        "BASE_GS = \"gs://oculto/loss_prevention/perfil_laranja/data/\""
      ]
    },
    {
      "cell_type": "markdown",
      "id": "01f01935-447b-46db-ba72-7d9ca30743a4",
      "metadata": {
        "id": "01f01935-447b-46db-ba72-7d9ca30743a4",
        "tags": []
      },
      "source": [
        "# Pré-Tratamento dos Dados"
      ]
    },
    {
      "cell_type": "code",
      "execution_count": null,
      "id": "3de14c8d-43a4-492c-8b1b-cc19c3450c2d",
      "metadata": {
        "id": "3de14c8d-43a4-492c-8b1b-cc19c3450c2d",
        "outputId": "42dab326-33c8-4a37-bba9-dd8555787ab2",
        "tags": []
      },
      "outputs": [
        {
          "name": "stderr",
          "output_type": "stream",
          "text": [
            "                                                                                \r"
          ]
        }
      ],
      "source": [
        "arquivos = [\n",
        "\"bases de dados foram ocultadas para preservar a privacidade dos dados\",\n",
        "]\n",
        "\n",
        "df_final = spark.read.parquet(arquivos[0])\n",
        "\n",
        "for arquivo in arquivos[1:]:\n",
        "    df_temp = spark.read.parquet(arquivo)\n",
        "    df_final = df_final.join(df_temp, on=\"cpf\", how=\"left\")\n",
        "\n",
        "df_final = df_final.fillna(0)\n",
        "\n",
        "df_final.write.mode(\"overwrite\").parquet(\"gs://oculto/loss_prevention/perfil_laranja/data/perfil_laranja_unificado.parquet\")\n"
      ]
    },
    {
      "cell_type": "code",
      "execution_count": null,
      "id": "a9abe5de-5add-4ff7-a417-2ee706b164bf",
      "metadata": {
        "id": "a9abe5de-5add-4ff7-a417-2ee706b164bf",
        "outputId": "cdf1b2d0-3e6a-499d-bb01-c9e55b74f6c1",
        "tags": []
      },
      "outputs": [
        {
          "name": "stderr",
          "output_type": "stream",
          "text": [
            "                                                                                \r"
          ]
        },
        {
          "data": {
            "text/html": [
              "<div>\n",
              "<style scoped>\n",
              "    .dataframe tbody tr th:only-of-type {\n",
              "        vertical-align: middle;\n",
              "    }\n",
              "\n",
              "    .dataframe tbody tr th {\n",
              "        vertical-align: top;\n",
              "    }\n",
              "\n",
              "    .dataframe thead th {\n",
              "        text-align: right;\n",
              "    }\n",
              "</style>\n",
              "<table border=\"1\" class=\"dataframe\">\n",
              "  <thead>\n",
              "    <tr style=\"text-align: right;\">\n",
              "      <th></th>\n",
              "      <th>cpf</th>\n",
              "      <th>flagBeneficiarioBPC</th>\n",
              "      <th>flagVulneravelBPC</th>\n",
              "      <th>flagBeneficiarioSeguroDefeso</th>\n",
              "      <th>flagBeneficiarioGarantiaSafra</th>\n",
              "      <th>flagBeneficiarioNovoBolsaFamilia</th>\n",
              "      <th>flagBeneficiarioProgramasSociais</th>\n",
              "      <th>flagAltaQualificacaoBeneficiarioProgramasSociais</th>\n",
              "      <th>nome</th>\n",
              "      <th>idade</th>\n",
              "      <th>...</th>\n",
              "      <th>flagSocioDuplaId</th>\n",
              "      <th>quantidadeMediaEmpresasMesmoCnaeAbertas12Meses</th>\n",
              "      <th>flagSocioEmpresasGrandePorte</th>\n",
              "      <th>flagSocioEmpresasEPP</th>\n",
              "      <th>flagSocioBeneficiarioProgramaSocial</th>\n",
              "      <th>flagSocioClasseEmpresaFachadaALTA</th>\n",
              "      <th>flagSocioClasseEmpresaFachadaMUITOALTA</th>\n",
              "      <th>flagSocioClasseEmpresaFachadaMEDIO</th>\n",
              "      <th>quantidadeTelefones</th>\n",
              "      <th>quantidadeTelefonesEnderecoConsistente</th>\n",
              "    </tr>\n",
              "  </thead>\n",
              "  <tbody>\n",
              "    <tr>\n",
              "      <th>0</th>\n",
              "      <td>00000004340</td>\n",
              "      <td>0</td>\n",
              "      <td>0</td>\n",
              "      <td>0</td>\n",
              "      <td>0</td>\n",
              "      <td>0</td>\n",
              "      <td>0</td>\n",
              "      <td>0</td>\n",
              "      <td>ANA PAULA FERREIRA DO NASCIMENTO BRAGA</td>\n",
              "      <td>42</td>\n",
              "      <td>...</td>\n",
              "      <td>0</td>\n",
              "      <td>0.0</td>\n",
              "      <td>0</td>\n",
              "      <td>0</td>\n",
              "      <td>0</td>\n",
              "      <td>0</td>\n",
              "      <td>0</td>\n",
              "      <td>0</td>\n",
              "      <td>3</td>\n",
              "      <td>3</td>\n",
              "    </tr>\n",
              "    <tr>\n",
              "      <th>1</th>\n",
              "      <td>00000225274</td>\n",
              "      <td>0</td>\n",
              "      <td>0</td>\n",
              "      <td>0</td>\n",
              "      <td>0</td>\n",
              "      <td>1</td>\n",
              "      <td>1</td>\n",
              "      <td>0</td>\n",
              "      <td>MARCIA REGINA RODRIGHERI ANTUNES</td>\n",
              "      <td>39</td>\n",
              "      <td>...</td>\n",
              "      <td>0</td>\n",
              "      <td>0.0</td>\n",
              "      <td>0</td>\n",
              "      <td>0</td>\n",
              "      <td>0</td>\n",
              "      <td>0</td>\n",
              "      <td>0</td>\n",
              "      <td>0</td>\n",
              "      <td>1</td>\n",
              "      <td>0</td>\n",
              "    </tr>\n",
              "    <tr>\n",
              "      <th>2</th>\n",
              "      <td>00000427225</td>\n",
              "      <td>0</td>\n",
              "      <td>0</td>\n",
              "      <td>0</td>\n",
              "      <td>0</td>\n",
              "      <td>0</td>\n",
              "      <td>0</td>\n",
              "      <td>0</td>\n",
              "      <td>GILBERTO RODRIGUES GOMES</td>\n",
              "      <td>57</td>\n",
              "      <td>...</td>\n",
              "      <td>0</td>\n",
              "      <td>0.0</td>\n",
              "      <td>0</td>\n",
              "      <td>0</td>\n",
              "      <td>0</td>\n",
              "      <td>0</td>\n",
              "      <td>0</td>\n",
              "      <td>0</td>\n",
              "      <td>4</td>\n",
              "      <td>3</td>\n",
              "    </tr>\n",
              "    <tr>\n",
              "      <th>3</th>\n",
              "      <td>00000079197</td>\n",
              "      <td>0</td>\n",
              "      <td>0</td>\n",
              "      <td>0</td>\n",
              "      <td>0</td>\n",
              "      <td>1</td>\n",
              "      <td>1</td>\n",
              "      <td>0</td>\n",
              "      <td>GERCILEIDE NOGUEIRA COSTA</td>\n",
              "      <td>44</td>\n",
              "      <td>...</td>\n",
              "      <td>0</td>\n",
              "      <td>0.0</td>\n",
              "      <td>0</td>\n",
              "      <td>0</td>\n",
              "      <td>0</td>\n",
              "      <td>0</td>\n",
              "      <td>0</td>\n",
              "      <td>0</td>\n",
              "      <td>2</td>\n",
              "      <td>0</td>\n",
              "    </tr>\n",
              "    <tr>\n",
              "      <th>4</th>\n",
              "      <td>00000322040</td>\n",
              "      <td>0</td>\n",
              "      <td>0</td>\n",
              "      <td>0</td>\n",
              "      <td>0</td>\n",
              "      <td>0</td>\n",
              "      <td>0</td>\n",
              "      <td>0</td>\n",
              "      <td>ZAIRA LUIZA DA COSTA TREVIZOL</td>\n",
              "      <td>64</td>\n",
              "      <td>...</td>\n",
              "      <td>0</td>\n",
              "      <td>0.0</td>\n",
              "      <td>0</td>\n",
              "      <td>0</td>\n",
              "      <td>0</td>\n",
              "      <td>0</td>\n",
              "      <td>0</td>\n",
              "      <td>0</td>\n",
              "      <td>2</td>\n",
              "      <td>2</td>\n",
              "    </tr>\n",
              "  </tbody>\n",
              "</table>\n",
              "<p>5 rows × 126 columns</p>\n",
              "</div>"
            ],
            "text/plain": [
              "           cpf  flagBeneficiarioBPC  flagVulneravelBPC  \\\n",
              "0  00000004340                    0                  0   \n",
              "1  00000225274                    0                  0   \n",
              "2  00000427225                    0                  0   \n",
              "3  00000079197                    0                  0   \n",
              "4  00000322040                    0                  0   \n",
              "\n",
              "   flagBeneficiarioSeguroDefeso  flagBeneficiarioGarantiaSafra  \\\n",
              "0                             0                              0   \n",
              "1                             0                              0   \n",
              "2                             0                              0   \n",
              "3                             0                              0   \n",
              "4                             0                              0   \n",
              "\n",
              "   flagBeneficiarioNovoBolsaFamilia  flagBeneficiarioProgramasSociais  \\\n",
              "0                                 0                                 0   \n",
              "1                                 1                                 1   \n",
              "2                                 0                                 0   \n",
              "3                                 1                                 1   \n",
              "4                                 0                                 0   \n",
              "\n",
              "   flagAltaQualificacaoBeneficiarioProgramasSociais  \\\n",
              "0                                                 0   \n",
              "1                                                 0   \n",
              "2                                                 0   \n",
              "3                                                 0   \n",
              "4                                                 0   \n",
              "\n",
              "                                     nome  idade  ... flagSocioDuplaId  \\\n",
              "0  ANA PAULA FERREIRA DO NASCIMENTO BRAGA     42  ...                0   \n",
              "1        MARCIA REGINA RODRIGHERI ANTUNES     39  ...                0   \n",
              "2                GILBERTO RODRIGUES GOMES     57  ...                0   \n",
              "3               GERCILEIDE NOGUEIRA COSTA     44  ...                0   \n",
              "4           ZAIRA LUIZA DA COSTA TREVIZOL     64  ...                0   \n",
              "\n",
              "   quantidadeMediaEmpresasMesmoCnaeAbertas12Meses  \\\n",
              "0                                             0.0   \n",
              "1                                             0.0   \n",
              "2                                             0.0   \n",
              "3                                             0.0   \n",
              "4                                             0.0   \n",
              "\n",
              "   flagSocioEmpresasGrandePorte  flagSocioEmpresasEPP  \\\n",
              "0                             0                     0   \n",
              "1                             0                     0   \n",
              "2                             0                     0   \n",
              "3                             0                     0   \n",
              "4                             0                     0   \n",
              "\n",
              "   flagSocioBeneficiarioProgramaSocial  flagSocioClasseEmpresaFachadaALTA  \\\n",
              "0                                    0                                  0   \n",
              "1                                    0                                  0   \n",
              "2                                    0                                  0   \n",
              "3                                    0                                  0   \n",
              "4                                    0                                  0   \n",
              "\n",
              "   flagSocioClasseEmpresaFachadaMUITOALTA  flagSocioClasseEmpresaFachadaMEDIO  \\\n",
              "0                                       0                                   0   \n",
              "1                                       0                                   0   \n",
              "2                                       0                                   0   \n",
              "3                                       0                                   0   \n",
              "4                                       0                                   0   \n",
              "\n",
              "   quantidadeTelefones  quantidadeTelefonesEnderecoConsistente  \n",
              "0                    3                                       3  \n",
              "1                    1                                       0  \n",
              "2                    4                                       3  \n",
              "3                    2                                       0  \n",
              "4                    2                                       2  \n",
              "\n",
              "[5 rows x 126 columns]"
            ]
          },
          "execution_count": 44,
          "metadata": {},
          "output_type": "execute_result"
        }
      ],
      "source": [
        "df_final.limit(5).toPandas()"
      ]
    },
    {
      "cell_type": "code",
      "execution_count": null,
      "id": "d1d344ef-1c9f-4305-ae44-e82041882919",
      "metadata": {
        "id": "d1d344ef-1c9f-4305-ae44-e82041882919",
        "outputId": "e3b160ea-6b98-49a9-fb34-4b534b26048e",
        "tags": []
      },
      "outputs": [
        {
          "name": "stderr",
          "output_type": "stream",
          "text": [
            "                                                                                \r"
          ]
        },
        {
          "data": {
            "text/plain": [
              "184050329"
            ]
          },
          "execution_count": 45,
          "metadata": {},
          "output_type": "execute_result"
        }
      ],
      "source": [
        "df_final.count()"
      ]
    }
  ],
  "metadata": {
    "colab": {
      "provenance": []
    },
    "kernelspec": {
      "display_name": "PySpark",
      "language": "python",
      "name": "pyspark"
    },
    "language_info": {
      "codemirror_mode": {
        "name": "ipython",
        "version": 3
      },
      "file_extension": ".py",
      "mimetype": "text/x-python",
      "name": "python",
      "nbconvert_exporter": "python",
      "pygments_lexer": "ipython3",
      "version": "3.11.8"
    }
  },
  "nbformat": 4,
  "nbformat_minor": 5
}
