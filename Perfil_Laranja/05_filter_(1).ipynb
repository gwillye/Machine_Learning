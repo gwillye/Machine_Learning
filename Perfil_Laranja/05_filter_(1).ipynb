{
  "cells": [
    {
      "cell_type": "markdown",
      "id": "86144a84-f4cf-4221-8a67-0323b67c66ec",
      "metadata": {
        "id": "86144a84-f4cf-4221-8a67-0323b67c66ec",
        "tags": []
      },
      "source": [
        "# Importando dependencias"
      ]
    },
    {
      "cell_type": "code",
      "execution_count": null,
      "id": "14d7eee5-2fb1-4496-ba6f-d7bd394669eb",
      "metadata": {
        "id": "14d7eee5-2fb1-4496-ba6f-d7bd394669eb",
        "tags": []
      },
      "outputs": [],
      "source": [
        "import pyspark.sql.functions as sf\n",
        "from pyspark.sql.window import Window\n",
        "from pyspark.sql.types import IntegerType\n",
        "from feature_store import FeatureStore, Catalog\n",
        "from pyspark.sql import DataFrame\n",
        "import time\n",
        "from pyspark.sql.functions import col, when, lit"
      ]
    },
    {
      "cell_type": "markdown",
      "id": "01f01935-447b-46db-ba72-7d9ca30743a4",
      "metadata": {
        "id": "01f01935-447b-46db-ba72-7d9ca30743a4",
        "tags": []
      },
      "source": [
        "# Pré-Tratamento dos Dados"
      ]
    },
    {
      "cell_type": "code",
      "execution_count": null,
      "id": "ec56a832-f5bf-4e55-a5a4-efb75f714802",
      "metadata": {
        "id": "ec56a832-f5bf-4e55-a5a4-efb75f714802",
        "tags": []
      },
      "outputs": [],
      "source": [
        "df = spark.read.parquet(\"gs://oculto/loss_prevention/perfil_laranja/data/perfil_laranja_clean.parquet\")"
      ]
    },
    {
      "cell_type": "code",
      "execution_count": null,
      "id": "4b49df16-0170-45f6-9449-e72d73b1f403",
      "metadata": {
        "id": "4b49df16-0170-45f6-9449-e72d73b1f403",
        "outputId": "092536dd-4043-44ec-b2e3-4403b7d54b2c",
        "tags": []
      },
      "outputs": [
        {
          "name": "stderr",
          "output_type": "stream",
          "text": [
            "                                                                                \r"
          ]
        }
      ],
      "source": [
        "total = df.count()"
      ]
    },
    {
      "cell_type": "code",
      "execution_count": null,
      "id": "d84cc283-4f37-481e-8ffe-9b91e338dc72",
      "metadata": {
        "id": "d84cc283-4f37-481e-8ffe-9b91e338dc72",
        "outputId": "38a76ea1-69d1-43d0-fc03-ce9db1637dc5",
        "tags": []
      },
      "outputs": [
        {
          "data": {
            "text/plain": [
              "184050329"
            ]
          },
          "execution_count": 14,
          "metadata": {},
          "output_type": "execute_result"
        }
      ],
      "source": [
        "total"
      ]
    },
    {
      "cell_type": "code",
      "execution_count": null,
      "id": "4cbe8949-2e85-4fcc-b932-3c97887b2bed",
      "metadata": {
        "id": "4cbe8949-2e85-4fcc-b932-3c97887b2bed",
        "outputId": "a0f5d5e0-12d2-48f5-a6bd-623c423fa322",
        "tags": []
      },
      "outputs": [
        {
          "name": "stderr",
          "output_type": "stream",
          "text": [
            "[Stage 23:=====================================================>  (24 + 1) / 25]\r"
          ]
        },
        {
          "name": "stdout",
          "output_type": "stream",
          "text": [
            "110168045\n"
          ]
        },
        {
          "name": "stderr",
          "output_type": "stream",
          "text": [
            "                                                                                \r"
          ]
        }
      ],
      "source": [
        "print(df.filter(sf.col(\"flagBaixaRenda\") == 1).count())"
      ]
    },
    {
      "cell_type": "code",
      "execution_count": null,
      "id": "05a69872-dafe-4a42-8217-de304881e154",
      "metadata": {
        "id": "05a69872-dafe-4a42-8217-de304881e154",
        "outputId": "45858c19-eb39-427f-fb00-2e90a0fe17d9",
        "tags": []
      },
      "outputs": [
        {
          "name": "stderr",
          "output_type": "stream",
          "text": [
            "[Stage 26:=================================================>      (22 + 3) / 25]\r"
          ]
        },
        {
          "name": "stdout",
          "output_type": "stream",
          "text": [
            "39328358\n"
          ]
        },
        {
          "name": "stderr",
          "output_type": "stream",
          "text": [
            "                                                                                \r"
          ]
        }
      ],
      "source": [
        "print(df.filter(sf.col(\"flagMediaRenda\") == 1).count())"
      ]
    },
    {
      "cell_type": "code",
      "execution_count": null,
      "id": "f9e5cbf2-ee14-4728-a2d3-3be9f96e3eb3",
      "metadata": {
        "id": "f9e5cbf2-ee14-4728-a2d3-3be9f96e3eb3",
        "outputId": "97561f7f-da17-4ed5-8b26-286f28b54521",
        "tags": []
      },
      "outputs": [
        {
          "name": "stderr",
          "output_type": "stream",
          "text": [
            "[Stage 29:=====================================================>  (24 + 1) / 25]\r"
          ]
        },
        {
          "name": "stdout",
          "output_type": "stream",
          "text": [
            "12096582\n"
          ]
        },
        {
          "name": "stderr",
          "output_type": "stream",
          "text": [
            "                                                                                \r"
          ]
        }
      ],
      "source": [
        "print(df.filter(sf.col(\"flagAltaRenda\") == 1).count())"
      ]
    },
    {
      "cell_type": "code",
      "execution_count": null,
      "id": "791775e5-21f3-42b6-a80d-93680c4a6ad6",
      "metadata": {
        "id": "791775e5-21f3-42b6-a80d-93680c4a6ad6",
        "tags": []
      },
      "outputs": [],
      "source": [
        "from functools import reduce\n",
        "\n",
        "cols = df.columns\n",
        "\n",
        "# Cria a expressão que soma 1 para cada zero encontrado em uma linha\n",
        "zero_count_expr = reduce(\n",
        "    lambda a, b: a + b,\n",
        "    [when(col(c) == 0, 1).otherwise(0) for c in cols]\n",
        ")\n",
        "\n",
        "df = df.withColumn(\"qtd_zeros\", zero_count_expr)"
      ]
    },
    {
      "cell_type": "code",
      "execution_count": null,
      "id": "41affe8d-b2a4-4fc3-98ad-eaf393450ed7",
      "metadata": {
        "id": "41affe8d-b2a4-4fc3-98ad-eaf393450ed7",
        "tags": []
      },
      "outputs": [],
      "source": [
        "df_group = (\n",
        "    df.groupBy('qtd_zeros')\n",
        "    .agg(sf.count('*').alias('count'))\n",
        "    .withColumn('proportion', sf.round((sf.col('count') / sf.lit(total))*100, 5))\n",
        "    .sort(\"qtd_zeros\", ascending=False)\n",
        ")"
      ]
    },
    {
      "cell_type": "code",
      "execution_count": null,
      "id": "00f29af2-fb3a-4bc2-8029-8d5d1d363327",
      "metadata": {
        "id": "00f29af2-fb3a-4bc2-8029-8d5d1d363327",
        "tags": []
      },
      "outputs": [],
      "source": [
        "janela = Window.orderBy(sf.desc(\"qtd_zeros\")).rowsBetween(Window.unboundedPreceding, Window.currentRow)\n",
        "\n",
        "# Soma acumulada da coluna \"x\"\n",
        "df_group = df_group.withColumn(\"proportion_acumulado\", sf.sum(\"proportion\").over(janela))"
      ]
    },
    {
      "cell_type": "code",
      "execution_count": null,
      "id": "16247f40-fab8-46f2-b2ff-87394b44e59f",
      "metadata": {
        "id": "16247f40-fab8-46f2-b2ff-87394b44e59f",
        "outputId": "d480df44-6e0c-4fae-cc65-6edf570cd65e",
        "tags": []
      },
      "outputs": [
        {
          "name": "stderr",
          "output_type": "stream",
          "text": [
            "25/04/10 18:54:43 WARN WindowExec: No Partition Defined for Window operation! Moving all data to a single partition, this can cause serious performance degradation.\n",
            "25/04/10 18:54:43 WARN WindowExec: No Partition Defined for Window operation! Moving all data to a single partition, this can cause serious performance degradation.\n",
            "25/04/10 18:54:43 WARN WindowExec: No Partition Defined for Window operation! Moving all data to a single partition, this can cause serious performance degradation.\n",
            "25/04/10 18:55:32 WARN WindowExec: No Partition Defined for Window operation! Moving all data to a single partition, this can cause serious performance degradation.\n",
            "25/04/10 18:55:32 WARN WindowExec: No Partition Defined for Window operation! Moving all data to a single partition, this can cause serious performance degradation.\n",
            "25/04/10 18:55:32 WARN WindowExec: No Partition Defined for Window operation! Moving all data to a single partition, this can cause serious performance degradation.\n",
            "25/04/10 18:55:32 WARN WindowExec: No Partition Defined for Window operation! Moving all data to a single partition, this can cause serious performance degradation.\n",
            "25/04/10 18:55:32 WARN WindowExec: No Partition Defined for Window operation! Moving all data to a single partition, this can cause serious performance degradation.\n",
            "25/04/10 18:55:32 WARN WindowExec: No Partition Defined for Window operation! Moving all data to a single partition, this can cause serious performance degradation.\n"
          ]
        },
        {
          "name": "stdout",
          "output_type": "stream",
          "text": [
            "+---------+--------+----------+--------------------+\n",
            "|qtd_zeros|   count|proportion|proportion_acumulado|\n",
            "+---------+--------+----------+--------------------+\n",
            "|      112|      37|    2.0E-5|              2.0E-5|\n",
            "|      111| 8762382|   4.76086|             4.76088|\n",
            "|      110|22289631|  12.11062|             16.8715|\n",
            "|      109| 9768417|   5.30747|            22.17897|\n",
            "|      108|18928700|  10.28452|            32.46349|\n",
            "|      107|17102955|   9.29254|            41.75603|\n",
            "|      106|16384661|   8.90227|  50.658300000000004|\n",
            "|      105|16783035|   9.11872|   59.77702000000001|\n",
            "|      104|15209925|     8.264|            68.04102|\n",
            "|      103|13153932|   7.14692|            75.18794|\n",
            "|      102|11222677|   6.09761|            81.28555|\n",
            "|      101| 9329709|   5.06911|            86.35466|\n",
            "|      100| 7571079|   4.11359|            90.46825|\n",
            "|       99| 5596837|   3.04093|            93.50918|\n",
            "|       98| 3773757|   2.05039|   95.55957000000001|\n",
            "|       97| 2483878|   1.34956|            96.90913|\n",
            "|       96| 1631908|   0.88666|   97.79579000000001|\n",
            "|       95| 1114966|   0.60579|   98.40158000000001|\n",
            "|       94|  804393|   0.43705|   98.83863000000001|\n",
            "|       93|  606861|   0.32973|            99.16836|\n",
            "+---------+--------+----------+--------------------+\n",
            "only showing top 20 rows\n",
            "\n"
          ]
        },
        {
          "name": "stderr",
          "output_type": "stream",
          "text": [
            "                                                                                \r"
          ]
        }
      ],
      "source": [
        "df_group.show()"
      ]
    },
    {
      "cell_type": "code",
      "execution_count": null,
      "id": "5c61db16-591f-4682-a22e-5720bbd757db",
      "metadata": {
        "id": "5c61db16-591f-4682-a22e-5720bbd757db",
        "outputId": "9798ac8c-32bb-4990-e8b8-1e895efa4d38",
        "tags": []
      },
      "outputs": [
        {
          "name": "stderr",
          "output_type": "stream",
          "text": [
            "                                                                                \r"
          ]
        },
        {
          "data": {
            "text/plain": [
              "17543189"
            ]
          },
          "execution_count": 23,
          "metadata": {},
          "output_type": "execute_result"
        }
      ],
      "source": [
        "df.filter(sf.col('qtd_zeros')<100).count()"
      ]
    },
    {
      "cell_type": "code",
      "execution_count": null,
      "id": "1f05ded5-b58b-4999-8a2d-0f226bcb78fc",
      "metadata": {
        "id": "1f05ded5-b58b-4999-8a2d-0f226bcb78fc",
        "tags": []
      },
      "outputs": [],
      "source": [
        "(13674989/total)*100"
      ]
    },
    {
      "cell_type": "code",
      "execution_count": null,
      "id": "a98ba631-99f6-45ba-92a2-0182b9a4e2b3",
      "metadata": {
        "id": "a98ba631-99f6-45ba-92a2-0182b9a4e2b3",
        "outputId": "67164b18-5665-4d15-af8b-8de323461037",
        "tags": []
      },
      "outputs": [
        {
          "data": {
            "text/plain": [
              "9.531734659382217"
            ]
          },
          "execution_count": 37,
          "metadata": {},
          "output_type": "execute_result"
        }
      ],
      "source": [
        "(17543189/total)*100"
      ]
    },
    {
      "cell_type": "code",
      "execution_count": null,
      "id": "7f3aadc0-306a-43a3-9a44-31f9cada992a",
      "metadata": {
        "id": "7f3aadc0-306a-43a3-9a44-31f9cada992a",
        "tags": []
      },
      "outputs": [],
      "source": [
        "baixa_renda = df.filter(sf.col(\"flagBaixaRenda\") == 1)\n",
        "media_renda = df.filter(sf.col(\"flagMediaRenda\") == 1)\n",
        "alta_renda = df.filter(sf.col(\"flagAltaRenda\") == 1)"
      ]
    },
    {
      "cell_type": "code",
      "execution_count": null,
      "id": "fbd2398f-2ae1-4c63-a7a4-18a68d0652eb",
      "metadata": {
        "id": "fbd2398f-2ae1-4c63-a7a4-18a68d0652eb",
        "outputId": "6384d04d-d37f-474d-ead8-20ee0baa6929",
        "tags": []
      },
      "outputs": [
        {
          "name": "stderr",
          "output_type": "stream",
          "text": [
            "[Stage 56:=====================================================>  (24 + 1) / 25]\r"
          ]
        },
        {
          "name": "stdout",
          "output_type": "stream",
          "text": [
            "4783994\n"
          ]
        },
        {
          "name": "stderr",
          "output_type": "stream",
          "text": [
            "                                                                                \r"
          ]
        }
      ],
      "source": [
        "print(baixa_renda.filter(sf.col('qtd_zeros')<100).count())"
      ]
    },
    {
      "cell_type": "code",
      "execution_count": null,
      "id": "2ec88909-390f-495c-9cdd-74c0f1bc06f3",
      "metadata": {
        "id": "2ec88909-390f-495c-9cdd-74c0f1bc06f3",
        "outputId": "49dbcbe7-3647-4fe2-e153-f1b98b51c828",
        "tags": []
      },
      "outputs": [
        {
          "name": "stderr",
          "output_type": "stream",
          "text": [
            "[Stage 59:=====================================================>  (24 + 1) / 25]\r"
          ]
        },
        {
          "name": "stdout",
          "output_type": "stream",
          "text": [
            "7152189\n"
          ]
        },
        {
          "name": "stderr",
          "output_type": "stream",
          "text": [
            "                                                                                \r"
          ]
        }
      ],
      "source": [
        "print(media_renda.filter(sf.col('qtd_zeros')<100).count())"
      ]
    },
    {
      "cell_type": "code",
      "execution_count": null,
      "id": "f932d7ad-26c4-438a-9ea3-16782c4ef2b9",
      "metadata": {
        "id": "f932d7ad-26c4-438a-9ea3-16782c4ef2b9",
        "outputId": "c763cbd3-0f3b-4711-d58c-58901e5c9e71",
        "tags": []
      },
      "outputs": [
        {
          "name": "stderr",
          "output_type": "stream",
          "text": [
            "[Stage 62:=====================================================>  (24 + 1) / 25]\r"
          ]
        },
        {
          "name": "stdout",
          "output_type": "stream",
          "text": [
            "5604459\n"
          ]
        },
        {
          "name": "stderr",
          "output_type": "stream",
          "text": [
            "                                                                                \r"
          ]
        }
      ],
      "source": [
        "print(alta_renda.filter(sf.col('qtd_zeros')<100).count())"
      ]
    },
    {
      "cell_type": "code",
      "execution_count": null,
      "id": "73218355-8e0e-4e4c-9978-a5a901e1badf",
      "metadata": {
        "id": "73218355-8e0e-4e4c-9978-a5a901e1badf",
        "outputId": "d3b6e89b-1eb5-4f2e-954e-c3ff30b7d41b",
        "tags": []
      },
      "outputs": [
        {
          "name": "stdout",
          "output_type": "stream",
          "text": [
            "BAIXA RENDA\n"
          ]
        },
        {
          "name": "stderr",
          "output_type": "stream",
          "text": [
            "                                                                                \r"
          ]
        },
        {
          "name": "stdout",
          "output_type": "stream",
          "text": [
            "MEDIA RENDA\n"
          ]
        },
        {
          "name": "stderr",
          "output_type": "stream",
          "text": [
            "                                                                                \r"
          ]
        },
        {
          "name": "stdout",
          "output_type": "stream",
          "text": [
            "ALTA RENDA\n"
          ]
        },
        {
          "name": "stderr",
          "output_type": "stream",
          "text": [
            "                                                                                \r"
          ]
        }
      ],
      "source": [
        "print(\"BAIXA RENDA\")\n",
        "(baixa_renda.filter(sf.col('qtd_zeros')<100)\n",
        " .drop(\"qtd_zeros\")\n",
        " .write.mode(\"overwrite\")\n",
        " .parquet(\"gs://oculto/loss_prevention/perfil_laranja/data/perfil_laranja_clean_baixaRenda_reduzido.parquet\")\n",
        ")\n",
        "print(\"MEDIA RENDA\")\n",
        "(media_renda.filter(sf.col('qtd_zeros')<100)\n",
        " .drop(\"qtd_zeros\")\n",
        " .write.mode(\"overwrite\")\n",
        " .parquet(\"gs://oculto/loss_prevention/perfil_laranja/data/perfil_laranja_clean_mediaRenda_reduzido.parquet\")\n",
        ")\n",
        "print(\"ALTA RENDA\")\n",
        "(alta_renda.filter(sf.col('qtd_zeros')<100)\n",
        " .drop(\"qtd_zeros\")\n",
        " .write.mode(\"overwrite\")\n",
        " .parquet(\"gs://oculto/loss_prevention/perfil_laranja/data/perfil_laranja_clean_altaRenda_reduzido.parquet\")\n",
        ")"
      ]
    },
    {
      "cell_type": "code",
      "execution_count": null,
      "id": "0543ba06-cfa8-48b7-96be-b95f32e19d2d",
      "metadata": {
        "id": "0543ba06-cfa8-48b7-96be-b95f32e19d2d",
        "outputId": "01cce78b-5d98-4ef7-ff33-30500728f0e8",
        "tags": []
      },
      "outputs": [
        {
          "name": "stdout",
          "output_type": "stream",
          "text": [
            "BAIXA RENDA\n"
          ]
        },
        {
          "name": "stderr",
          "output_type": "stream",
          "text": [
            "                                                                                \r"
          ]
        },
        {
          "name": "stdout",
          "output_type": "stream",
          "text": [
            "MEDIA RENDA\n"
          ]
        },
        {
          "name": "stderr",
          "output_type": "stream",
          "text": [
            "                                                                                \r"
          ]
        },
        {
          "name": "stdout",
          "output_type": "stream",
          "text": [
            "ALTA RENDA\n"
          ]
        },
        {
          "name": "stderr",
          "output_type": "stream",
          "text": [
            "                                                                                \r"
          ]
        }
      ],
      "source": [
        "print(\"BAIXA RENDA\")\n",
        "(df\n",
        " .filter(sf.col('flagBaixaRenda')==1)\n",
        " .drop(\"flagBaixaRenda\",\"flagMediaRenda\",\"flagAltaRenda\")\n",
        " .write.mode(\"overwrite\")\n",
        " .parquet(\"gs://oculto/loss_prevention/perfil_laranja/data/perfil_laranja_clean_baixaRenda.parquet\")\n",
        ")\n",
        "\n",
        "print(\"MEDIA RENDA\")\n",
        "(df\n",
        " .filter(sf.col('flagMediaRenda')==1)\n",
        " .drop(\"flagBaixaRenda\",\"flagMediaRenda\",\"flagAltaRenda\")\n",
        " .write.mode(\"overwrite\")\n",
        " .parquet(\"gs://oculto/loss_prevention/perfil_laranja/data/perfil_laranja_clean_mediaRenda.parquet\")\n",
        ")\n",
        "\n",
        "print(\"ALTA RENDA\")\n",
        "(df\n",
        " .filter(sf.col('flagAltaRenda')==1)\n",
        " .drop(\"flagBaixaRenda\",\"flagMediaRenda\",\"flagAltaRenda\")\n",
        " .write.mode(\"overwrite\")\n",
        " .parquet(\"gs://oculto/loss_prevention/perfil_laranja/data/perfil_laranja_clean_altaRenda.parquet\")\n",
        ")"
      ]
    },
    {
      "cell_type": "code",
      "execution_count": null,
      "id": "5624ce26-c76d-4e8e-b9ed-ccafe767fa0e",
      "metadata": {
        "id": "5624ce26-c76d-4e8e-b9ed-ccafe767fa0e"
      },
      "outputs": [],
      "source": []
    }
  ],
  "metadata": {
    "colab": {
      "provenance": []
    },
    "kernelspec": {
      "display_name": "PySpark",
      "language": "python",
      "name": "pyspark"
    },
    "language_info": {
      "codemirror_mode": {
        "name": "ipython",
        "version": 3
      },
      "file_extension": ".py",
      "mimetype": "text/x-python",
      "name": "python",
      "nbconvert_exporter": "python",
      "pygments_lexer": "ipython3",
      "version": "3.11.8"
    }
  },
  "nbformat": 4,
  "nbformat_minor": 5
}
